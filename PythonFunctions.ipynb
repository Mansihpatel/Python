{
 "cells": [
  {
   "cell_type": "markdown",
   "metadata": {},
   "source": [
    "### Functions"
   ]
  },
  {
   "cell_type": "markdown",
   "metadata": {},
   "source": [
    "A function is a block of organized code written to carry out a specified task.\n",
    "\n",
    "Functions help break our program into smaller and modular chunks for better readability.\n",
    "\n",
    "Information can be passed into a function as arguments.\n",
    "\n",
    "Parameters are specified after the function name inside the parentheses.\n",
    "\n",
    "We can add as many parameters as we want. Parameters must be separated with a comma.\n",
    "\n",
    "A function may or may not return data.\n",
    "\n",
    "In Python a function is defined using the def keyword"
   ]
  },
  {
   "cell_type": "markdown",
   "metadata": {},
   "source": [
    "### Parameter VS Argument"
   ]
  },
  {
   "cell_type": "markdown",
   "metadata": {},
   "source": [
    "A parameter is the variable listed inside the parentheses in the function definition.\n",
    "\n",
    "An argument is the value that is sent to the function when it is called."
   ]
  },
  {
   "cell_type": "markdown",
   "metadata": {},
   "source": [
    "### Three types of functions in Python:-\n"
   ]
  },
  {
   "cell_type": "markdown",
   "metadata": {
    "ExecuteTime": {
     "end_time": "2024-04-22T11:30:59.613607Z",
     "start_time": "2024-04-22T11:30:59.602881Z"
    }
   },
   "source": [
    "Built-in function :- Python predefined functions that are readily available for use like min() , max() , sum() , print() etc.\n",
    "\n",
    "User-Defined Functions:- Function that we define ourselves to perform a specific task.\n",
    "\n",
    "Anonymous functions : Function that is defined without a name. Anonymous functions are also called as lambda functions. They are not declared with the def keyword."
   ]
  },
  {
   "cell_type": "markdown",
   "metadata": {},
   "source": [
    "### Syntax:\n"
   ]
  },
  {
   "cell_type": "code",
   "execution_count": 2,
   "metadata": {
    "ExecuteTime": {
     "end_time": "2024-04-22T11:33:34.693885Z",
     "start_time": "2024-04-22T11:33:34.689897Z"
    }
   },
   "outputs": [],
   "source": [
    "def FunctionName(parameters):\n",
    "    \"\"\"Function DocString\"\"\"\n",
    "    statements(s)\n",
    "    return [expression]"
   ]
  },
  {
   "cell_type": "code",
   "execution_count": 5,
   "metadata": {
    "ExecuteTime": {
     "end_time": "2024-04-22T11:53:32.189743Z",
     "start_time": "2024-04-22T11:53:32.177350Z"
    }
   },
   "outputs": [
    {
     "name": "stdout",
     "output_type": "stream",
     "text": [
      "The Function will execute now \n",
      "\n",
      "Hello world\n",
      "This is python\n",
      "This is Monday\n",
      "\n",
      "The function has been executed \n",
      "\n"
     ]
    }
   ],
   "source": [
    "# Create function\n",
    "def greetings():\n",
    "    print('Hello world')\n",
    "    print('This is python')\n",
    "    print('This is Monday')\n",
    "    \n",
    "#calling a function\n",
    "print('The Function will execute now ')\n",
    "print()\n",
    "greetings()\n",
    "print('\\nThe function has been executed \\n')\n"
   ]
  },
  {
   "cell_type": "code",
   "execution_count": 20,
   "metadata": {
    "ExecuteTime": {
     "end_time": "2024-04-22T12:08:55.693245Z",
     "start_time": "2024-04-22T12:08:55.683429Z"
    }
   },
   "outputs": [
    {
     "name": "stdout",
     "output_type": "stream",
     "text": [
      "Name is :  Mansi\n",
      "Age is : 12\n",
      "Gendes is :  F\n"
     ]
    }
   ],
   "source": [
    "# Python functions with parameter\n",
    "def function_name(parameter: data_type) -> return_type:\n",
    "    \"\"\"Docstring\"\"\"\n",
    "    # body of the function\n",
    "    return expression\n",
    "\n",
    "def personal_detail(name,age,gender):\n",
    "    print('Name is : ',name)\n",
    "    print('Age is :',age)\n",
    "    print('Gendes is : ',gender)\n",
    "    \n",
    "personal_detail('Mansi',12,'F') "
   ]
  },
  {
   "cell_type": "code",
   "execution_count": 27,
   "metadata": {
    "ExecuteTime": {
     "end_time": "2024-04-22T12:11:41.050842Z",
     "start_time": "2024-04-22T12:11:41.042434Z"
    }
   },
   "outputs": [
    {
     "name": "stdout",
     "output_type": "stream",
     "text": [
      "30.3\n"
     ]
    }
   ],
   "source": [
    "def add(num1: float, num2: int) -> int:\n",
    "    \"\"\"Add two numbers\"\"\"\n",
    "    num3 = num1 + num2\n",
    "    return num3\n",
    "\n",
    "ans = add(10.2, 20.1)\n",
    "print(ans)"
   ]
  },
  {
   "cell_type": "code",
   "execution_count": 21,
   "metadata": {
    "ExecuteTime": {
     "end_time": "2024-04-22T12:08:56.192305Z",
     "start_time": "2024-04-22T12:08:56.182992Z"
    }
   },
   "outputs": [
    {
     "data": {
      "text/plain": [
       "4.521599999999999"
      ]
     },
     "execution_count": 21,
     "metadata": {},
     "output_type": "execute_result"
    }
   ],
   "source": [
    "def calculate_area(rad,circlename):\n",
    "    area = 3.14*rad*rad\n",
    "    return area \n",
    "\n",
    "area1 = calculate_area(1.2,'circle1')\n",
    "area1 \n"
   ]
  },
  {
   "cell_type": "code",
   "execution_count": 22,
   "metadata": {
    "ExecuteTime": {
     "end_time": "2024-04-22T12:08:56.641337Z",
     "start_time": "2024-04-22T12:08:56.618441Z"
    },
    "scrolled": true
   },
   "outputs": [
    {
     "name": "stdout",
     "output_type": "stream",
     "text": [
      "Name is :  MAnsi\n",
      "Age is : 37\n",
      "Gendes is :  F\n",
      "Name is :  Ruchi\n",
      "Age is : 33\n",
      "Gendes is :  F\n",
      "None\n",
      "None\n"
     ]
    }
   ],
   "source": [
    "emp1 = personal_detail('MAnsi',37,'F')\n",
    "emp2 = personal_detail('Ruchi',33,'F')\n",
    "print(emp1)\n",
    "print(emp2)"
   ]
  },
  {
   "cell_type": "code",
   "execution_count": 29,
   "metadata": {
    "ExecuteTime": {
     "end_time": "2024-04-22T12:15:46.512142Z",
     "start_time": "2024-04-22T12:15:46.495397Z"
    }
   },
   "outputs": [
    {
     "name": "stdout",
     "output_type": "stream",
     "text": [
      "Number is odd\n"
     ]
    }
   ],
   "source": [
    "#evenodd function\n",
    "def evenodd(n):\n",
    "    if n%2==0:\n",
    "        print('Number is even')\n",
    "    else:\n",
    "        print('Number is odd')\n",
    "        \n",
    "evenodd(5)\n"
   ]
  },
  {
   "cell_type": "markdown",
   "metadata": {},
   "source": [
    "## Types of Python Function Arguments\n"
   ]
  },
  {
   "cell_type": "markdown",
   "metadata": {
    "ExecuteTime": {
     "end_time": "2024-04-22T12:16:41.088240Z",
     "start_time": "2024-04-22T12:16:41.072027Z"
    }
   },
   "source": [
    "Default argument\n",
    "\n",
    "Keyword arguments (named arguments)\n",
    "\n",
    "Positional arguments\n",
    "\n",
    "Arbitrary arguments (variable-length arguments *args and **kwargs)"
   ]
  },
  {
   "cell_type": "code",
   "execution_count": 31,
   "metadata": {
    "ExecuteTime": {
     "end_time": "2024-04-22T12:28:42.279314Z",
     "start_time": "2024-04-22T12:28:42.252751Z"
    }
   },
   "outputs": [
    {
     "name": "stdout",
     "output_type": "stream",
     "text": [
      "x:  10\n",
      "y:  50\n"
     ]
    }
   ],
   "source": [
    "#Default arguments\n",
    "\n",
    "def myFun(x, y=50):\n",
    "    print(\"x: \", x)\n",
    "    print(\"y: \", y)\n",
    "\n",
    "    \n",
    "myFun(10)"
   ]
  },
  {
   "cell_type": "code",
   "execution_count": 32,
   "metadata": {
    "ExecuteTime": {
     "end_time": "2024-04-22T12:30:57.970790Z",
     "start_time": "2024-04-22T12:30:57.952551Z"
    }
   },
   "outputs": [
    {
     "name": "stdout",
     "output_type": "stream",
     "text": [
      "Name is :  Ram\n",
      "Age is :  25\n",
      "Gender is :  Male\n"
     ]
    }
   ],
   "source": [
    "#Keyword Arguments\n",
    "\n",
    "# The idea is to allow the caller to specify the argument name with \n",
    "#values so that the caller does not need to remember the order of parameters.\n",
    "\n",
    "def greeting(name,age,gender) :\n",
    "  print('Name is : ',name)\n",
    "  print('Age is : ',age)\n",
    "  print('Gender is : ',gender)\n",
    "\n",
    "greeting(age=25,gender='Male',name='Ram')"
   ]
  },
  {
   "cell_type": "code",
   "execution_count": null,
   "metadata": {},
   "outputs": [],
   "source": [
    "#"
   ]
  },
  {
   "cell_type": "code",
   "execution_count": 49,
   "metadata": {
    "ExecuteTime": {
     "end_time": "2024-04-22T12:46:23.783359Z",
     "start_time": "2024-04-22T12:46:23.760285Z"
    }
   },
   "outputs": [
    {
     "name": "stdout",
     "output_type": "stream",
     "text": [
      "Mrs MAnsi"
     ]
    }
   ],
   "source": [
    "#Arbitrary Keyword  Arguments\n",
    "\n",
    "# In Python Arbitrary Keyword Arguments, *args, and **kwargs can pass a variable number of arguments to \n",
    "#a function using special symbols. There are two special symbols:\n",
    "\n",
    "# *args in Python (Non-Keyword Arguments)\n",
    "# **kwargs in Python (Keyword Arguments)\n",
    "\n",
    "# def myfunc(*args):\n",
    "#     for i in args:\n",
    "#         print(i,end='')\n",
    "\n",
    "# myfunc(1,2,3,4)\n",
    "\n",
    "\n",
    "#**************************\n",
    "def greeting(**kwargs):\n",
    "    for i in kwargs:\n",
    "        print(kwargs[i],end='')\n",
    "\n",
    "greeting(salutation = 'Mrs ',Name = 'MAnsi')\n"
   ]
  },
  {
   "cell_type": "markdown",
   "metadata": {},
   "source": [
    "## Docstring\n"
   ]
  },
  {
   "cell_type": "markdown",
   "metadata": {},
   "source": [
    "The first string after the function is called the Document string or Docstring in short.\n",
    "\n",
    "This is used to describe the functionality of the function. \n",
    "\n",
    "The use of docstring in functions is optional but it is considered a good practice."
   ]
  },
  {
   "cell_type": "code",
   "execution_count": 51,
   "metadata": {
    "ExecuteTime": {
     "end_time": "2024-04-22T12:50:02.473346Z",
     "start_time": "2024-04-22T12:50:02.467331Z"
    }
   },
   "outputs": [
    {
     "name": "stdout",
     "output_type": "stream",
     "text": [
      "None\n"
     ]
    }
   ],
   "source": [
    "Syntax: print(function_name.__doc__) # to check docstring\n"
   ]
  },
  {
   "cell_type": "code",
   "execution_count": 53,
   "metadata": {
    "ExecuteTime": {
     "end_time": "2024-04-22T12:51:27.953595Z",
     "start_time": "2024-04-22T12:51:27.943727Z"
    }
   },
   "outputs": [
    {
     "name": "stdout",
     "output_type": "stream",
     "text": [
      "Function to check if the number is even or odd\n"
     ]
    }
   ],
   "source": [
    "# A simple Python function to check\n",
    "# whether x is even or odd\n",
    "\n",
    "def evenOdd(x):\n",
    "    \"\"\"Function to check if the number is even or odd\"\"\"\n",
    "    \n",
    "    if (x % 2 == 0):\n",
    "        print(\"even\")\n",
    "    else:\n",
    "        print(\"odd\")\n",
    "\n",
    "\n",
    "#call the function\n",
    "print(evenOdd.__doc__)"
   ]
  },
  {
   "cell_type": "markdown",
   "metadata": {},
   "source": [
    "## Python Function within Functions\n"
   ]
  },
  {
   "cell_type": "code",
   "execution_count": 59,
   "metadata": {
    "ExecuteTime": {
     "end_time": "2024-04-22T13:01:17.434738Z",
     "start_time": "2024-04-22T13:01:17.427187Z"
    }
   },
   "outputs": [
    {
     "name": "stdout",
     "output_type": "stream",
     "text": [
      "Hi its inner\n",
      "Hello Mansi\n"
     ]
    }
   ],
   "source": [
    "#Inner Function or Nested Function\n",
    "\n",
    "def func1():\n",
    "    s = 'Hello Mansi'\n",
    "    def func2():\n",
    "         \n",
    "        print('Hi its inner')\n",
    "        print(s)\n",
    "    \n",
    "    func2()\n",
    "\n",
    "func1()"
   ]
  },
  {
   "cell_type": "code",
   "execution_count": 64,
   "metadata": {
    "ExecuteTime": {
     "end_time": "2024-04-22T13:05:00.970470Z",
     "start_time": "2024-04-22T13:05:00.954434Z"
    }
   },
   "outputs": [
    {
     "name": "stdout",
     "output_type": "stream",
     "text": [
      "Hello, Good morning!\n"
     ]
    }
   ],
   "source": [
    "#Passing Functions as Arguments\n",
    "\n",
    "def greetings():\n",
    "    print('Hello, Good morning!')\n",
    "    \n",
    "def myFunct(fun):\n",
    "    fun()\n",
    "    \n",
    "myFunct(greetings)\n"
   ]
  },
  {
   "cell_type": "markdown",
   "metadata": {},
   "source": [
    "## Recursion"
   ]
  },
  {
   "cell_type": "markdown",
   "metadata": {},
   "source": [
    "Recursion in Python refers to when a function calls itself."
   ]
  },
  {
   "cell_type": "code",
   "execution_count": 69,
   "metadata": {
    "ExecuteTime": {
     "end_time": "2024-04-22T13:13:40.241544Z",
     "start_time": "2024-04-22T13:13:40.214015Z"
    }
   },
   "outputs": [
    {
     "name": "stdout",
     "output_type": "stream",
     "text": [
      "Hello World -  5\n",
      "Hello World -  4\n",
      "Hello World -  3\n",
      "Hello World -  2\n",
      "Hello World -  1\n",
      "\n",
      "Recursion Completed!!\n"
     ]
    }
   ],
   "source": [
    "def greeting(num) :\n",
    "  if num > 0 :\n",
    "    print('Hello World - ',num)\n",
    "    greeting(num-1)                # Recusrive Condition / Case\n",
    "  else :\n",
    "    print('\\nRecursion Completed!!')\n",
    "    \n",
    "    \n",
    "greeting(5)"
   ]
  },
  {
   "cell_type": "code",
   "execution_count": null,
   "metadata": {
    "ExecuteTime": {
     "end_time": "2024-04-22T13:26:07.596557Z",
     "start_time": "2024-04-22T13:25:52.421Z"
    }
   },
   "outputs": [],
   "source": [
    "def factorial(num) :\n",
    "  if num >= 1 :\n",
    "    return (num * factorial(num - 1))\n",
    "  else :\n",
    "    return 1\n",
    "\n",
    "fact = factorial(5)\n",
    "print('\\nThe factorial of 5 is : ',fact)"
   ]
  },
  {
   "cell_type": "code",
   "execution_count": null,
   "metadata": {},
   "outputs": [],
   "source": []
  }
 ],
 "metadata": {
  "kernelspec": {
   "display_name": "Python 3",
   "language": "python",
   "name": "python3"
  },
  "language_info": {
   "codemirror_mode": {
    "name": "ipython",
    "version": 3
   },
   "file_extension": ".py",
   "mimetype": "text/x-python",
   "name": "python",
   "nbconvert_exporter": "python",
   "pygments_lexer": "ipython3",
   "version": "3.7.6"
  }
 },
 "nbformat": 4,
 "nbformat_minor": 4
}
