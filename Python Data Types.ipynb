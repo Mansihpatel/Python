{
 "cells": [
  {
   "cell_type": "markdown",
   "metadata": {},
   "source": [
    "# List"
   ]
  },
  {
   "cell_type": "markdown",
   "metadata": {},
   "source": [
    "List is mutable\n",
    "\n",
    "List is an ordered sequence of items.\n",
    "\n",
    "We can have different data types under a list. E.g we can have integer, float and string items in a same list."
   ]
  },
  {
   "cell_type": "markdown",
   "metadata": {},
   "source": [
    "### List creation"
   ]
  },
  {
   "cell_type": "code",
   "execution_count": 1,
   "metadata": {
    "ExecuteTime": {
     "end_time": "2024-04-16T16:30:49.497030Z",
     "start_time": "2024-04-16T16:30:49.468306Z"
    }
   },
   "outputs": [],
   "source": [
    "list1=[] #empty list"
   ]
  },
  {
   "cell_type": "code",
   "execution_count": 2,
   "metadata": {
    "ExecuteTime": {
     "end_time": "2024-04-16T16:31:11.095806Z",
     "start_time": "2024-04-16T16:31:11.069278Z"
    }
   },
   "outputs": [
    {
     "name": "stdout",
     "output_type": "stream",
     "text": [
      "<class 'list'>\n"
     ]
    }
   ],
   "source": [
    "print(type(list1))#type of list"
   ]
  },
  {
   "cell_type": "code",
   "execution_count": 26,
   "metadata": {
    "ExecuteTime": {
     "end_time": "2024-04-16T16:43:47.739028Z",
     "start_time": "2024-04-16T16:43:47.726161Z"
    }
   },
   "outputs": [
    {
     "name": "stdout",
     "output_type": "stream",
     "text": [
      "['__add__', '__class__', '__contains__', '__delattr__', '__delitem__', '__dir__', '__doc__', '__eq__', '__format__', '__ge__', '__getattribute__', '__getitem__', '__gt__', '__hash__', '__iadd__', '__imul__', '__init__', '__init_subclass__', '__iter__', '__le__', '__len__', '__lt__', '__mul__', '__ne__', '__new__', '__reduce__', '__reduce_ex__', '__repr__', '__reversed__', '__rmul__', '__setattr__', '__setitem__', '__sizeof__', '__str__', '__subclasshook__', 'append', 'clear', 'copy', 'count', 'extend', 'index', 'insert', 'pop', 'remove', 'reverse', 'sort']\n"
     ]
    }
   ],
   "source": [
    "print(dir(list)) #This will show all the methods of list"
   ]
  },
  {
   "cell_type": "code",
   "execution_count": 27,
   "metadata": {
    "ExecuteTime": {
     "end_time": "2024-04-16T16:54:59.705597Z",
     "start_time": "2024-04-16T16:54:59.684381Z"
    }
   },
   "outputs": [],
   "source": [
    "# List of integers numbers\n",
    "list2 = [10,30,60]"
   ]
  },
  {
   "cell_type": "code",
   "execution_count": 28,
   "metadata": {
    "ExecuteTime": {
     "end_time": "2024-04-16T16:55:25.045964Z",
     "start_time": "2024-04-16T16:55:25.039214Z"
    }
   },
   "outputs": [],
   "source": [
    "# List of float numbers\n",
    "list3=[10.77,30.66,60.89]"
   ]
  },
  {
   "cell_type": "code",
   "execution_count": 29,
   "metadata": {
    "ExecuteTime": {
     "end_time": "2024-04-16T16:55:55.684672Z",
     "start_time": "2024-04-16T16:55:55.665290Z"
    }
   },
   "outputs": [],
   "source": [
    "# List of strings\n",
    "list4=[\"one\",\"Two\",\"Three\"]"
   ]
  },
  {
   "cell_type": "code",
   "execution_count": 30,
   "metadata": {
    "ExecuteTime": {
     "end_time": "2024-04-16T16:56:42.607702Z",
     "start_time": "2024-04-16T16:56:42.594124Z"
    }
   },
   "outputs": [],
   "source": [
    "# Nested Lists\n",
    "list5=['Mansi','Patel',[10,2.3],22,[33,45,22]]"
   ]
  },
  {
   "cell_type": "code",
   "execution_count": 31,
   "metadata": {
    "ExecuteTime": {
     "end_time": "2024-04-16T16:57:24.002843Z",
     "start_time": "2024-04-16T16:57:23.983516Z"
    }
   },
   "outputs": [],
   "source": [
    "# List of mixed data types\n",
    "list6 = ['Mansi','Patel',22.9,33]"
   ]
  },
  {
   "cell_type": "code",
   "execution_count": 33,
   "metadata": {
    "ExecuteTime": {
     "end_time": "2024-04-16T16:57:39.746813Z",
     "start_time": "2024-04-16T16:57:39.737769Z"
    }
   },
   "outputs": [
    {
     "data": {
      "text/plain": [
       "3"
      ]
     },
     "execution_count": 33,
     "metadata": {},
     "output_type": "execute_result"
    }
   ],
   "source": [
    "#Length of list\n",
    "len(list2)"
   ]
  },
  {
   "cell_type": "code",
   "execution_count": 34,
   "metadata": {
    "ExecuteTime": {
     "end_time": "2024-04-16T16:58:55.897610Z",
     "start_time": "2024-04-16T16:58:55.876131Z"
    }
   },
   "outputs": [
    {
     "data": {
      "text/plain": [
       "10.77"
      ]
     },
     "execution_count": 34,
     "metadata": {},
     "output_type": "execute_result"
    }
   ],
   "source": [
    "# Retreive first element of the list\n",
    "list3[0]    "
   ]
  },
  {
   "cell_type": "code",
   "execution_count": 35,
   "metadata": {
    "ExecuteTime": {
     "end_time": "2024-04-16T16:59:05.884844Z",
     "start_time": "2024-04-16T16:59:05.863901Z"
    }
   },
   "outputs": [
    {
     "data": {
      "text/plain": [
       "'one'"
      ]
     },
     "execution_count": 35,
     "metadata": {},
     "output_type": "execute_result"
    }
   ],
   "source": [
    "# Retreive first element of the list\n",
    "list4[0]"
   ]
  },
  {
   "cell_type": "code",
   "execution_count": 38,
   "metadata": {
    "ExecuteTime": {
     "end_time": "2024-04-16T17:00:49.047336Z",
     "start_time": "2024-04-16T17:00:49.027700Z"
    }
   },
   "outputs": [
    {
     "data": {
      "text/plain": [
       "(10, 'o')"
      ]
     },
     "execution_count": 38,
     "metadata": {},
     "output_type": "execute_result"
    }
   ],
   "source": [
    "# Nested indexing - Access the first character of the first list element\n",
    "list5[2][0],list4[0][0]"
   ]
  },
  {
   "cell_type": "code",
   "execution_count": 39,
   "metadata": {
    "ExecuteTime": {
     "end_time": "2024-04-16T17:01:20.768862Z",
     "start_time": "2024-04-16T17:01:20.750483Z"
    }
   },
   "outputs": [
    {
     "data": {
      "text/plain": [
       "'Three'"
      ]
     },
     "execution_count": 39,
     "metadata": {},
     "output_type": "execute_result"
    }
   ],
   "source": [
    "# Last item of the list\n",
    "list4[-1]"
   ]
  },
  {
   "cell_type": "code",
   "execution_count": 40,
   "metadata": {
    "ExecuteTime": {
     "end_time": "2024-04-16T17:01:33.608772Z",
     "start_time": "2024-04-16T17:01:33.591430Z"
    }
   },
   "outputs": [
    {
     "data": {
      "text/plain": [
       "[33, 45, 22]"
      ]
     },
     "execution_count": 40,
     "metadata": {},
     "output_type": "execute_result"
    }
   ],
   "source": [
    "# Last item of the list\n",
    "list5[-1]"
   ]
  },
  {
   "cell_type": "markdown",
   "metadata": {
    "ExecuteTime": {
     "end_time": "2024-04-16T16:33:56.201258Z",
     "start_time": "2024-04-16T16:33:56.186908Z"
    }
   },
   "source": [
    "### List Slicing"
   ]
  },
  {
   "cell_type": "code",
   "execution_count": 16,
   "metadata": {
    "ExecuteTime": {
     "end_time": "2024-04-16T16:34:30.005678Z",
     "start_time": "2024-04-16T16:34:29.997124Z"
    }
   },
   "outputs": [],
   "source": [
    "mylist = ['one' , 'two' , 'three' , 'four' , 'five' , 'six' , 'seven' , 'eight']"
   ]
  },
  {
   "cell_type": "code",
   "execution_count": 41,
   "metadata": {
    "ExecuteTime": {
     "end_time": "2024-04-16T17:06:45.996866Z",
     "start_time": "2024-04-16T17:06:45.977793Z"
    }
   },
   "outputs": [
    {
     "data": {
      "text/plain": [
       "['one', 'two', 'three']"
      ]
     },
     "execution_count": 41,
     "metadata": {},
     "output_type": "execute_result"
    }
   ],
   "source": [
    "# Return all items from 0th to 3rd index location excluding the item at loc 3.\n",
    "mylist[0:3]"
   ]
  },
  {
   "cell_type": "code",
   "execution_count": 42,
   "metadata": {
    "ExecuteTime": {
     "end_time": "2024-04-16T17:07:06.428744Z",
     "start_time": "2024-04-16T17:07:06.409984Z"
    }
   },
   "outputs": [
    {
     "data": {
      "text/plain": [
       "['three', 'four', 'five']"
      ]
     },
     "execution_count": 42,
     "metadata": {},
     "output_type": "execute_result"
    }
   ],
   "source": [
    "# List all items from 2nd to 5th index location excluding the item at loc 5.\n",
    "mylist[2:5]"
   ]
  },
  {
   "cell_type": "code",
   "execution_count": 43,
   "metadata": {
    "ExecuteTime": {
     "end_time": "2024-04-16T17:07:26.999534Z",
     "start_time": "2024-04-16T17:07:26.978653Z"
    }
   },
   "outputs": [
    {
     "data": {
      "text/plain": [
       "['one', 'two', 'three']"
      ]
     },
     "execution_count": 43,
     "metadata": {},
     "output_type": "execute_result"
    }
   ],
   "source": [
    "# Return first three items\n",
    "mylist[:3]"
   ]
  },
  {
   "cell_type": "code",
   "execution_count": 44,
   "metadata": {
    "ExecuteTime": {
     "end_time": "2024-04-16T17:08:18.376622Z",
     "start_time": "2024-04-16T17:08:18.367474Z"
    }
   },
   "outputs": [
    {
     "data": {
      "text/plain": [
       "['one', 'two']"
      ]
     },
     "execution_count": 44,
     "metadata": {},
     "output_type": "execute_result"
    }
   ],
   "source": [
    "# Return first two items\n",
    "mylist[:2]"
   ]
  },
  {
   "cell_type": "code",
   "execution_count": 45,
   "metadata": {
    "ExecuteTime": {
     "end_time": "2024-04-16T17:08:46.605375Z",
     "start_time": "2024-04-16T17:08:46.587425Z"
    }
   },
   "outputs": [
    {
     "data": {
      "text/plain": [
       "['six', 'seven', 'eight']"
      ]
     },
     "execution_count": 45,
     "metadata": {},
     "output_type": "execute_result"
    }
   ],
   "source": [
    "# Return last three items\n",
    "mylist[-3:]"
   ]
  },
  {
   "cell_type": "code",
   "execution_count": 46,
   "metadata": {
    "ExecuteTime": {
     "end_time": "2024-04-16T17:09:11.885352Z",
     "start_time": "2024-04-16T17:09:11.874984Z"
    }
   },
   "outputs": [
    {
     "data": {
      "text/plain": [
       "['seven', 'eight']"
      ]
     },
     "execution_count": 46,
     "metadata": {},
     "output_type": "execute_result"
    }
   ],
   "source": [
    "# Return last two items\n",
    "mylist[-2:]"
   ]
  },
  {
   "cell_type": "code",
   "execution_count": 47,
   "metadata": {
    "ExecuteTime": {
     "end_time": "2024-04-16T17:10:11.950495Z",
     "start_time": "2024-04-16T17:10:11.929351Z"
    }
   },
   "outputs": [
    {
     "data": {
      "text/plain": [
       "'eight'"
      ]
     },
     "execution_count": 47,
     "metadata": {},
     "output_type": "execute_result"
    }
   ],
   "source": [
    "# Return last item of the list\n",
    "mylist[-1]"
   ]
  },
  {
   "cell_type": "code",
   "execution_count": 49,
   "metadata": {
    "ExecuteTime": {
     "end_time": "2024-04-16T17:10:42.186614Z",
     "start_time": "2024-04-16T17:10:42.163919Z"
    }
   },
   "outputs": [
    {
     "data": {
      "text/plain": [
       "(['one', 'two', 'three', 'four', 'five', 'six', 'seven', 'eight'],\n",
       " ['one', 'two', 'three', 'four', 'five', 'six', 'seven', 'eight'])"
      ]
     },
     "execution_count": 49,
     "metadata": {},
     "output_type": "execute_result"
    }
   ],
   "source": [
    "# Return whole list\n",
    "mylist,mylist[:]"
   ]
  },
  {
   "cell_type": "markdown",
   "metadata": {},
   "source": [
    "### Add , Remove & Change Items\n"
   ]
  },
  {
   "cell_type": "code",
   "execution_count": 50,
   "metadata": {
    "ExecuteTime": {
     "end_time": "2024-04-16T17:12:21.298290Z",
     "start_time": "2024-04-16T17:12:21.278608Z"
    }
   },
   "outputs": [
    {
     "data": {
      "text/plain": [
       "['one', 'two', 'three', 'four', 'five', 'six', 'seven', 'eight']"
      ]
     },
     "execution_count": 50,
     "metadata": {},
     "output_type": "execute_result"
    }
   ],
   "source": [
    "mylist\n"
   ]
  },
  {
   "cell_type": "code",
   "execution_count": 59,
   "metadata": {
    "ExecuteTime": {
     "end_time": "2024-04-16T17:19:50.266097Z",
     "start_time": "2024-04-16T17:19:50.249244Z"
    }
   },
   "outputs": [],
   "source": [
    "# Add an item to the end of the list \n",
    "mylist.append('nine')"
   ]
  },
  {
   "cell_type": "code",
   "execution_count": 60,
   "metadata": {
    "ExecuteTime": {
     "end_time": "2024-04-16T17:20:22.527838Z",
     "start_time": "2024-04-16T17:20:22.510773Z"
    }
   },
   "outputs": [],
   "source": [
    "# Add item at index location 9\n",
    "mylist.insert(9,'ten')"
   ]
  },
  {
   "cell_type": "code",
   "execution_count": 64,
   "metadata": {
    "ExecuteTime": {
     "end_time": "2024-04-16T17:21:15.785598Z",
     "start_time": "2024-04-16T17:21:15.771636Z"
    }
   },
   "outputs": [
    {
     "data": {
      "text/plain": [
       "['one',\n",
       " 'ONE',\n",
       " 'ONE',\n",
       " 'two',\n",
       " 'three',\n",
       " 'four',\n",
       " 'five',\n",
       " 'six',\n",
       " 'seven',\n",
       " 'eight',\n",
       " 'nine',\n",
       " 'ten']"
      ]
     },
     "execution_count": 64,
     "metadata": {},
     "output_type": "execute_result"
    }
   ],
   "source": [
    "# Add item at index location 1\n",
    "mylist.insert(1,'ONE')\n",
    "mylist"
   ]
  },
  {
   "cell_type": "code",
   "execution_count": 68,
   "metadata": {
    "ExecuteTime": {
     "end_time": "2024-04-16T17:23:40.590317Z",
     "start_time": "2024-04-16T17:23:40.578345Z"
    }
   },
   "outputs": [
    {
     "data": {
      "text/plain": [
       "['one', 'two', 'three', 'four', 'five', 'six', 'seven', 'eight', 'nine', 'ten']"
      ]
     },
     "execution_count": 68,
     "metadata": {},
     "output_type": "execute_result"
    }
   ],
   "source": [
    "# Remove item \"ONE\"\n",
    "mylist.remove('ONE')\n",
    "mylist"
   ]
  },
  {
   "cell_type": "code",
   "execution_count": 69,
   "metadata": {
    "ExecuteTime": {
     "end_time": "2024-04-16T17:24:33.326907Z",
     "start_time": "2024-04-16T17:24:33.317931Z"
    }
   },
   "outputs": [
    {
     "data": {
      "text/plain": [
       "['one', 'two', 'three', 'four', 'five', 'six', 'seven', 'eight', 'nine']"
      ]
     },
     "execution_count": 69,
     "metadata": {},
     "output_type": "execute_result"
    }
   ],
   "source": [
    "# Remove last item of the list\n",
    "mylist.pop()\n",
    "mylist "
   ]
  },
  {
   "cell_type": "code",
   "execution_count": 72,
   "metadata": {
    "ExecuteTime": {
     "end_time": "2024-04-16T17:25:08.800898Z",
     "start_time": "2024-04-16T17:25:08.787913Z"
    }
   },
   "outputs": [
    {
     "data": {
      "text/plain": [
       "['one', 'two', 'three', 'four', 'five', 'six', 'seven', 'eight']"
      ]
     },
     "execution_count": 72,
     "metadata": {},
     "output_type": "execute_result"
    }
   ],
   "source": [
    "# Remove item at index location 8\n",
    "mylist.pop(8)\n",
    "mylist"
   ]
  },
  {
   "cell_type": "code",
   "execution_count": 73,
   "metadata": {
    "ExecuteTime": {
     "end_time": "2024-04-16T17:26:07.205409Z",
     "start_time": "2024-04-16T17:26:07.192929Z"
    }
   },
   "outputs": [],
   "source": [
    "# Remove item at index location 7\n",
    "del mylist[7]"
   ]
  },
  {
   "cell_type": "code",
   "execution_count": 75,
   "metadata": {
    "ExecuteTime": {
     "end_time": "2024-04-16T17:27:36.065294Z",
     "start_time": "2024-04-16T17:27:36.045834Z"
    }
   },
   "outputs": [
    {
     "data": {
      "text/plain": [
       "[1, 2, 3, 'four', 'five', 'six', 'seven']"
      ]
     },
     "execution_count": 75,
     "metadata": {},
     "output_type": "execute_result"
    }
   ],
   "source": [
    "# Change value of the string\n",
    "mylist[0]=1\n",
    "mylist[1]=2\n",
    "mylist[2]=3\n",
    "mylist "
   ]
  },
  {
   "cell_type": "code",
   "execution_count": 76,
   "metadata": {
    "ExecuteTime": {
     "end_time": "2024-04-16T17:28:24.764547Z",
     "start_time": "2024-04-16T17:28:24.745602Z"
    }
   },
   "outputs": [],
   "source": [
    "# Empty List / Delete all items in the list\n",
    "mylist.clear()"
   ]
  },
  {
   "cell_type": "code",
   "execution_count": 77,
   "metadata": {
    "ExecuteTime": {
     "end_time": "2024-04-16T17:28:38.177486Z",
     "start_time": "2024-04-16T17:28:38.167510Z"
    }
   },
   "outputs": [
    {
     "data": {
      "text/plain": [
       "[]"
      ]
     },
     "execution_count": 77,
     "metadata": {},
     "output_type": "execute_result"
    }
   ],
   "source": [
    "mylist #verifying list"
   ]
  },
  {
   "cell_type": "code",
   "execution_count": 78,
   "metadata": {
    "ExecuteTime": {
     "end_time": "2024-04-16T17:28:42.628548Z",
     "start_time": "2024-04-16T17:28:42.619504Z"
    }
   },
   "outputs": [],
   "source": [
    "# Delete the whole list\n",
    "del mylist"
   ]
  },
  {
   "cell_type": "code",
   "execution_count": 79,
   "metadata": {
    "ExecuteTime": {
     "end_time": "2024-04-16T17:28:58.462931Z",
     "start_time": "2024-04-16T17:28:58.435474Z"
    }
   },
   "outputs": [
    {
     "ename": "NameError",
     "evalue": "name 'mylist' is not defined",
     "output_type": "error",
     "traceback": [
      "\u001b[1;31m---------------------------------------------------------------------------\u001b[0m",
      "\u001b[1;31mNameError\u001b[0m                                 Traceback (most recent call last)",
      "\u001b[1;32m<ipython-input-79-787410b875dd>\u001b[0m in \u001b[0;36m<module>\u001b[1;34m\u001b[0m\n\u001b[1;32m----> 1\u001b[1;33m \u001b[0mmylist\u001b[0m\u001b[1;33m\u001b[0m\u001b[1;33m\u001b[0m\u001b[0m\n\u001b[0m",
      "\u001b[1;31mNameError\u001b[0m: name 'mylist' is not defined"
     ]
    }
   ],
   "source": [
    "mylist #This 'll give error list is not defined'"
   ]
  },
  {
   "cell_type": "markdown",
   "metadata": {},
   "source": [
    "### Copy List\n"
   ]
  },
  {
   "cell_type": "code",
   "execution_count": 80,
   "metadata": {
    "ExecuteTime": {
     "end_time": "2024-04-16T17:29:36.961868Z",
     "start_time": "2024-04-16T17:29:36.941922Z"
    }
   },
   "outputs": [],
   "source": [
    "mylist = ['one', 'two', 'three', 'four', 'five', 'six', 'seven', 'eight', 'nine', 'ten']\n"
   ]
  },
  {
   "cell_type": "code",
   "execution_count": 82,
   "metadata": {
    "ExecuteTime": {
     "end_time": "2024-04-16T17:30:58.808791Z",
     "start_time": "2024-04-16T17:30:58.794820Z"
    }
   },
   "outputs": [],
   "source": [
    "mylist1 = mylist#create a new refrence mylist1"
   ]
  },
  {
   "cell_type": "code",
   "execution_count": 84,
   "metadata": {
    "ExecuteTime": {
     "end_time": "2024-04-16T17:31:29.506214Z",
     "start_time": "2024-04-16T17:31:29.485270Z"
    }
   },
   "outputs": [
    {
     "data": {
      "text/plain": [
       "(2110535433032, 2110535433032)"
      ]
     },
     "execution_count": 84,
     "metadata": {},
     "output_type": "execute_result"
    }
   ],
   "source": [
    "id(mylist),id(mylist1) #The address of both mylist & mylist1 will be the same as both are pointing to same list."
   ]
  },
  {
   "cell_type": "code",
   "execution_count": 85,
   "metadata": {
    "ExecuteTime": {
     "end_time": "2024-04-16T17:32:08.866555Z",
     "start_time": "2024-04-16T17:32:08.853591Z"
    }
   },
   "outputs": [],
   "source": [
    "# Create a copy of the list\n",
    "mylist2 = mylist.copy()"
   ]
  },
  {
   "cell_type": "code",
   "execution_count": 87,
   "metadata": {
    "ExecuteTime": {
     "end_time": "2024-04-16T17:32:45.780101Z",
     "start_time": "2024-04-16T17:32:45.766130Z"
    }
   },
   "outputs": [
    {
     "data": {
      "text/plain": [
       "(2110535433032, 2110531912584)"
      ]
     },
     "execution_count": 87,
     "metadata": {},
     "output_type": "execute_result"
    }
   ],
   "source": [
    "id(mylist),id(mylist2) # The address of mylist2 will be different from mylist because mylist2 is pointing to the copy of the existing list"
   ]
  },
  {
   "cell_type": "code",
   "execution_count": 88,
   "metadata": {
    "ExecuteTime": {
     "end_time": "2024-04-16T17:33:04.534274Z",
     "start_time": "2024-04-16T17:33:04.521306Z"
    }
   },
   "outputs": [],
   "source": [
    "mylist[0] = 1"
   ]
  },
  {
   "cell_type": "code",
   "execution_count": 89,
   "metadata": {
    "ExecuteTime": {
     "end_time": "2024-04-16T17:33:12.353445Z",
     "start_time": "2024-04-16T17:33:12.335493Z"
    }
   },
   "outputs": [
    {
     "data": {
      "text/plain": [
       "[1, 'two', 'three', 'four', 'five', 'six', 'seven', 'eight', 'nine', 'ten']"
      ]
     },
     "execution_count": 89,
     "metadata": {},
     "output_type": "execute_result"
    }
   ],
   "source": [
    "mylist "
   ]
  },
  {
   "cell_type": "code",
   "execution_count": 90,
   "metadata": {
    "ExecuteTime": {
     "end_time": "2024-04-16T17:33:34.034689Z",
     "start_time": "2024-04-16T17:33:34.024711Z"
    }
   },
   "outputs": [
    {
     "data": {
      "text/plain": [
       "[1, 'two', 'three', 'four', 'five', 'six', 'seven', 'eight', 'nine', 'ten']"
      ]
     },
     "execution_count": 90,
     "metadata": {},
     "output_type": "execute_result"
    }
   ],
   "source": [
    "mylist1 # mylist1 also updated with new value due to same id"
   ]
  },
  {
   "cell_type": "code",
   "execution_count": 92,
   "metadata": {
    "ExecuteTime": {
     "end_time": "2024-04-16T17:34:41.883036Z",
     "start_time": "2024-04-16T17:34:41.866082Z"
    }
   },
   "outputs": [
    {
     "data": {
      "text/plain": [
       "['one', 'two', 'three', 'four', 'five', 'six', 'seven', 'eight', 'nine', 'ten']"
      ]
     },
     "execution_count": 92,
     "metadata": {},
     "output_type": "execute_result"
    }
   ],
   "source": [
    "mylist2 # Copy of list won't be impacted due to changes made on the original list"
   ]
  },
  {
   "cell_type": "markdown",
   "metadata": {},
   "source": [
    "### Join Lists\n"
   ]
  },
  {
   "cell_type": "code",
   "execution_count": 93,
   "metadata": {
    "ExecuteTime": {
     "end_time": "2024-04-16T17:35:08.759673Z",
     "start_time": "2024-04-16T17:35:08.752686Z"
    }
   },
   "outputs": [],
   "source": [
    "list1 = ['one', 'two', 'three', 'four']\n",
    "list2 = ['five', 'six', 'seven', 'eight']"
   ]
  },
  {
   "cell_type": "code",
   "execution_count": 94,
   "metadata": {
    "ExecuteTime": {
     "end_time": "2024-04-16T17:35:34.849355Z",
     "start_time": "2024-04-16T17:35:34.827412Z"
    }
   },
   "outputs": [
    {
     "data": {
      "text/plain": [
       "['one', 'two', 'three', 'four', 'five', 'six', 'seven', 'eight']"
      ]
     },
     "execution_count": 94,
     "metadata": {},
     "output_type": "execute_result"
    }
   ],
   "source": [
    "list1+list2 # Join two lists by '+' operator"
   ]
  },
  {
   "cell_type": "code",
   "execution_count": 96,
   "metadata": {
    "ExecuteTime": {
     "end_time": "2024-04-16T17:37:12.840982Z",
     "start_time": "2024-04-16T17:37:12.826024Z"
    }
   },
   "outputs": [
    {
     "data": {
      "text/plain": [
       "['one',\n",
       " 'two',\n",
       " 'three',\n",
       " 'four',\n",
       " 'five',\n",
       " 'six',\n",
       " 'seven',\n",
       " 'eight',\n",
       " 'five',\n",
       " 'six',\n",
       " 'seven',\n",
       " 'eight']"
      ]
     },
     "execution_count": 96,
     "metadata": {},
     "output_type": "execute_result"
    }
   ],
   "source": [
    "list1.extend(list2) #append list2 with list1\n",
    "list1 "
   ]
  },
  {
   "cell_type": "markdown",
   "metadata": {},
   "source": [
    "### List Membership\n"
   ]
  },
  {
   "cell_type": "code",
   "execution_count": 97,
   "metadata": {
    "ExecuteTime": {
     "end_time": "2024-04-16T17:37:34.492218Z",
     "start_time": "2024-04-16T17:37:34.480242Z"
    }
   },
   "outputs": [
    {
     "data": {
      "text/plain": [
       "['one',\n",
       " 'two',\n",
       " 'three',\n",
       " 'four',\n",
       " 'five',\n",
       " 'six',\n",
       " 'seven',\n",
       " 'eight',\n",
       " 'five',\n",
       " 'six',\n",
       " 'seven',\n",
       " 'eight']"
      ]
     },
     "execution_count": 97,
     "metadata": {},
     "output_type": "execute_result"
    }
   ],
   "source": [
    "list1 "
   ]
  },
  {
   "cell_type": "code",
   "execution_count": 98,
   "metadata": {
    "ExecuteTime": {
     "end_time": "2024-04-16T17:37:48.594906Z",
     "start_time": "2024-04-16T17:37:48.574960Z"
    }
   },
   "outputs": [
    {
     "data": {
      "text/plain": [
       "True"
      ]
     },
     "execution_count": 98,
     "metadata": {},
     "output_type": "execute_result"
    }
   ],
   "source": [
    "'one' in list1 # Check if 'one' exist in the list"
   ]
  },
  {
   "cell_type": "code",
   "execution_count": 100,
   "metadata": {
    "ExecuteTime": {
     "end_time": "2024-04-16T17:38:14.905867Z",
     "start_time": "2024-04-16T17:38:14.886947Z"
    }
   },
   "outputs": [
    {
     "data": {
      "text/plain": [
       "False"
      ]
     },
     "execution_count": 100,
     "metadata": {},
     "output_type": "execute_result"
    }
   ],
   "source": [
    "'1' in list1 # Check if '1' exist in the list"
   ]
  },
  {
   "cell_type": "code",
   "execution_count": 101,
   "metadata": {
    "ExecuteTime": {
     "end_time": "2024-04-16T17:38:31.471476Z",
     "start_time": "2024-04-16T17:38:31.459500Z"
    }
   },
   "outputs": [
    {
     "data": {
      "text/plain": [
       "False"
      ]
     },
     "execution_count": 101,
     "metadata": {},
     "output_type": "execute_result"
    }
   ],
   "source": [
    "'ten' in list1 # Check if 'ten' exist in the list"
   ]
  },
  {
   "cell_type": "code",
   "execution_count": 103,
   "metadata": {
    "ExecuteTime": {
     "end_time": "2024-04-16T17:40:05.081545Z",
     "start_time": "2024-04-16T17:40:05.074602Z"
    }
   },
   "outputs": [
    {
     "name": "stdout",
     "output_type": "stream",
     "text": [
      "Three is present in the list\n"
     ]
    }
   ],
   "source": [
    "# Check if 'three' exist in the list\n",
    "if 'three' in list1:\n",
    "    print('Three is present in the list')\n",
    "else:\n",
    "    print('Three is not present in the list')"
   ]
  },
  {
   "cell_type": "markdown",
   "metadata": {
    "ExecuteTime": {
     "end_time": "2024-04-16T16:38:46.637373Z",
     "start_time": "2024-04-16T16:38:46.619863Z"
    }
   },
   "source": [
    "### Reverse & Sort List\n"
   ]
  },
  {
   "cell_type": "code",
   "execution_count": 107,
   "metadata": {
    "ExecuteTime": {
     "end_time": "2024-04-16T17:41:20.504257Z",
     "start_time": "2024-04-16T17:41:20.485308Z"
    }
   },
   "outputs": [],
   "source": [
    "mylist= ['one' 'two', 'three', 'four', 'five', 'six', 'seven', 'eight', 'nine', 'ten']"
   ]
  },
  {
   "cell_type": "code",
   "execution_count": 108,
   "metadata": {
    "ExecuteTime": {
     "end_time": "2024-04-16T17:41:21.742748Z",
     "start_time": "2024-04-16T17:41:21.722276Z"
    }
   },
   "outputs": [
    {
     "data": {
      "text/plain": [
       "['ten', 'nine', 'eight', 'seven', 'six', 'five', 'four', 'three', 'onetwo']"
      ]
     },
     "execution_count": 108,
     "metadata": {},
     "output_type": "execute_result"
    }
   ],
   "source": [
    "mylist.reverse()\n",
    "mylist "
   ]
  },
  {
   "cell_type": "code",
   "execution_count": 112,
   "metadata": {
    "ExecuteTime": {
     "end_time": "2024-04-16T17:42:23.829279Z",
     "start_time": "2024-04-16T17:42:23.818311Z"
    }
   },
   "outputs": [
    {
     "data": {
      "text/plain": [
       "['three', 'ten', 'six', 'seven', 'onetwo', 'nine', 'four', 'five', 'eight']"
      ]
     },
     "execution_count": 112,
     "metadata": {},
     "output_type": "execute_result"
    }
   ],
   "source": [
    "mylist[::-1]"
   ]
  },
  {
   "cell_type": "markdown",
   "metadata": {},
   "source": [
    "sort VS sorted"
   ]
  },
  {
   "cell_type": "code",
   "execution_count": 115,
   "metadata": {
    "ExecuteTime": {
     "end_time": "2024-04-16T17:46:48.475067Z",
     "start_time": "2024-04-16T17:46:48.467090Z"
    }
   },
   "outputs": [],
   "source": [
    "listS =[10,23,12,6,88,28,123]"
   ]
  },
  {
   "cell_type": "code",
   "execution_count": 119,
   "metadata": {
    "ExecuteTime": {
     "end_time": "2024-04-16T17:48:36.720890Z",
     "start_time": "2024-04-16T17:48:36.709921Z"
    }
   },
   "outputs": [
    {
     "name": "stdout",
     "output_type": "stream",
     "text": [
      "['eight', 'five', 'four', 'nine', 'onetwo', 'seven', 'six', 'ten', 'three']\n",
      "[6, 10, 12, 23, 28, 88, 123]\n",
      "['three', 'ten', 'six', 'seven', 'onetwo', 'nine', 'four', 'five', 'eight']\n",
      "[123, 88, 28, 23, 12, 10, 6]\n"
     ]
    }
   ],
   "source": [
    "mylist.sort()# Sort list in ascending order\n",
    "print(mylist)\n",
    "listS.sort()\n",
    "print(listS)\n",
    "mylist.sort(reverse=True)#Sort list in descending order\n",
    "print(mylist)\n",
    "listS.sort(reverse=True)\n",
    "print(listS)"
   ]
  },
  {
   "cell_type": "code",
   "execution_count": 122,
   "metadata": {
    "ExecuteTime": {
     "end_time": "2024-04-16T17:49:47.488287Z",
     "start_time": "2024-04-16T17:49:47.468813Z"
    }
   },
   "outputs": [],
   "source": [
    "listS =[10,23,12,6,88,28,123]"
   ]
  },
  {
   "cell_type": "code",
   "execution_count": 125,
   "metadata": {
    "ExecuteTime": {
     "end_time": "2024-04-16T17:50:54.524404Z",
     "start_time": "2024-04-16T17:50:54.511441Z"
    }
   },
   "outputs": [
    {
     "name": "stdout",
     "output_type": "stream",
     "text": [
      "[6, 10, 12, 23, 28, 88, 123]\n"
     ]
    },
    {
     "data": {
      "text/plain": [
       "[10, 23, 12, 6, 88, 28, 123]"
      ]
     },
     "execution_count": 125,
     "metadata": {},
     "output_type": "execute_result"
    }
   ],
   "source": [
    "# sorted Returns a new sorted list and doesn't change original list\n",
    "print(sorted(listS))\n",
    "listS "
   ]
  },
  {
   "cell_type": "markdown",
   "metadata": {},
   "source": [
    "### Loop through a list\n"
   ]
  },
  {
   "cell_type": "code",
   "execution_count": 126,
   "metadata": {
    "ExecuteTime": {
     "end_time": "2024-04-16T17:51:05.800475Z",
     "start_time": "2024-04-16T17:51:05.783008Z"
    }
   },
   "outputs": [
    {
     "data": {
      "text/plain": [
       "['one',\n",
       " 'two',\n",
       " 'three',\n",
       " 'four',\n",
       " 'five',\n",
       " 'six',\n",
       " 'seven',\n",
       " 'eight',\n",
       " 'five',\n",
       " 'six',\n",
       " 'seven',\n",
       " 'eight']"
      ]
     },
     "execution_count": 126,
     "metadata": {},
     "output_type": "execute_result"
    }
   ],
   "source": [
    "list1"
   ]
  },
  {
   "cell_type": "code",
   "execution_count": 127,
   "metadata": {
    "ExecuteTime": {
     "end_time": "2024-04-16T17:51:24.058869Z",
     "start_time": "2024-04-16T17:51:24.051888Z"
    },
    "scrolled": true
   },
   "outputs": [
    {
     "name": "stdout",
     "output_type": "stream",
     "text": [
      "one\n",
      "two\n",
      "three\n",
      "four\n",
      "five\n",
      "six\n",
      "seven\n",
      "eight\n",
      "five\n",
      "six\n",
      "seven\n",
      "eight\n"
     ]
    }
   ],
   "source": [
    "for i in list1:\n",
    "    print(i)"
   ]
  },
  {
   "cell_type": "code",
   "execution_count": 128,
   "metadata": {
    "ExecuteTime": {
     "end_time": "2024-04-16T17:51:41.149242Z",
     "start_time": "2024-04-16T17:51:41.138754Z"
    }
   },
   "outputs": [
    {
     "name": "stdout",
     "output_type": "stream",
     "text": [
      "(0, 'one')\n",
      "(1, 'two')\n",
      "(2, 'three')\n",
      "(3, 'four')\n",
      "(4, 'five')\n",
      "(5, 'six')\n",
      "(6, 'seven')\n",
      "(7, 'eight')\n",
      "(8, 'five')\n",
      "(9, 'six')\n",
      "(10, 'seven')\n",
      "(11, 'eight')\n"
     ]
    }
   ],
   "source": [
    "for i in enumerate(list1):\n",
    "    print(i)"
   ]
  },
  {
   "cell_type": "markdown",
   "metadata": {},
   "source": [
    "\n",
    "### Count"
   ]
  },
  {
   "cell_type": "code",
   "execution_count": 130,
   "metadata": {
    "ExecuteTime": {
     "end_time": "2024-04-16T17:52:52.734139Z",
     "start_time": "2024-04-16T17:52:52.714183Z"
    }
   },
   "outputs": [],
   "source": [
    "list10 =['one', 'two', 'three', 'four', 'one', 'one', 'two', 'three']\n"
   ]
  },
  {
   "cell_type": "code",
   "execution_count": 132,
   "metadata": {
    "ExecuteTime": {
     "end_time": "2024-04-16T17:53:04.225585Z",
     "start_time": "2024-04-16T17:53:04.217609Z"
    }
   },
   "outputs": [
    {
     "data": {
      "text/plain": [
       "3"
      ]
     },
     "execution_count": 132,
     "metadata": {},
     "output_type": "execute_result"
    }
   ],
   "source": [
    "list10.count('one')# Number of times item \"one\" occurred in the list."
   ]
  },
  {
   "cell_type": "code",
   "execution_count": 133,
   "metadata": {
    "ExecuteTime": {
     "end_time": "2024-04-16T17:53:17.818293Z",
     "start_time": "2024-04-16T17:53:17.810296Z"
    }
   },
   "outputs": [
    {
     "data": {
      "text/plain": [
       "2"
      ]
     },
     "execution_count": 133,
     "metadata": {},
     "output_type": "execute_result"
    }
   ],
   "source": [
    "list10.count('two')# Number of times item \"two\" occurred in the list."
   ]
  },
  {
   "cell_type": "markdown",
   "metadata": {},
   "source": [
    "### All / Any\n"
   ]
  },
  {
   "cell_type": "code",
   "execution_count": null,
   "metadata": {},
   "outputs": [],
   "source": []
  },
  {
   "cell_type": "markdown",
   "metadata": {},
   "source": [
    "### List Comprehence"
   ]
  },
  {
   "cell_type": "code",
   "execution_count": null,
   "metadata": {},
   "outputs": [],
   "source": []
  },
  {
   "cell_type": "markdown",
   "metadata": {},
   "source": [
    "# Tuples"
   ]
  },
  {
   "cell_type": "markdown",
   "metadata": {},
   "source": [
    "1.Tuple is similar to List except that the objects in tuple are immutable which means we cannot change the elements of a tuple once assigned.\n",
    "\n",
    "2.When we do not want to change the data over time, tuple is a preferred data type.\n",
    "\n",
    "3.Iterating over the elements of a tuple is faster compared to iterating over a list."
   ]
  },
  {
   "cell_type": "markdown",
   "metadata": {},
   "source": [
    "### Tuple Creation"
   ]
  },
  {
   "cell_type": "code",
   "execution_count": 156,
   "metadata": {
    "ExecuteTime": {
     "end_time": "2024-04-17T07:21:54.688346Z",
     "start_time": "2024-04-17T07:21:54.682383Z"
    }
   },
   "outputs": [],
   "source": [
    "# Empty tuple\n",
    "tup1 = ()"
   ]
  },
  {
   "cell_type": "code",
   "execution_count": 157,
   "metadata": {
    "ExecuteTime": {
     "end_time": "2024-04-17T07:22:17.147155Z",
     "start_time": "2024-04-17T07:22:17.134191Z"
    }
   },
   "outputs": [],
   "source": [
    "# tuple of integers numbers\n",
    "tup2 = (10,20,30)"
   ]
  },
  {
   "cell_type": "code",
   "execution_count": 158,
   "metadata": {
    "ExecuteTime": {
     "end_time": "2024-04-17T07:22:49.988275Z",
     "start_time": "2024-04-17T07:22:49.983287Z"
    }
   },
   "outputs": [],
   "source": [
    "# tuple of float numbers\n",
    "tup3 = (10.20,20.22,30)"
   ]
  },
  {
   "cell_type": "code",
   "execution_count": 159,
   "metadata": {
    "ExecuteTime": {
     "end_time": "2024-04-17T07:23:14.497563Z",
     "start_time": "2024-04-17T07:23:14.488588Z"
    }
   },
   "outputs": [],
   "source": [
    "# tuple of strings\n",
    "tup4 = ('Mansi','patel','Ahmedabad')"
   ]
  },
  {
   "cell_type": "code",
   "execution_count": 160,
   "metadata": {
    "ExecuteTime": {
     "end_time": "2024-04-17T07:24:32.239425Z",
     "start_time": "2024-04-17T07:24:32.233442Z"
    }
   },
   "outputs": [],
   "source": [
    "# Nested tuple\n",
    "tup5 = ('MAnsi',28,(40,100),(23,22),('aba',20))"
   ]
  },
  {
   "cell_type": "code",
   "execution_count": 161,
   "metadata": {
    "ExecuteTime": {
     "end_time": "2024-04-17T07:24:53.916775Z",
     "start_time": "2024-04-17T07:24:53.909581Z"
    }
   },
   "outputs": [],
   "source": [
    "# Tuple of mixed data types\n",
    "tup6 = ('Mansi','12,True')"
   ]
  },
  {
   "cell_type": "code",
   "execution_count": 162,
   "metadata": {
    "ExecuteTime": {
     "end_time": "2024-04-17T07:25:36.272171Z",
     "start_time": "2024-04-17T07:25:36.266186Z"
    }
   },
   "outputs": [],
   "source": [
    "tup7 = (10,[12,22,33],{1,2,3},{'name':'Mansi'})"
   ]
  },
  {
   "cell_type": "code",
   "execution_count": 163,
   "metadata": {
    "ExecuteTime": {
     "end_time": "2024-04-17T07:26:03.106320Z",
     "start_time": "2024-04-17T07:26:03.096336Z"
    }
   },
   "outputs": [
    {
     "data": {
      "text/plain": [
       "4"
      ]
     },
     "execution_count": 163,
     "metadata": {},
     "output_type": "execute_result"
    }
   ],
   "source": [
    "len(tup7)#Length of tuple"
   ]
  },
  {
   "cell_type": "markdown",
   "metadata": {},
   "source": [
    "### Tuple Indexing\n"
   ]
  },
  {
   "cell_type": "code",
   "execution_count": 164,
   "metadata": {
    "ExecuteTime": {
     "end_time": "2024-04-17T07:30:10.928263Z",
     "start_time": "2024-04-17T07:30:10.921766Z"
    }
   },
   "outputs": [
    {
     "data": {
      "text/plain": [
       "10"
      ]
     },
     "execution_count": 164,
     "metadata": {},
     "output_type": "execute_result"
    }
   ],
   "source": [
    "# Retreive first element of the tuple\n",
    "tup2[0]"
   ]
  },
  {
   "cell_type": "code",
   "execution_count": 165,
   "metadata": {
    "ExecuteTime": {
     "end_time": "2024-04-17T07:30:21.897799Z",
     "start_time": "2024-04-17T07:30:21.891786Z"
    }
   },
   "outputs": [
    {
     "data": {
      "text/plain": [
       "'Mansi'"
      ]
     },
     "execution_count": 165,
     "metadata": {},
     "output_type": "execute_result"
    }
   ],
   "source": [
    "# Retreive first element of the tuple\n",
    "tup4[0]"
   ]
  },
  {
   "cell_type": "code",
   "execution_count": 166,
   "metadata": {
    "ExecuteTime": {
     "end_time": "2024-04-17T07:32:46.234728Z",
     "start_time": "2024-04-17T07:32:46.228742Z"
    }
   },
   "outputs": [
    {
     "data": {
      "text/plain": [
       "'M'"
      ]
     },
     "execution_count": 166,
     "metadata": {},
     "output_type": "execute_result"
    }
   ],
   "source": [
    "# Nested indexing - Access the first character of the first tuple element\n",
    "tup4[0][0]"
   ]
  },
  {
   "cell_type": "code",
   "execution_count": 167,
   "metadata": {
    "ExecuteTime": {
     "end_time": "2024-04-17T07:33:03.962431Z",
     "start_time": "2024-04-17T07:33:03.949440Z"
    }
   },
   "outputs": [
    {
     "data": {
      "text/plain": [
       "'Ahmedabad'"
      ]
     },
     "execution_count": 167,
     "metadata": {},
     "output_type": "execute_result"
    }
   ],
   "source": [
    "# Last item of the tuple\n",
    "tup4[-1]"
   ]
  },
  {
   "cell_type": "code",
   "execution_count": 168,
   "metadata": {
    "ExecuteTime": {
     "end_time": "2024-04-17T07:33:15.690479Z",
     "start_time": "2024-04-17T07:33:15.684491Z"
    }
   },
   "outputs": [
    {
     "data": {
      "text/plain": [
       "'Ahmedabad'"
      ]
     },
     "execution_count": 168,
     "metadata": {},
     "output_type": "execute_result"
    }
   ],
   "source": [
    "# Last item of the tuple\n",
    "tup4[-1]"
   ]
  },
  {
   "cell_type": "markdown",
   "metadata": {},
   "source": [
    "### Tuple Slicing\n"
   ]
  },
  {
   "cell_type": "code",
   "execution_count": 169,
   "metadata": {
    "ExecuteTime": {
     "end_time": "2024-04-17T07:33:31.501931Z",
     "start_time": "2024-04-17T07:33:31.497942Z"
    }
   },
   "outputs": [],
   "source": [
    "mytuple = ('one' , 'two' , 'three' , 'four' , 'five' , 'six' , 'seven' , 'eight')"
   ]
  },
  {
   "cell_type": "code",
   "execution_count": 170,
   "metadata": {
    "ExecuteTime": {
     "end_time": "2024-04-17T07:34:12.818351Z",
     "start_time": "2024-04-17T07:34:12.803367Z"
    }
   },
   "outputs": [
    {
     "data": {
      "text/plain": [
       "('one', 'two', 'three')"
      ]
     },
     "execution_count": 170,
     "metadata": {},
     "output_type": "execute_result"
    }
   ],
   "source": [
    "# Return all items from 0th to 3rd index location excluding the item at loc 3.\n",
    "mytuple[0:3]"
   ]
  },
  {
   "cell_type": "code",
   "execution_count": 171,
   "metadata": {
    "ExecuteTime": {
     "end_time": "2024-04-17T07:34:35.990906Z",
     "start_time": "2024-04-17T07:34:35.980933Z"
    }
   },
   "outputs": [
    {
     "data": {
      "text/plain": [
       "('three', 'four', 'five')"
      ]
     },
     "execution_count": 171,
     "metadata": {},
     "output_type": "execute_result"
    }
   ],
   "source": [
    "# List all items from 2nd to 5th index location excluding the item at loc 5.\n",
    "mytuple[2:5]"
   ]
  },
  {
   "cell_type": "code",
   "execution_count": 172,
   "metadata": {
    "ExecuteTime": {
     "end_time": "2024-04-17T07:34:56.585896Z",
     "start_time": "2024-04-17T07:34:56.571420Z"
    }
   },
   "outputs": [
    {
     "data": {
      "text/plain": [
       "('one', 'two', 'three')"
      ]
     },
     "execution_count": 172,
     "metadata": {},
     "output_type": "execute_result"
    }
   ],
   "source": [
    "# Return first three items\n",
    "mytuple[:3]"
   ]
  },
  {
   "cell_type": "code",
   "execution_count": 173,
   "metadata": {
    "ExecuteTime": {
     "end_time": "2024-04-17T07:35:15.268444Z",
     "start_time": "2024-04-17T07:35:15.248498Z"
    }
   },
   "outputs": [
    {
     "data": {
      "text/plain": [
       "('one', 'two')"
      ]
     },
     "execution_count": 173,
     "metadata": {},
     "output_type": "execute_result"
    }
   ],
   "source": [
    "# Return first two items\n",
    "mytuple[:2]"
   ]
  },
  {
   "cell_type": "code",
   "execution_count": 174,
   "metadata": {
    "ExecuteTime": {
     "end_time": "2024-04-17T07:35:34.894050Z",
     "start_time": "2024-04-17T07:35:34.883079Z"
    }
   },
   "outputs": [
    {
     "data": {
      "text/plain": [
       "('six', 'seven', 'eight')"
      ]
     },
     "execution_count": 174,
     "metadata": {},
     "output_type": "execute_result"
    }
   ],
   "source": [
    "# Return last three items\n",
    "mytuple[-3:]"
   ]
  },
  {
   "cell_type": "code",
   "execution_count": 175,
   "metadata": {
    "ExecuteTime": {
     "end_time": "2024-04-17T07:35:46.440856Z",
     "start_time": "2024-04-17T07:35:46.431882Z"
    }
   },
   "outputs": [
    {
     "data": {
      "text/plain": [
       "('seven', 'eight')"
      ]
     },
     "execution_count": 175,
     "metadata": {},
     "output_type": "execute_result"
    }
   ],
   "source": [
    "# Return last two items\n",
    "mytuple[-2:]"
   ]
  },
  {
   "cell_type": "code",
   "execution_count": 176,
   "metadata": {
    "ExecuteTime": {
     "end_time": "2024-04-17T07:36:02.448525Z",
     "start_time": "2024-04-17T07:36:02.431544Z"
    }
   },
   "outputs": [
    {
     "data": {
      "text/plain": [
       "'eight'"
      ]
     },
     "execution_count": 176,
     "metadata": {},
     "output_type": "execute_result"
    }
   ],
   "source": [
    "# Return last item of the tuple\n",
    "mytuple[-1]"
   ]
  },
  {
   "cell_type": "code",
   "execution_count": 177,
   "metadata": {
    "ExecuteTime": {
     "end_time": "2024-04-17T07:36:31.526580Z",
     "start_time": "2024-04-17T07:36:31.512615Z"
    }
   },
   "outputs": [
    {
     "data": {
      "text/plain": [
       "('one', 'two', 'three', 'four', 'five', 'six', 'seven', 'eight')"
      ]
     },
     "execution_count": 177,
     "metadata": {},
     "output_type": "execute_result"
    }
   ],
   "source": [
    "# Return whole tuple\n",
    "mytuple[:]"
   ]
  },
  {
   "cell_type": "markdown",
   "metadata": {},
   "source": [
    "### Remove & Change Items\n"
   ]
  },
  {
   "cell_type": "code",
   "execution_count": 178,
   "metadata": {
    "ExecuteTime": {
     "end_time": "2024-04-17T07:36:39.265027Z",
     "start_time": "2024-04-17T07:36:39.245564Z"
    }
   },
   "outputs": [
    {
     "data": {
      "text/plain": [
       "('one', 'two', 'three', 'four', 'five', 'six', 'seven', 'eight')"
      ]
     },
     "execution_count": 178,
     "metadata": {},
     "output_type": "execute_result"
    }
   ],
   "source": [
    "mytuple\n"
   ]
  },
  {
   "cell_type": "code",
   "execution_count": 179,
   "metadata": {
    "ExecuteTime": {
     "end_time": "2024-04-17T07:36:54.920747Z",
     "start_time": "2024-04-17T07:36:54.902799Z"
    }
   },
   "outputs": [
    {
     "ename": "TypeError",
     "evalue": "'tuple' object doesn't support item deletion",
     "output_type": "error",
     "traceback": [
      "\u001b[1;31m---------------------------------------------------------------------------\u001b[0m",
      "\u001b[1;31mTypeError\u001b[0m                                 Traceback (most recent call last)",
      "\u001b[1;32m<ipython-input-179-9e8c2c3a41c1>\u001b[0m in \u001b[0;36m<module>\u001b[1;34m\u001b[0m\n\u001b[0;32m      1\u001b[0m \u001b[1;31m# Tuples are immutable which means we can't DELETE tuple items\u001b[0m\u001b[1;33m\u001b[0m\u001b[1;33m\u001b[0m\u001b[1;33m\u001b[0m\u001b[0m\n\u001b[1;32m----> 2\u001b[1;33m \u001b[1;32mdel\u001b[0m \u001b[0mmytuple\u001b[0m\u001b[1;33m[\u001b[0m\u001b[1;36m0\u001b[0m\u001b[1;33m]\u001b[0m\u001b[1;33m\u001b[0m\u001b[1;33m\u001b[0m\u001b[0m\n\u001b[0m",
      "\u001b[1;31mTypeError\u001b[0m: 'tuple' object doesn't support item deletion"
     ]
    }
   ],
   "source": [
    "# Tuples are immutable which means we can't DELETE tuple items\n",
    "del mytuple[0]"
   ]
  },
  {
   "cell_type": "code",
   "execution_count": 180,
   "metadata": {
    "ExecuteTime": {
     "end_time": "2024-04-17T07:37:20.165139Z",
     "start_time": "2024-04-17T07:37:20.146184Z"
    }
   },
   "outputs": [
    {
     "ename": "TypeError",
     "evalue": "'tuple' object does not support item assignment",
     "output_type": "error",
     "traceback": [
      "\u001b[1;31m---------------------------------------------------------------------------\u001b[0m",
      "\u001b[1;31mTypeError\u001b[0m                                 Traceback (most recent call last)",
      "\u001b[1;32m<ipython-input-180-0483e80c73b3>\u001b[0m in \u001b[0;36m<module>\u001b[1;34m\u001b[0m\n\u001b[0;32m      1\u001b[0m \u001b[1;31m# Tuples are immutable which means we can't CHANGE tuple items\u001b[0m\u001b[1;33m\u001b[0m\u001b[1;33m\u001b[0m\u001b[1;33m\u001b[0m\u001b[0m\n\u001b[1;32m----> 2\u001b[1;33m \u001b[0mmytuple\u001b[0m\u001b[1;33m[\u001b[0m\u001b[1;36m0\u001b[0m\u001b[1;33m]\u001b[0m\u001b[1;33m=\u001b[0m\u001b[1;34m'ONE'\u001b[0m\u001b[1;33m\u001b[0m\u001b[1;33m\u001b[0m\u001b[0m\n\u001b[0m",
      "\u001b[1;31mTypeError\u001b[0m: 'tuple' object does not support item assignment"
     ]
    }
   ],
   "source": [
    "# Tuples are immutable which means we can't CHANGE tuple items\n",
    "mytuple[0]='ONE'"
   ]
  },
  {
   "cell_type": "code",
   "execution_count": 181,
   "metadata": {
    "ExecuteTime": {
     "end_time": "2024-04-17T07:37:28.939378Z",
     "start_time": "2024-04-17T07:37:28.922362Z"
    }
   },
   "outputs": [],
   "source": [
    "# Deleting entire tuple object is possible\n",
    "del mytuple"
   ]
  },
  {
   "cell_type": "code",
   "execution_count": 182,
   "metadata": {
    "ExecuteTime": {
     "end_time": "2024-04-17T07:37:41.733473Z",
     "start_time": "2024-04-17T07:37:41.716515Z"
    }
   },
   "outputs": [
    {
     "ename": "NameError",
     "evalue": "name 'mytuple' is not defined",
     "output_type": "error",
     "traceback": [
      "\u001b[1;31m---------------------------------------------------------------------------\u001b[0m",
      "\u001b[1;31mNameError\u001b[0m                                 Traceback (most recent call last)",
      "\u001b[1;32m<ipython-input-182-c6c21778968d>\u001b[0m in \u001b[0;36m<module>\u001b[1;34m\u001b[0m\n\u001b[1;32m----> 1\u001b[1;33m \u001b[0mmytuple\u001b[0m\u001b[1;33m\u001b[0m\u001b[1;33m\u001b[0m\u001b[0m\n\u001b[0m",
      "\u001b[1;31mNameError\u001b[0m: name 'mytuple' is not defined"
     ]
    }
   ],
   "source": [
    "mytuple"
   ]
  },
  {
   "cell_type": "markdown",
   "metadata": {},
   "source": [
    "### Loop through a tuple\n"
   ]
  },
  {
   "cell_type": "code",
   "execution_count": 184,
   "metadata": {
    "ExecuteTime": {
     "end_time": "2024-04-17T07:38:11.371621Z",
     "start_time": "2024-04-17T07:38:11.360654Z"
    }
   },
   "outputs": [],
   "source": [
    "mytuple = ('one' , 'two' , 'three' , 'four' , 'five' , 'six' , 'seven' , 'eight')"
   ]
  },
  {
   "cell_type": "code",
   "execution_count": 185,
   "metadata": {
    "ExecuteTime": {
     "end_time": "2024-04-17T07:38:22.205323Z",
     "start_time": "2024-04-17T07:38:22.195829Z"
    }
   },
   "outputs": [
    {
     "name": "stdout",
     "output_type": "stream",
     "text": [
      "one\n",
      "two\n",
      "three\n",
      "four\n",
      "five\n",
      "six\n",
      "seven\n",
      "eight\n"
     ]
    }
   ],
   "source": [
    "for i in mytuple:\n",
    "    print(i)"
   ]
  },
  {
   "cell_type": "code",
   "execution_count": 186,
   "metadata": {
    "ExecuteTime": {
     "end_time": "2024-04-17T07:38:50.438092Z",
     "start_time": "2024-04-17T07:38:50.425163Z"
    }
   },
   "outputs": [
    {
     "name": "stdout",
     "output_type": "stream",
     "text": [
      "(0, 'one')\n",
      "(1, 'two')\n",
      "(2, 'three')\n",
      "(3, 'four')\n",
      "(4, 'five')\n",
      "(5, 'six')\n",
      "(6, 'seven')\n",
      "(7, 'eight')\n"
     ]
    }
   ],
   "source": [
    "for i in enumerate(mytuple):\n",
    "    print(i)"
   ]
  },
  {
   "cell_type": "markdown",
   "metadata": {},
   "source": [
    "### Count\n"
   ]
  },
  {
   "cell_type": "code",
   "execution_count": 187,
   "metadata": {
    "ExecuteTime": {
     "end_time": "2024-04-17T07:39:16.613824Z",
     "start_time": "2024-04-17T07:39:16.609836Z"
    }
   },
   "outputs": [],
   "source": [
    "mytuple1 =('one', 'two', 'three', 'four', 'one', 'one', 'two', 'three')"
   ]
  },
  {
   "cell_type": "code",
   "execution_count": 192,
   "metadata": {
    "ExecuteTime": {
     "end_time": "2024-04-17T07:43:03.097197Z",
     "start_time": "2024-04-17T07:43:03.088221Z"
    }
   },
   "outputs": [
    {
     "data": {
      "text/plain": [
       "3"
      ]
     },
     "execution_count": 192,
     "metadata": {},
     "output_type": "execute_result"
    }
   ],
   "source": [
    "# Number of times item \"one\" occurred in the tuple.\n",
    "mytuple1.count('one')"
   ]
  },
  {
   "cell_type": "code",
   "execution_count": 193,
   "metadata": {
    "ExecuteTime": {
     "end_time": "2024-04-17T07:43:14.593633Z",
     "start_time": "2024-04-17T07:43:14.573689Z"
    }
   },
   "outputs": [
    {
     "data": {
      "text/plain": [
       "2"
      ]
     },
     "execution_count": 193,
     "metadata": {},
     "output_type": "execute_result"
    }
   ],
   "source": [
    "# Occurence of item 'two' in the tuple\n",
    "mytuple1.count('two')"
   ]
  },
  {
   "cell_type": "code",
   "execution_count": 194,
   "metadata": {
    "ExecuteTime": {
     "end_time": "2024-04-17T07:43:23.744395Z",
     "start_time": "2024-04-17T07:43:23.729363Z"
    }
   },
   "outputs": [
    {
     "data": {
      "text/plain": [
       "1"
      ]
     },
     "execution_count": 194,
     "metadata": {},
     "output_type": "execute_result"
    }
   ],
   "source": [
    "#Occurence of item 'four' in the tuple\n",
    "mytuple1.count('four')"
   ]
  },
  {
   "cell_type": "code",
   "execution_count": 196,
   "metadata": {
    "ExecuteTime": {
     "end_time": "2024-04-17T07:44:05.371669Z",
     "start_time": "2024-04-17T07:44:05.335796Z"
    }
   },
   "outputs": [
    {
     "data": {
      "text/plain": [
       "0"
      ]
     },
     "execution_count": 196,
     "metadata": {},
     "output_type": "execute_result"
    }
   ],
   "source": [
    "#Occurence of item 'fifteen' in the tuple\n",
    "mytuple1.count('fifteen')"
   ]
  },
  {
   "cell_type": "markdown",
   "metadata": {},
   "source": [
    "### Tuple Membership\n"
   ]
  },
  {
   "cell_type": "code",
   "execution_count": 197,
   "metadata": {
    "ExecuteTime": {
     "end_time": "2024-04-17T07:44:38.427635Z",
     "start_time": "2024-04-17T07:44:38.421668Z"
    }
   },
   "outputs": [
    {
     "data": {
      "text/plain": [
       "True"
      ]
     },
     "execution_count": 197,
     "metadata": {},
     "output_type": "execute_result"
    }
   ],
   "source": [
    "'one' in mytuple  # Check if 'one' exist in the tuple"
   ]
  },
  {
   "cell_type": "code",
   "execution_count": 199,
   "metadata": {
    "ExecuteTime": {
     "end_time": "2024-04-17T07:45:20.624005Z",
     "start_time": "2024-04-17T07:45:20.608518Z"
    }
   },
   "outputs": [
    {
     "data": {
      "text/plain": [
       "False"
      ]
     },
     "execution_count": 199,
     "metadata": {},
     "output_type": "execute_result"
    }
   ],
   "source": [
    "1 in mytuple  # Check if '1' exist in the tuple"
   ]
  },
  {
   "cell_type": "code",
   "execution_count": 200,
   "metadata": {
    "ExecuteTime": {
     "end_time": "2024-04-17T07:46:23.620531Z",
     "start_time": "2024-04-17T07:46:23.613551Z"
    }
   },
   "outputs": [
    {
     "name": "stdout",
     "output_type": "stream",
     "text": [
      "Three is present\n"
     ]
    }
   ],
   "source": [
    "# Check if 'three' exist in the list\n",
    "if 'three' in mytuple:\n",
    "    print('Three is present')\n",
    "else:\n",
    "    print('Three is not present')"
   ]
  },
  {
   "cell_type": "code",
   "execution_count": 202,
   "metadata": {
    "ExecuteTime": {
     "end_time": "2024-04-17T07:46:51.657501Z",
     "start_time": "2024-04-17T07:46:51.650520Z"
    }
   },
   "outputs": [
    {
     "name": "stdout",
     "output_type": "stream",
     "text": [
      "eleven is not present in the tuple\n"
     ]
    }
   ],
   "source": [
    "# Check if 'eleven' exist in the list\n",
    "if 'eleven' in mytuple:  \n",
    "    print('eleven is present in the tuple')\n",
    "else:\n",
    "    print('eleven is not present in the tuple')"
   ]
  },
  {
   "cell_type": "markdown",
   "metadata": {},
   "source": [
    "### Index Position\n"
   ]
  },
  {
   "cell_type": "code",
   "execution_count": 203,
   "metadata": {
    "ExecuteTime": {
     "end_time": "2024-04-17T07:47:04.079573Z",
     "start_time": "2024-04-17T07:47:04.067603Z"
    }
   },
   "outputs": [
    {
     "data": {
      "text/plain": [
       "('one', 'two', 'three', 'four', 'five', 'six', 'seven', 'eight')"
      ]
     },
     "execution_count": 203,
     "metadata": {},
     "output_type": "execute_result"
    }
   ],
   "source": [
    "mytuple"
   ]
  },
  {
   "cell_type": "code",
   "execution_count": 204,
   "metadata": {
    "ExecuteTime": {
     "end_time": "2024-04-17T07:47:47.358540Z",
     "start_time": "2024-04-17T07:47:47.347565Z"
    }
   },
   "outputs": [
    {
     "data": {
      "text/plain": [
       "0"
      ]
     },
     "execution_count": 204,
     "metadata": {},
     "output_type": "execute_result"
    }
   ],
   "source": [
    "# Index of first element equal to 'one'\n",
    "mytuple.index('one')"
   ]
  },
  {
   "cell_type": "code",
   "execution_count": 205,
   "metadata": {
    "ExecuteTime": {
     "end_time": "2024-04-17T07:48:00.548144Z",
     "start_time": "2024-04-17T07:48:00.533185Z"
    }
   },
   "outputs": [
    {
     "ename": "ValueError",
     "evalue": "tuple.index(x): x not in tuple",
     "output_type": "error",
     "traceback": [
      "\u001b[1;31m---------------------------------------------------------------------------\u001b[0m",
      "\u001b[1;31mValueError\u001b[0m                                Traceback (most recent call last)",
      "\u001b[1;32m<ipython-input-205-9d58cb7f4f89>\u001b[0m in \u001b[0;36m<module>\u001b[1;34m\u001b[0m\n\u001b[0;32m      1\u001b[0m \u001b[1;31m# Index of first element equal to 'ten'\u001b[0m\u001b[1;33m\u001b[0m\u001b[1;33m\u001b[0m\u001b[1;33m\u001b[0m\u001b[0m\n\u001b[1;32m----> 2\u001b[1;33m \u001b[0mmytuple\u001b[0m\u001b[1;33m.\u001b[0m\u001b[0mindex\u001b[0m\u001b[1;33m(\u001b[0m\u001b[1;34m'ten'\u001b[0m\u001b[1;33m)\u001b[0m\u001b[1;33m\u001b[0m\u001b[1;33m\u001b[0m\u001b[0m\n\u001b[0m",
      "\u001b[1;31mValueError\u001b[0m: tuple.index(x): x not in tuple"
     ]
    }
   ],
   "source": [
    "# Index of first element equal to 'ten'\n",
    "mytuple.index('ten')"
   ]
  },
  {
   "cell_type": "markdown",
   "metadata": {},
   "source": [
    "### Sorting"
   ]
  },
  {
   "cell_type": "code",
   "execution_count": 206,
   "metadata": {
    "ExecuteTime": {
     "end_time": "2024-04-17T07:48:39.694894Z",
     "start_time": "2024-04-17T07:48:39.687913Z"
    }
   },
   "outputs": [],
   "source": [
    "mytuple2 = (43,67,99,12,6,90,67)\n"
   ]
  },
  {
   "cell_type": "code",
   "execution_count": 207,
   "metadata": {
    "ExecuteTime": {
     "end_time": "2024-04-17T07:49:07.418143Z",
     "start_time": "2024-04-17T07:49:07.403184Z"
    }
   },
   "outputs": [
    {
     "data": {
      "text/plain": [
       "['eight', 'five', 'four', 'one', 'seven', 'six', 'three', 'two']"
      ]
     },
     "execution_count": 207,
     "metadata": {},
     "output_type": "execute_result"
    }
   ],
   "source": [
    "# Returns a new sorted list and doesn't change original tuple\n",
    "sorted(mytuple)"
   ]
  },
  {
   "cell_type": "code",
   "execution_count": 208,
   "metadata": {
    "ExecuteTime": {
     "end_time": "2024-04-17T07:49:13.490259Z",
     "start_time": "2024-04-17T07:49:13.483276Z"
    }
   },
   "outputs": [
    {
     "data": {
      "text/plain": [
       "('one', 'two', 'three', 'four', 'five', 'six', 'seven', 'eight')"
      ]
     },
     "execution_count": 208,
     "metadata": {},
     "output_type": "execute_result"
    }
   ],
   "source": [
    "mytuple"
   ]
  },
  {
   "cell_type": "markdown",
   "metadata": {},
   "source": [
    "# Strings\n"
   ]
  },
  {
   "cell_type": "markdown",
   "metadata": {},
   "source": [
    "Strings are immutable which means elements of a string cannot be changed once they have been assigned.\n"
   ]
  },
  {
   "cell_type": "markdown",
   "metadata": {},
   "source": [
    "### string Creation"
   ]
  },
  {
   "cell_type": "code",
   "execution_count": 211,
   "metadata": {
    "ExecuteTime": {
     "end_time": "2024-04-17T13:14:31.029020Z",
     "start_time": "2024-04-17T13:14:31.017494Z"
    }
   },
   "outputs": [
    {
     "data": {
      "text/plain": [
       "'Hello Python'"
      ]
     },
     "execution_count": 211,
     "metadata": {},
     "output_type": "execute_result"
    }
   ],
   "source": [
    "str1 = \"Hello Python\"\n",
    "str1 "
   ]
  },
  {
   "cell_type": "code",
   "execution_count": 216,
   "metadata": {
    "ExecuteTime": {
     "end_time": "2024-04-17T13:17:17.070507Z",
     "start_time": "2024-04-17T13:17:17.060824Z"
    }
   },
   "outputs": [],
   "source": [
    "# Define string using single quotes\n",
    "mystr ='Hello World'"
   ]
  },
  {
   "cell_type": "code",
   "execution_count": 217,
   "metadata": {
    "ExecuteTime": {
     "end_time": "2024-04-17T13:17:28.644523Z",
     "start_time": "2024-04-17T13:17:28.638991Z"
    }
   },
   "outputs": [],
   "source": [
    "# Define string using double quotes\n",
    "mystr =\"Hello World\""
   ]
  },
  {
   "cell_type": "code",
   "execution_count": 219,
   "metadata": {
    "ExecuteTime": {
     "end_time": "2024-04-17T13:18:31.514475Z",
     "start_time": "2024-04-17T13:18:31.502125Z"
    }
   },
   "outputs": [
    {
     "name": "stdout",
     "output_type": "stream",
     "text": [
      "\n",
      "    Hello\n",
      "    World!\n",
      "    \n"
     ]
    }
   ],
   "source": [
    "# Define string using triple quotes\n",
    "mystr = '''\n",
    "    Hello\n",
    "    World!\n",
    "    '''\n",
    "print(mystr)"
   ]
  },
  {
   "cell_type": "code",
   "execution_count": 220,
   "metadata": {
    "ExecuteTime": {
     "end_time": "2024-04-17T13:18:55.402521Z",
     "start_time": "2024-04-17T13:18:55.388442Z"
    }
   },
   "outputs": [
    {
     "name": "stdout",
     "output_type": "stream",
     "text": [
      "\n",
      "    Hello\n",
      "    World!\n",
      "    \n"
     ]
    }
   ],
   "source": [
    "# Define string using triple quotes\n",
    "mystr = \"\"\"\n",
    "    Hello\n",
    "    World!\n",
    "    \"\"\"\n",
    "print(mystr)"
   ]
  },
  {
   "cell_type": "code",
   "execution_count": 222,
   "metadata": {
    "ExecuteTime": {
     "end_time": "2024-04-17T13:20:17.952472Z",
     "start_time": "2024-04-17T13:20:17.940340Z"
    }
   },
   "outputs": [
    {
     "name": "stdout",
     "output_type": "stream",
     "text": [
      "Happy Monday Everyone \n"
     ]
    }
   ],
   "source": [
    "mystr =('Happy '\n",
    "       'Monday '\n",
    "       'Everyone ')\n",
    "print(mystr)"
   ]
  },
  {
   "cell_type": "code",
   "execution_count": 224,
   "metadata": {
    "ExecuteTime": {
     "end_time": "2024-04-17T13:22:06.632923Z",
     "start_time": "2024-04-17T13:22:06.614516Z"
    }
   },
   "outputs": [
    {
     "data": {
      "text/plain": [
       "'woohoo woohoo woohoo woohoo woohoo '"
      ]
     },
     "execution_count": 224,
     "metadata": {},
     "output_type": "execute_result"
    }
   ],
   "source": [
    "#string replication\n",
    "mystr2 = 'woohoo '\n",
    "mystr2 = mystr2 *5\n",
    "mystr2 \n"
   ]
  },
  {
   "cell_type": "code",
   "execution_count": 225,
   "metadata": {
    "ExecuteTime": {
     "end_time": "2024-04-17T13:22:28.348842Z",
     "start_time": "2024-04-17T13:22:28.339318Z"
    }
   },
   "outputs": [
    {
     "data": {
      "text/plain": [
       "35"
      ]
     },
     "execution_count": 225,
     "metadata": {},
     "output_type": "execute_result"
    }
   ],
   "source": [
    "#length of the string\n",
    "len(mystr2)"
   ]
  },
  {
   "cell_type": "markdown",
   "metadata": {},
   "source": [
    "### String Indexing\n"
   ]
  },
  {
   "cell_type": "markdown",
   "metadata": {},
   "source": [
    "forward indexing and backword indexing"
   ]
  },
  {
   "cell_type": "code",
   "execution_count": 226,
   "metadata": {
    "ExecuteTime": {
     "end_time": "2024-04-17T13:25:20.243503Z",
     "start_time": "2024-04-17T13:25:20.234852Z"
    }
   },
   "outputs": [],
   "source": [
    "str1 =\"HELLO PYTHON\""
   ]
  },
  {
   "cell_type": "code",
   "execution_count": 227,
   "metadata": {
    "ExecuteTime": {
     "end_time": "2024-04-17T13:25:39.593631Z",
     "start_time": "2024-04-17T13:25:39.570579Z"
    }
   },
   "outputs": [
    {
     "data": {
      "text/plain": [
       "'H'"
      ]
     },
     "execution_count": 227,
     "metadata": {},
     "output_type": "execute_result"
    }
   ],
   "source": [
    "#first character in string\n",
    "str1[0]"
   ]
  },
  {
   "cell_type": "code",
   "execution_count": 229,
   "metadata": {
    "ExecuteTime": {
     "end_time": "2024-04-17T13:26:28.648596Z",
     "start_time": "2024-04-17T13:26:28.628255Z"
    }
   },
   "outputs": [
    {
     "data": {
      "text/plain": [
       "'N'"
      ]
     },
     "execution_count": 229,
     "metadata": {},
     "output_type": "execute_result"
    }
   ],
   "source": [
    "#last character in string using len function\n",
    "str1[len(str1)-1]"
   ]
  },
  {
   "cell_type": "code",
   "execution_count": 231,
   "metadata": {
    "ExecuteTime": {
     "end_time": "2024-04-17T13:27:52.584021Z",
     "start_time": "2024-04-17T13:27:52.558481Z"
    }
   },
   "outputs": [
    {
     "data": {
      "text/plain": [
       "'N'"
      ]
     },
     "execution_count": 231,
     "metadata": {},
     "output_type": "execute_result"
    }
   ],
   "source": [
    "#last character in string using backword indexing\n",
    "str1[-1]"
   ]
  },
  {
   "cell_type": "code",
   "execution_count": 232,
   "metadata": {
    "ExecuteTime": {
     "end_time": "2024-04-17T13:29:13.087022Z",
     "start_time": "2024-04-17T13:29:13.064996Z"
    }
   },
   "outputs": [
    {
     "data": {
      "text/plain": [
       "'P'"
      ]
     },
     "execution_count": 232,
     "metadata": {},
     "output_type": "execute_result"
    }
   ],
   "source": [
    "#Fetch the 7th element in string\n",
    "str1[7-1] #str[6]"
   ]
  },
  {
   "cell_type": "code",
   "execution_count": 233,
   "metadata": {
    "ExecuteTime": {
     "end_time": "2024-04-17T13:29:34.611670Z",
     "start_time": "2024-04-17T13:29:34.597791Z"
    }
   },
   "outputs": [
    {
     "data": {
      "text/plain": [
       "' '"
      ]
     },
     "execution_count": 233,
     "metadata": {},
     "output_type": "execute_result"
    }
   ],
   "source": [
    "str1[5]"
   ]
  },
  {
   "cell_type": "markdown",
   "metadata": {},
   "source": [
    "### String Slicing\n"
   ]
  },
  {
   "cell_type": "code",
   "execution_count": 235,
   "metadata": {
    "ExecuteTime": {
     "end_time": "2024-04-17T13:31:45.881495Z",
     "start_time": "2024-04-17T13:31:45.867890Z"
    }
   },
   "outputs": [
    {
     "data": {
      "text/plain": [
       "'HELLO'"
      ]
     },
     "execution_count": 235,
     "metadata": {},
     "output_type": "execute_result"
    }
   ],
   "source": [
    "#Fetch all character from 0 to 5 excluding character at 5th position\n",
    "str1[0:5]"
   ]
  },
  {
   "cell_type": "code",
   "execution_count": 236,
   "metadata": {
    "ExecuteTime": {
     "end_time": "2024-04-17T13:34:08.766028Z",
     "start_time": "2024-04-17T13:34:08.753929Z"
    }
   },
   "outputs": [
    {
     "data": {
      "text/plain": [
       "'PYTHON'"
      ]
     },
     "execution_count": 236,
     "metadata": {},
     "output_type": "execute_result"
    }
   ],
   "source": [
    "#Retreive all characters between 6 - 12 index loc excluding index loc 12.\n",
    "str1[6:12]"
   ]
  },
  {
   "cell_type": "code",
   "execution_count": 237,
   "metadata": {
    "ExecuteTime": {
     "end_time": "2024-04-17T13:35:37.030001Z",
     "start_time": "2024-04-17T13:35:37.020700Z"
    }
   },
   "outputs": [
    {
     "data": {
      "text/plain": [
       "'THON'"
      ]
     },
     "execution_count": 237,
     "metadata": {},
     "output_type": "execute_result"
    }
   ],
   "source": [
    "#fetch last 4 characters of string\n",
    "str1[-4:]"
   ]
  },
  {
   "cell_type": "code",
   "execution_count": 238,
   "metadata": {
    "ExecuteTime": {
     "end_time": "2024-04-17T13:36:53.730722Z",
     "start_time": "2024-04-17T13:36:53.711096Z"
    }
   },
   "outputs": [
    {
     "data": {
      "text/plain": [
       "'HELL'"
      ]
     },
     "execution_count": 238,
     "metadata": {},
     "output_type": "execute_result"
    }
   ],
   "source": [
    "#Fetch first 4 characters of string\n",
    "str1[:4]"
   ]
  },
  {
   "cell_type": "markdown",
   "metadata": {},
   "source": [
    "### Update & Delete String\n"
   ]
  },
  {
   "cell_type": "code",
   "execution_count": 243,
   "metadata": {
    "ExecuteTime": {
     "end_time": "2024-04-17T13:41:58.986036Z",
     "start_time": "2024-04-17T13:41:58.968096Z"
    }
   },
   "outputs": [
    {
     "data": {
      "text/plain": [
       "'HELLO PYTHON'"
      ]
     },
     "execution_count": 243,
     "metadata": {},
     "output_type": "execute_result"
    }
   ],
   "source": [
    "str1"
   ]
  },
  {
   "cell_type": "code",
   "execution_count": 247,
   "metadata": {
    "ExecuteTime": {
     "end_time": "2024-04-17T13:46:29.014199Z",
     "start_time": "2024-04-17T13:46:28.986181Z"
    }
   },
   "outputs": [
    {
     "ename": "NameError",
     "evalue": "name 'str1' is not defined",
     "output_type": "error",
     "traceback": [
      "\u001b[1;31m---------------------------------------------------------------------------\u001b[0m",
      "\u001b[1;31mNameError\u001b[0m                                 Traceback (most recent call last)",
      "\u001b[1;32m<ipython-input-247-545f2d60f390>\u001b[0m in \u001b[0;36m<module>\u001b[1;34m\u001b[0m\n\u001b[0;32m      1\u001b[0m \u001b[1;31m# This will throw error because string is immutable\u001b[0m\u001b[1;33m\u001b[0m\u001b[1;33m\u001b[0m\u001b[1;33m\u001b[0m\u001b[0m\n\u001b[1;32m----> 2\u001b[1;33m \u001b[0mstr1\u001b[0m\u001b[1;33m[\u001b[0m\u001b[1;36m0\u001b[0m\u001b[1;33m:\u001b[0m\u001b[1;36m5\u001b[0m\u001b[1;33m]\u001b[0m\u001b[1;33m=\u001b[0m\u001b[1;34m'Hola'\u001b[0m\u001b[1;33m\u001b[0m\u001b[1;33m\u001b[0m\u001b[0m\n\u001b[0m",
      "\u001b[1;31mNameError\u001b[0m: name 'str1' is not defined"
     ]
    }
   ],
   "source": [
    "# This will throw error because string is immutable\n",
    "str1[0:5]='Hola'"
   ]
  },
  {
   "cell_type": "code",
   "execution_count": 244,
   "metadata": {
    "ExecuteTime": {
     "end_time": "2024-04-17T13:43:33.524567Z",
     "start_time": "2024-04-17T13:43:33.511076Z"
    }
   },
   "outputs": [],
   "source": [
    "#delete a string\n",
    "del str1"
   ]
  },
  {
   "cell_type": "code",
   "execution_count": 245,
   "metadata": {
    "ExecuteTime": {
     "end_time": "2024-04-17T13:43:59.940435Z",
     "start_time": "2024-04-17T13:43:59.917677Z"
    },
    "scrolled": false
   },
   "outputs": [
    {
     "ename": "NameError",
     "evalue": "name 'str1' is not defined",
     "output_type": "error",
     "traceback": [
      "\u001b[1;31m---------------------------------------------------------------------------\u001b[0m",
      "\u001b[1;31mNameError\u001b[0m                                 Traceback (most recent call last)",
      "\u001b[1;32m<ipython-input-245-2413331059ac>\u001b[0m in \u001b[0;36m<module>\u001b[1;34m\u001b[0m\n\u001b[1;32m----> 1\u001b[1;33m \u001b[0mprint\u001b[0m\u001b[1;33m(\u001b[0m\u001b[0mstr1\u001b[0m\u001b[1;33m)\u001b[0m\u001b[1;33m\u001b[0m\u001b[1;33m\u001b[0m\u001b[0m\n\u001b[0m",
      "\u001b[1;31mNameError\u001b[0m: name 'str1' is not defined"
     ]
    }
   ],
   "source": [
    "print(str1)#error due to string is deleted"
   ]
  },
  {
   "cell_type": "markdown",
   "metadata": {},
   "source": [
    "### String Concatination"
   ]
  },
  {
   "cell_type": "code",
   "execution_count": 248,
   "metadata": {
    "ExecuteTime": {
     "end_time": "2024-04-17T13:48:36.231750Z",
     "start_time": "2024-04-17T13:48:36.214581Z"
    }
   },
   "outputs": [
    {
     "name": "stdout",
     "output_type": "stream",
     "text": [
      "MansiPatel\n"
     ]
    }
   ],
   "source": [
    "fname =\"Mansi\"\n",
    "lname =\"Patel\"\n",
    "name = fname + lname\n",
    "print(name)"
   ]
  },
  {
   "cell_type": "code",
   "execution_count": 249,
   "metadata": {
    "ExecuteTime": {
     "end_time": "2024-04-17T13:48:50.339715Z",
     "start_time": "2024-04-17T13:48:50.327506Z"
    }
   },
   "outputs": [
    {
     "name": "stdout",
     "output_type": "stream",
     "text": [
      "Mansi Patel\n"
     ]
    }
   ],
   "source": [
    "fname =\"Mansi\"\n",
    "lname =\"Patel\"\n",
    "name = fname +\" \"+ lname\n",
    "print(name)"
   ]
  },
  {
   "cell_type": "markdown",
   "metadata": {},
   "source": [
    "### Iterating through a String\n"
   ]
  },
  {
   "cell_type": "code",
   "execution_count": 250,
   "metadata": {
    "ExecuteTime": {
     "end_time": "2024-04-17T13:50:09.444923Z",
     "start_time": "2024-04-17T13:50:09.428804Z"
    }
   },
   "outputs": [
    {
     "name": "stdout",
     "output_type": "stream",
     "text": [
      "H\n",
      "e\n",
      "l\n",
      "l\n",
      "o\n",
      " \n",
      "E\n",
      "v\n",
      "e\n",
      "r\n",
      "y\n",
      "o\n",
      "n\n",
      "e\n"
     ]
    }
   ],
   "source": [
    "mystr1 = \"Hello Everyone\"\n",
    "#iteration\n",
    "for char in mystr1:\n",
    "    print(char)"
   ]
  },
  {
   "cell_type": "code",
   "execution_count": 251,
   "metadata": {
    "ExecuteTime": {
     "end_time": "2024-04-17T13:50:57.901997Z",
     "start_time": "2024-04-17T13:50:57.884635Z"
    }
   },
   "outputs": [
    {
     "name": "stdout",
     "output_type": "stream",
     "text": [
      "(0, 'H')\n",
      "(1, 'e')\n",
      "(2, 'l')\n",
      "(3, 'l')\n",
      "(4, 'o')\n",
      "(5, ' ')\n",
      "(6, 'E')\n",
      "(7, 'v')\n",
      "(8, 'e')\n",
      "(9, 'r')\n",
      "(10, 'y')\n",
      "(11, 'o')\n",
      "(12, 'n')\n",
      "(13, 'e')\n"
     ]
    }
   ],
   "source": [
    "#using enumarate\n",
    "for char in enumerate(mystr1):\n",
    "    print(char)"
   ]
  },
  {
   "cell_type": "code",
   "execution_count": 254,
   "metadata": {
    "ExecuteTime": {
     "end_time": "2024-04-17T13:55:28.439357Z",
     "start_time": "2024-04-17T13:55:28.425584Z"
    }
   },
   "outputs": [
    {
     "data": {
      "text/plain": [
       "[(0, 'H'),\n",
       " (1, 'e'),\n",
       " (2, 'l'),\n",
       " (3, 'l'),\n",
       " (4, 'o'),\n",
       " (5, ' '),\n",
       " (6, 'E'),\n",
       " (7, 'v'),\n",
       " (8, 'e'),\n",
       " (9, 'r'),\n",
       " (10, 'y'),\n",
       " (11, 'o'),\n",
       " (12, 'n'),\n",
       " (13, 'e')]"
      ]
     },
     "execution_count": 254,
     "metadata": {},
     "output_type": "execute_result"
    }
   ],
   "source": [
    "#Enumerate method adds a counter to an iterable and returns it in forms of enumerate object\n",
    "list(enumerate(mystr1))"
   ]
  },
  {
   "cell_type": "markdown",
   "metadata": {},
   "source": [
    "### String Membership"
   ]
  },
  {
   "cell_type": "code",
   "execution_count": 257,
   "metadata": {
    "ExecuteTime": {
     "end_time": "2024-04-17T13:59:15.582940Z",
     "start_time": "2024-04-17T13:59:15.561855Z"
    }
   },
   "outputs": [
    {
     "name": "stdout",
     "output_type": "stream",
     "text": [
      "False\n",
      "True\n",
      "True\n"
     ]
    }
   ],
   "source": [
    "#String Membership -- this will return true or false\n",
    "\n",
    "mystr1 = \"Hello Everyone\"\n",
    "print(\"hello\" in mystr1) #check if 'hello' is in string or not\n",
    "print(\"Hell\" in mystr1) #check if 'Hell' is in string or not\n",
    "print('llo ' in mystr1)"
   ]
  },
  {
   "cell_type": "markdown",
   "metadata": {},
   "source": [
    "### String Partitioning\n"
   ]
  },
  {
   "cell_type": "markdown",
   "metadata": {},
   "source": [
    "\"\"\"\n",
    "The partition() method searches for a specified string and splits the string into a tuple containing three elements.\n",
    "\n",
    " - The first element contains the part before the argument string.\n",
    "\n",
    " - The second element contains the argument string.\n",
    "\n",
    " - The third element contains the part after the argument string.\n",
    "\"\"\""
   ]
  },
  {
   "cell_type": "code",
   "execution_count": 261,
   "metadata": {
    "ExecuteTime": {
     "end_time": "2024-04-17T14:03:35.538792Z",
     "start_time": "2024-04-17T14:03:35.521161Z"
    }
   },
   "outputs": [
    {
     "name": "stdout",
     "output_type": "stream",
     "text": [
      "('Machine learning with', ',', ' Python ,R and Java')\n",
      "<class 'tuple'>\n"
     ]
    }
   ],
   "source": [
    "str5 = \"Machine learning with, Python ,R and Java\"\n",
    "L = str5.partition(',') # it will count 1st ',' for partition\n",
    "print(L)\n",
    "print(type(L))"
   ]
  },
  {
   "cell_type": "markdown",
   "metadata": {},
   "source": [
    "### String Functions"
   ]
  },
  {
   "cell_type": "code",
   "execution_count": 270,
   "metadata": {
    "ExecuteTime": {
     "end_time": "2024-04-17T14:07:37.438931Z",
     "start_time": "2024-04-17T14:07:37.427009Z"
    }
   },
   "outputs": [
    {
     "data": {
      "text/plain": [
       "'    Hello Everyone    '"
      ]
     },
     "execution_count": 270,
     "metadata": {},
     "output_type": "execute_result"
    }
   ],
   "source": [
    "mystr2 = \"    Hello Everyone    \"\n",
    "mystr2"
   ]
  },
  {
   "cell_type": "code",
   "execution_count": 272,
   "metadata": {
    "ExecuteTime": {
     "end_time": "2024-04-17T14:08:07.141192Z",
     "start_time": "2024-04-17T14:08:07.123885Z"
    }
   },
   "outputs": [
    {
     "data": {
      "text/plain": [
       "'Hello Everyone'"
      ]
     },
     "execution_count": 272,
     "metadata": {},
     "output_type": "execute_result"
    }
   ],
   "source": [
    "#strip - remove white spaces from begining and end of the string\n",
    "mystr2.strip()"
   ]
  },
  {
   "cell_type": "code",
   "execution_count": 273,
   "metadata": {
    "ExecuteTime": {
     "end_time": "2024-04-17T14:09:41.905941Z",
     "start_time": "2024-04-17T14:09:41.898956Z"
    }
   },
   "outputs": [
    {
     "data": {
      "text/plain": [
       "'    Hello Everyone'"
      ]
     },
     "execution_count": 273,
     "metadata": {},
     "output_type": "execute_result"
    }
   ],
   "source": [
    "#rstrip -remove white spaces from end of the string\n",
    "mystr2.rstrip()"
   ]
  },
  {
   "cell_type": "code",
   "execution_count": 274,
   "metadata": {
    "ExecuteTime": {
     "end_time": "2024-04-17T14:10:01.466310Z",
     "start_time": "2024-04-17T14:10:01.450664Z"
    }
   },
   "outputs": [
    {
     "data": {
      "text/plain": [
       "'Hello Everyone    '"
      ]
     },
     "execution_count": 274,
     "metadata": {},
     "output_type": "execute_result"
    }
   ],
   "source": [
    "#lstrip -remove white spaces from begining of the string\n",
    "mystr2.lstrip()\n"
   ]
  },
  {
   "cell_type": "code",
   "execution_count": 275,
   "metadata": {
    "ExecuteTime": {
     "end_time": "2024-04-17T14:11:18.106645Z",
     "start_time": "2024-04-17T14:11:18.094153Z"
    }
   },
   "outputs": [
    {
     "data": {
      "text/plain": [
       "'**********Hello Everyone**********All the best**********'"
      ]
     },
     "execution_count": 275,
     "metadata": {},
     "output_type": "execute_result"
    }
   ],
   "source": [
    "mystr2 =\"**********Hello Everyone**********All the best**********\"\n",
    "mystr2"
   ]
  },
  {
   "cell_type": "code",
   "execution_count": 278,
   "metadata": {
    "ExecuteTime": {
     "end_time": "2024-04-17T14:12:15.676405Z",
     "start_time": "2024-04-17T14:12:15.656152Z"
    }
   },
   "outputs": [
    {
     "data": {
      "text/plain": [
       "'Hello Everyone**********All the best'"
      ]
     },
     "execution_count": 278,
     "metadata": {},
     "output_type": "execute_result"
    }
   ],
   "source": [
    "mystr2.strip('*')#it will remove * from both sides"
   ]
  },
  {
   "cell_type": "code",
   "execution_count": 279,
   "metadata": {
    "ExecuteTime": {
     "end_time": "2024-04-17T14:12:41.103375Z",
     "start_time": "2024-04-17T14:12:41.092353Z"
    }
   },
   "outputs": [
    {
     "data": {
      "text/plain": [
       "'**********Hello Everyone**********All the best'"
      ]
     },
     "execution_count": 279,
     "metadata": {},
     "output_type": "execute_result"
    }
   ],
   "source": [
    "mystr2.rstrip('*')#it will remove * from end "
   ]
  },
  {
   "cell_type": "code",
   "execution_count": 281,
   "metadata": {
    "ExecuteTime": {
     "end_time": "2024-04-17T14:13:12.116265Z",
     "start_time": "2024-04-17T14:13:12.090063Z"
    }
   },
   "outputs": [
    {
     "data": {
      "text/plain": [
       "'Hello Everyone**********All the best**********'"
      ]
     },
     "execution_count": 281,
     "metadata": {},
     "output_type": "execute_result"
    }
   ],
   "source": [
    "mystr2.lstrip('*')#it will remove * from beggining"
   ]
  },
  {
   "cell_type": "code",
   "execution_count": 282,
   "metadata": {
    "ExecuteTime": {
     "end_time": "2024-04-17T14:13:47.592635Z",
     "start_time": "2024-04-17T14:13:47.582568Z"
    }
   },
   "outputs": [
    {
     "data": {
      "text/plain": [
       "'   Hello EveryOne  '"
      ]
     },
     "execution_count": 282,
     "metadata": {},
     "output_type": "execute_result"
    }
   ],
   "source": [
    "mystr2 = \"   Hello EveryOne  \"\n",
    "mystr2"
   ]
  },
  {
   "cell_type": "code",
   "execution_count": 283,
   "metadata": {
    "ExecuteTime": {
     "end_time": "2024-04-17T14:14:11.160564Z",
     "start_time": "2024-04-17T14:14:11.143261Z"
    }
   },
   "outputs": [
    {
     "data": {
      "text/plain": [
       "'   hello everyone  '"
      ]
     },
     "execution_count": 283,
     "metadata": {},
     "output_type": "execute_result"
    }
   ],
   "source": [
    "mystr2.lower() #it will lower whole string"
   ]
  },
  {
   "cell_type": "code",
   "execution_count": 287,
   "metadata": {
    "ExecuteTime": {
     "end_time": "2024-04-17T14:14:44.888388Z",
     "start_time": "2024-04-17T14:14:44.867593Z"
    }
   },
   "outputs": [
    {
     "data": {
      "text/plain": [
       "'   HELLO EVERYONE  '"
      ]
     },
     "execution_count": 287,
     "metadata": {},
     "output_type": "execute_result"
    }
   ],
   "source": [
    "mystr2.upper() #it will upper whole string\n"
   ]
  },
  {
   "cell_type": "code",
   "execution_count": 288,
   "metadata": {
    "ExecuteTime": {
     "end_time": "2024-04-17T14:15:32.651415Z",
     "start_time": "2024-04-17T14:15:32.636008Z"
    }
   },
   "outputs": [
    {
     "data": {
      "text/plain": [
       "'   Hola EveryOne  '"
      ]
     },
     "execution_count": 288,
     "metadata": {},
     "output_type": "execute_result"
    }
   ],
   "source": [
    "#Replace \n",
    "mystr2.replace('Hello','Hola') # replace Hello with Hola"
   ]
  },
  {
   "cell_type": "code",
   "execution_count": 289,
   "metadata": {
    "ExecuteTime": {
     "end_time": "2024-04-17T14:16:06.950968Z",
     "start_time": "2024-04-17T14:16:06.940232Z"
    }
   },
   "outputs": [
    {
     "data": {
      "text/plain": [
       "'HelloEveryOne'"
      ]
     },
     "execution_count": 289,
     "metadata": {},
     "output_type": "execute_result"
    }
   ],
   "source": [
    "#Remove all white spaces using replace function\n",
    "mystr2.replace(\" \",\"\")"
   ]
  },
  {
   "cell_type": "code",
   "execution_count": 290,
   "metadata": {
    "ExecuteTime": {
     "end_time": "2024-04-17T14:16:57.199607Z",
     "start_time": "2024-04-17T14:16:57.193033Z"
    }
   },
   "outputs": [],
   "source": [
    "mystr5 = \"One Two Three Four Five Six One Two Three\""
   ]
  },
  {
   "cell_type": "code",
   "execution_count": 292,
   "metadata": {
    "ExecuteTime": {
     "end_time": "2024-04-17T14:18:37.127767Z",
     "start_time": "2024-04-17T14:18:37.109262Z"
    }
   },
   "outputs": [
    {
     "data": {
      "text/plain": [
       "2"
      ]
     },
     "execution_count": 292,
     "metadata": {},
     "output_type": "execute_result"
    }
   ],
   "source": [
    "# count\n",
    "mystr5.count('One') #Number of time substring 'One' occured in string"
   ]
  },
  {
   "cell_type": "code",
   "execution_count": 402,
   "metadata": {
    "ExecuteTime": {
     "end_time": "2024-04-18T09:53:55.461775Z",
     "start_time": "2024-04-18T09:53:55.443749Z"
    }
   },
   "outputs": [
    {
     "name": "stdout",
     "output_type": "stream",
     "text": [
      "True\n",
      "False\n"
     ]
    }
   ],
   "source": [
    "#Startswith - Return boolean value True if string starts with \"one\"\n",
    "print(mystr5.startswith('One'))\n",
    "print(mystr5.startswith('Two'))"
   ]
  },
  {
   "cell_type": "code",
   "execution_count": 295,
   "metadata": {
    "ExecuteTime": {
     "end_time": "2024-04-17T14:22:01.827860Z",
     "start_time": "2024-04-17T14:22:01.815176Z"
    }
   },
   "outputs": [],
   "source": [
    "mystr4 = \"one two three four one two two three five five six seven six seven one one one ten eight ten nine eleven ten ten nine\""
   ]
  },
  {
   "cell_type": "code",
   "execution_count": 298,
   "metadata": {
    "ExecuteTime": {
     "end_time": "2024-04-17T14:26:25.480165Z",
     "start_time": "2024-04-17T14:26:25.470898Z"
    }
   },
   "outputs": [
    {
     "data": {
      "text/plain": [
       "['one ',\n",
       " ' three four one ',\n",
       " ' ',\n",
       " ' three five five six seven six seven one one one ten eight ten nine eleven ten ten nine']"
      ]
     },
     "execution_count": 298,
     "metadata": {},
     "output_type": "execute_result"
    }
   ],
   "source": [
    "mylist = mystr4.split('two')\n",
    "mylist "
   ]
  },
  {
   "cell_type": "code",
   "execution_count": 299,
   "metadata": {
    "ExecuteTime": {
     "end_time": "2024-04-17T14:30:20.372645Z",
     "start_time": "2024-04-17T14:30:20.349900Z"
    }
   },
   "outputs": [
    {
     "name": "stdout",
     "output_type": "stream",
     "text": [
      "Cost of item3 , item2 and item1 are 77 , 55 and 40\n"
     ]
    }
   ],
   "source": [
    "# Combining string & numbers using format method\n",
    "item1 = 40\n",
    "item2 = 55\n",
    "item3 = 77\n",
    "\n",
    "res = \"Cost of item3 , item2 and item1 are {2} , {1} and {0}\"\n",
    "print(res.format(item1,item2,item3))"
   ]
  },
  {
   "cell_type": "code",
   "execution_count": 301,
   "metadata": {
    "ExecuteTime": {
     "end_time": "2024-04-17T14:31:48.038965Z",
     "start_time": "2024-04-17T14:31:48.026164Z"
    }
   },
   "outputs": [
    {
     "name": "stdout",
     "output_type": "stream",
     "text": [
      "                                          WELCOME EVERYONE                                          \n"
     ]
    }
   ],
   "source": [
    "str2 = \"WELCOME EVERYONE\"\n",
    "str2 = str2.center(100) # center align the string using a specific character as the fill character.\n",
    "print(str2)"
   ]
  },
  {
   "cell_type": "code",
   "execution_count": 302,
   "metadata": {
    "ExecuteTime": {
     "end_time": "2024-04-17T14:33:33.479790Z",
     "start_time": "2024-04-17T14:33:33.465991Z"
    }
   },
   "outputs": [
    {
     "name": "stdout",
     "output_type": "stream",
     "text": [
      "***************************************** Welcome Everyone *****************************************\n"
     ]
    }
   ],
   "source": [
    "# center align the string using a specific character ('*') as the fill character.\n",
    "str2 = \" Welcome Everyone \"\n",
    "str2 = str2.center(100,\"*\")\n",
    "print(str2)"
   ]
  },
  {
   "cell_type": "code",
   "execution_count": 305,
   "metadata": {
    "ExecuteTime": {
     "end_time": "2024-04-18T08:24:33.658206Z",
     "start_time": "2024-04-18T08:24:33.647873Z"
    }
   },
   "outputs": [
    {
     "data": {
      "text/plain": [
       "'    welcome Everyone'"
      ]
     },
     "execution_count": 305,
     "metadata": {},
     "output_type": "execute_result"
    }
   ],
   "source": [
    "#rjust - # Right align the string using a specific character as the fill character.\n",
    "str2 = \"welcome Everyone\"\n",
    "str2.rjust(20)\n",
    " "
   ]
  },
  {
   "cell_type": "code",
   "execution_count": 307,
   "metadata": {
    "ExecuteTime": {
     "end_time": "2024-04-18T08:26:06.028204Z",
     "start_time": "2024-04-18T08:26:06.008761Z"
    }
   },
   "outputs": [
    {
     "data": {
      "text/plain": [
       "'welcome Everyone              '"
      ]
     },
     "execution_count": 307,
     "metadata": {},
     "output_type": "execute_result"
    }
   ],
   "source": [
    "#ljust - # left align the string using a specific character as the fill character.\n",
    "str2 = \"welcome Everyone\"\n",
    "str2.ljust(30)"
   ]
  },
  {
   "cell_type": "code",
   "execution_count": 320,
   "metadata": {
    "ExecuteTime": {
     "end_time": "2024-04-18T08:33:58.409199Z",
     "start_time": "2024-04-18T08:33:58.394717Z"
    }
   },
   "outputs": [
    {
     "name": "stdout",
     "output_type": "stream",
     "text": [
      "0\n",
      "-1\n",
      "4\n",
      "-1\n",
      "14\n",
      "11\n"
     ]
    }
   ],
   "source": [
    "#find - find the location of word in string\n",
    "str4 = 'One two one three four two five six seven'\n",
    "print(str4.find('One'))\n",
    "print(str4.find('few'))\n",
    "print(str4.find('two'))\n",
    "print(str4.find('twe'))\n",
    "print(str4.find('ree'))\n",
    "print(str4.find(' three'))"
   ]
  },
  {
   "cell_type": "code",
   "execution_count": 352,
   "metadata": {
    "ExecuteTime": {
     "end_time": "2024-04-18T09:17:00.386313Z",
     "start_time": "2024-04-18T09:17:00.355636Z"
    }
   },
   "outputs": [
    {
     "name": "stdout",
     "output_type": "stream",
     "text": [
      "0\n",
      "4\n"
     ]
    },
    {
     "ename": "ValueError",
     "evalue": "substring not found",
     "output_type": "error",
     "traceback": [
      "\u001b[1;31m---------------------------------------------------------------------------\u001b[0m",
      "\u001b[1;31mValueError\u001b[0m                                Traceback (most recent call last)",
      "\u001b[1;32m<ipython-input-352-b798730e7c49>\u001b[0m in \u001b[0;36m<module>\u001b[1;34m\u001b[0m\n\u001b[0;32m      3\u001b[0m \u001b[0mprint\u001b[0m\u001b[1;33m(\u001b[0m\u001b[0mstr4\u001b[0m\u001b[1;33m.\u001b[0m\u001b[0mindex\u001b[0m\u001b[1;33m(\u001b[0m\u001b[1;34m'One'\u001b[0m\u001b[1;33m)\u001b[0m\u001b[1;33m)\u001b[0m\u001b[1;33m\u001b[0m\u001b[1;33m\u001b[0m\u001b[0m\n\u001b[0;32m      4\u001b[0m \u001b[0mprint\u001b[0m\u001b[1;33m(\u001b[0m\u001b[0mstr4\u001b[0m\u001b[1;33m.\u001b[0m\u001b[0mindex\u001b[0m\u001b[1;33m(\u001b[0m\u001b[1;34m't'\u001b[0m\u001b[1;33m)\u001b[0m\u001b[1;33m)\u001b[0m\u001b[1;33m\u001b[0m\u001b[1;33m\u001b[0m\u001b[0m\n\u001b[1;32m----> 5\u001b[1;33m \u001b[0mprint\u001b[0m\u001b[1;33m(\u001b[0m\u001b[0mstr4\u001b[0m\u001b[1;33m.\u001b[0m\u001b[0mindex\u001b[0m\u001b[1;33m(\u001b[0m\u001b[1;34m'few'\u001b[0m\u001b[1;33m)\u001b[0m\u001b[1;33m)\u001b[0m \u001b[1;31m# this will give error\u001b[0m\u001b[1;33m\u001b[0m\u001b[1;33m\u001b[0m\u001b[0m\n\u001b[0m",
      "\u001b[1;31mValueError\u001b[0m: substring not found"
     ]
    }
   ],
   "source": [
    "#index - find the location of word in string\n",
    "str4 = 'One two one three four two five six seven'\n",
    "print(str4.index('One'))\n",
    "print(str4.index('t'))\n",
    "print(str4.index('few')) # this will give error"
   ]
  },
  {
   "cell_type": "markdown",
   "metadata": {},
   "source": [
    "Difference between find and index is on wrong word find will return '-1' while index will throw error\n"
   ]
  },
  {
   "cell_type": "code",
   "execution_count": 329,
   "metadata": {
    "ExecuteTime": {
     "end_time": "2024-04-18T08:39:24.828655Z",
     "start_time": "2024-04-18T08:39:24.815122Z"
    }
   },
   "outputs": [
    {
     "name": "stdout",
     "output_type": "stream",
     "text": [
      "False\n",
      "True\n",
      "True\n",
      "True\n",
      "True\n"
     ]
    }
   ],
   "source": [
    "mystr6 = '123456789'\n",
    "print(mystr6.isalpha()) # returns True if all the characters in the text are letters\n",
    "print(mystr6.isalnum()) # returns true if a string contains only letters or numbers or both\n",
    "print(mystr6.isdecimal())# returns true if all the characters are decimals(0-9)\n",
    "print(mystr6.isdigit()) #\n",
    "print(mystr6.isnumeric())#returns true if all the characters are numeric(0-9)"
   ]
  },
  {
   "cell_type": "code",
   "execution_count": 335,
   "metadata": {
    "ExecuteTime": {
     "end_time": "2024-04-18T09:06:37.068155Z",
     "start_time": "2024-04-18T09:06:37.043708Z"
    }
   },
   "outputs": [
    {
     "name": "stdout",
     "output_type": "stream",
     "text": [
      "True\n",
      "True\n",
      "False\n",
      "False\n",
      "False\n"
     ]
    }
   ],
   "source": [
    "mystr7 = 'abcde'\n",
    "print(mystr7.isalpha()) # returns True if all the characters in the text are letters\n",
    "print(mystr7.isalnum()) # returns true if a string contains only letters or numbers or both\n",
    "print(mystr7.isdecimal())# returns true if all the characters are decimals(0-9)\n",
    "print(mystr7.isdigit()) #\n",
    "print(mystr7.isnumeric())#returns true if all the characters are numeric(0-9)"
   ]
  },
  {
   "cell_type": "code",
   "execution_count": 343,
   "metadata": {
    "ExecuteTime": {
     "end_time": "2024-04-18T09:09:55.700843Z",
     "start_time": "2024-04-18T09:09:55.693787Z"
    }
   },
   "outputs": [
    {
     "name": "stdout",
     "output_type": "stream",
     "text": [
      "False\n",
      "True\n",
      "False\n",
      "False\n",
      "False\n"
     ]
    }
   ],
   "source": [
    "mystr8='abc123'\n",
    "print(mystr8.isalpha()) # returns True if all the characters in the text are letters\n",
    "print(mystr8.isalnum()) # returns true if a string contains only letters or numbers or both\n",
    "print(mystr8.isdecimal())# returns true if all the characters are decimals(0-9)\n",
    "print(mystr8.isdigit()) #\n",
    "print(mystr8.isnumeric())#returns true if all the characters are numeric(0-9)"
   ]
  },
  {
   "cell_type": "code",
   "execution_count": 344,
   "metadata": {
    "ExecuteTime": {
     "end_time": "2024-04-18T09:10:06.323458Z",
     "start_time": "2024-04-18T09:10:06.314971Z"
    }
   },
   "outputs": [
    {
     "name": "stdout",
     "output_type": "stream",
     "text": [
      "True\n",
      "False\n"
     ]
    }
   ],
   "source": [
    "#isupper()  and islower()\n",
    "mystr9 = 'ABCDEF'\n",
    "print(mystr9.isupper()) # Returns True if all the characters are in upper case\n",
    "print(mystr9.islower()) # Returns True if all the characters are in lower case"
   ]
  },
  {
   "cell_type": "code",
   "execution_count": 359,
   "metadata": {
    "ExecuteTime": {
     "end_time": "2024-04-18T09:20:27.438893Z",
     "start_time": "2024-04-18T09:20:27.433326Z"
    }
   },
   "outputs": [
    {
     "name": "stdout",
     "output_type": "stream",
     "text": [
      "87\n",
      "-1\n"
     ]
    }
   ],
   "source": [
    "#rfind - last occurence of the word in a string\n",
    "str10 = \"one two three t four one two two three five five six one ten eight ten nine eleven ten ten nine\"\n",
    "str10.rfind('two')\n",
    "print(str10.rfind('t'))\n",
    "print(str10.rfind('zip'))\n"
   ]
  },
  {
   "cell_type": "code",
   "execution_count": 360,
   "metadata": {
    "ExecuteTime": {
     "end_time": "2024-04-18T09:20:28.453270Z",
     "start_time": "2024-04-18T09:20:28.430985Z"
    }
   },
   "outputs": [
    {
     "name": "stdout",
     "output_type": "stream",
     "text": [
      "29\n"
     ]
    },
    {
     "ename": "ValueError",
     "evalue": "substring not found",
     "output_type": "error",
     "traceback": [
      "\u001b[1;31m---------------------------------------------------------------------------\u001b[0m",
      "\u001b[1;31mValueError\u001b[0m                                Traceback (most recent call last)",
      "\u001b[1;32m<ipython-input-360-6522dbbe9499>\u001b[0m in \u001b[0;36m<module>\u001b[1;34m\u001b[0m\n\u001b[0;32m      2\u001b[0m \u001b[0mprint\u001b[0m\u001b[1;33m(\u001b[0m\u001b[0mstr10\u001b[0m\u001b[1;33m.\u001b[0m\u001b[0mrindex\u001b[0m\u001b[1;33m(\u001b[0m\u001b[1;34m'two'\u001b[0m\u001b[1;33m)\u001b[0m\u001b[1;33m)\u001b[0m\u001b[1;33m\u001b[0m\u001b[1;33m\u001b[0m\u001b[0m\n\u001b[0;32m      3\u001b[0m \u001b[1;33m\u001b[0m\u001b[0m\n\u001b[1;32m----> 4\u001b[1;33m \u001b[0mprint\u001b[0m\u001b[1;33m(\u001b[0m\u001b[0mstr10\u001b[0m\u001b[1;33m.\u001b[0m\u001b[0mrindex\u001b[0m\u001b[1;33m(\u001b[0m\u001b[1;34m'zip'\u001b[0m\u001b[1;33m)\u001b[0m\u001b[1;33m)\u001b[0m\u001b[1;33m\u001b[0m\u001b[1;33m\u001b[0m\u001b[0m\n\u001b[0m\u001b[0;32m      5\u001b[0m \u001b[0mprint\u001b[0m\u001b[1;33m(\u001b[0m\u001b[0mstr10\u001b[0m\u001b[1;33m.\u001b[0m\u001b[0mrindex\u001b[0m\u001b[1;33m(\u001b[0m\u001b[1;34m't'\u001b[0m\u001b[1;33m)\u001b[0m\u001b[1;33m)\u001b[0m\u001b[1;33m\u001b[0m\u001b[1;33m\u001b[0m\u001b[0m\n\u001b[0;32m      6\u001b[0m \u001b[1;33m\u001b[0m\u001b[0m\n",
      "\u001b[1;31mValueError\u001b[0m: substring not found"
     ]
    }
   ],
   "source": [
    "# rindex- last occurance of the word in a string\n",
    "print(str10.rindex('two'))\n",
    "\n",
    "print(str10.rindex('zip'))\n",
    "print(str10.rindex('t'))\n",
    "\n"
   ]
  },
  {
   "cell_type": "code",
   "execution_count": 384,
   "metadata": {
    "ExecuteTime": {
     "end_time": "2024-04-18T09:36:54.259675Z",
     "start_time": "2024-04-18T09:36:54.245940Z"
    }
   },
   "outputs": [
    {
     "data": {
      "text/plain": [
       "'My name is mansi'"
      ]
     },
     "execution_count": 384,
     "metadata": {},
     "output_type": "execute_result"
    }
   ],
   "source": [
    "#capitalize - first letter of the string will be capital\n",
    "mystr11 = 'my Name is Mansi'\n",
    "mystr11.capitalize()"
   ]
  },
  {
   "cell_type": "code",
   "execution_count": 385,
   "metadata": {
    "ExecuteTime": {
     "end_time": "2024-04-18T09:37:24.224380Z",
     "start_time": "2024-04-18T09:37:24.210656Z"
    }
   },
   "outputs": [
    {
     "name": "stdout",
     "output_type": "stream",
     "text": [
      "Hello Everyone , How Are You\n",
      "True\n"
     ]
    }
   ],
   "source": [
    "#title- first letter of all words will be capital\n",
    "mystr14 = \"Hello everyone , how are you\"\n",
    "print(mystr14.title()) \n"
   ]
  },
  {
   "cell_type": "code",
   "execution_count": 368,
   "metadata": {
    "ExecuteTime": {
     "end_time": "2024-04-18T09:24:48.151114Z",
     "start_time": "2024-04-18T09:24:48.142624Z"
    }
   },
   "outputs": [
    {
     "name": "stdout",
     "output_type": "stream",
     "text": [
      "True\n",
      "False\n"
     ]
    }
   ],
   "source": [
    "#istitle - returns True if all first letter of words will be capital ele reruen false\n",
    "mystr11 = 'My Name Is Mansi'\n",
    "print(mystr11.istitle()) \n",
    "mystr12 = 'My name is Mansi'\n",
    "print(mystr12.istitle())"
   ]
  },
  {
   "cell_type": "code",
   "execution_count": 370,
   "metadata": {
    "ExecuteTime": {
     "end_time": "2024-04-18T09:27:26.483677Z",
     "start_time": "2024-04-18T09:27:26.467419Z"
    }
   },
   "outputs": [
    {
     "name": "stdout",
     "output_type": "stream",
     "text": [
      "my name is mansi\n"
     ]
    }
   ],
   "source": [
    "#casefold -returns a string where all the characters are lower case. This method is similar to the lower() method,\n",
    "mystr12 = 'My Name Is Mansi'\n",
    "print(mystr12.casefold()) "
   ]
  },
  {
   "cell_type": "code",
   "execution_count": 376,
   "metadata": {
    "ExecuteTime": {
     "end_time": "2024-04-18T09:30:31.402138Z",
     "start_time": "2024-04-18T09:30:31.387866Z"
    }
   },
   "outputs": [
    {
     "name": "stdout",
     "output_type": "stream",
     "text": [
      "True\n",
      "True\n",
      "False\n"
     ]
    }
   ],
   "source": [
    "#endswith - check if string finish with given letter or word\n",
    "mystr12 = 'My Name Is Mansi'\n",
    "print(mystr12.endswith('Mansi'))\n",
    "print(mystr12.endswith('i'))\n",
    "print(mystr12.endswith('o'))"
   ]
  },
  {
   "cell_type": "code",
   "execution_count": 381,
   "metadata": {
    "ExecuteTime": {
     "end_time": "2024-04-18T09:34:24.651094Z",
     "start_time": "2024-04-18T09:34:24.633100Z"
    }
   },
   "outputs": [
    {
     "data": {
      "text/plain": [
       "'H    e    l    l    o'"
      ]
     },
     "execution_count": 381,
     "metadata": {},
     "output_type": "execute_result"
    }
   ],
   "source": [
    "#expandtabs - '\\t' method sets the tab size to the specified number of whitespaces\n",
    "mystr13 = 'H\\te\\tl\\tl\\to'\n",
    "mystr13.expandtabs(5)"
   ]
  },
  {
   "cell_type": "code",
   "execution_count": 395,
   "metadata": {
    "ExecuteTime": {
     "end_time": "2024-04-18T09:40:51.076334Z",
     "start_time": "2024-04-18T09:40:51.056236Z"
    }
   },
   "outputs": [
    {
     "name": "stdout",
     "output_type": "stream",
     "text": [
      "False\n",
      "True\n"
     ]
    }
   ],
   "source": [
    "#isprintable - returns True if all the characters are printable\n",
    "mystr15 = \"\\n\"\n",
    "print(mystr15.isprintable())\n",
    "mystr15_1 = \"Hello Everyone\"\n",
    "print(mystr15_1.isprintable())"
   ]
  },
  {
   "cell_type": "code",
   "execution_count": 397,
   "metadata": {
    "ExecuteTime": {
     "end_time": "2024-04-18T09:42:24.771652Z",
     "start_time": "2024-04-18T09:42:24.754604Z"
    }
   },
   "outputs": [
    {
     "name": "stdout",
     "output_type": "stream",
     "text": [
      "hELLO pYTHON\n",
      "HeeELLO PYTHOn\n"
     ]
    }
   ],
   "source": [
    "#swapcase - method returns a string where all the upper case letters are lower case and vice versa.\n",
    "mystr16 = \"Hello Python\"\n",
    "print(mystr16.swapcase())\n",
    "mystr16_1 = \"hEEello pythoN\"\n",
    "print(mystr16_1.swapcase())"
   ]
  },
  {
   "cell_type": "code",
   "execution_count": 401,
   "metadata": {
    "ExecuteTime": {
     "end_time": "2024-04-18T09:45:09.638782Z",
     "start_time": "2024-04-18T09:45:09.629716Z"
    }
   },
   "outputs": [
    {
     "data": {
      "text/plain": [
       "'00000Mansi'"
      ]
     },
     "execution_count": 401,
     "metadata": {},
     "output_type": "execute_result"
    }
   ],
   "source": [
    "#zfill - method adds zeros (0) at the beginning of the string, until it reaches the specified length\n",
    "mystr17 = 'Mansi'\n",
    "mystr17.zfill(10)"
   ]
  },
  {
   "cell_type": "markdown",
   "metadata": {},
   "source": [
    "# Set"
   ]
  },
  {
   "cell_type": "markdown",
   "metadata": {},
   "source": [
    "1. Unordered and unindexed collection of items\n",
    "\n",
    "2. Set elements are immutable(can not be changed)\n",
    "\n",
    "3. Set elements are unique.Duplicate elements are not allowed\n",
    "\n",
    "4. Set itself is a mutable.We can add and remove item from it"
   ]
  },
  {
   "cell_type": "markdown",
   "metadata": {},
   "source": [
    "### Set Creation"
   ]
  },
  {
   "cell_type": "code",
   "execution_count": 403,
   "metadata": {
    "ExecuteTime": {
     "end_time": "2024-04-18T10:39:15.928328Z",
     "start_time": "2024-04-18T10:39:15.910826Z"
    }
   },
   "outputs": [],
   "source": [
    "myset ={1,2,3,4,5}#set of numbers"
   ]
  },
  {
   "cell_type": "code",
   "execution_count": 405,
   "metadata": {
    "ExecuteTime": {
     "end_time": "2024-04-18T10:39:33.486956Z",
     "start_time": "2024-04-18T10:39:33.477886Z"
    }
   },
   "outputs": [
    {
     "data": {
      "text/plain": [
       "5"
      ]
     },
     "execution_count": 405,
     "metadata": {},
     "output_type": "execute_result"
    }
   ],
   "source": [
    "len(myset) #length of set"
   ]
  },
  {
   "cell_type": "code",
   "execution_count": 406,
   "metadata": {
    "ExecuteTime": {
     "end_time": "2024-04-18T10:39:47.845949Z",
     "start_time": "2024-04-18T10:39:47.828390Z"
    }
   },
   "outputs": [
    {
     "data": {
      "text/plain": [
       "{1, 2, 3, 4, 5}"
      ]
     },
     "execution_count": 406,
     "metadata": {},
     "output_type": "execute_result"
    }
   ],
   "source": [
    "myset = {1,2,3,4,5,1,2,3} # Duplicate elements are not allowed.\n",
    "myset "
   ]
  },
  {
   "cell_type": "code",
   "execution_count": 407,
   "metadata": {
    "ExecuteTime": {
     "end_time": "2024-04-18T10:43:25.624490Z",
     "start_time": "2024-04-18T10:43:25.602387Z"
    }
   },
   "outputs": [
    {
     "data": {
      "text/plain": [
       "{1, 2, 3.4, 11.5}"
      ]
     },
     "execution_count": 407,
     "metadata": {},
     "output_type": "execute_result"
    }
   ],
   "source": [
    "myset1={1,2,3.4,11.5} # set of float number\n",
    "myset1 "
   ]
  },
  {
   "cell_type": "code",
   "execution_count": 408,
   "metadata": {
    "ExecuteTime": {
     "end_time": "2024-04-18T10:43:59.084228Z",
     "start_time": "2024-04-18T10:43:59.062773Z"
    }
   },
   "outputs": [
    {
     "data": {
      "text/plain": [
       "{'Everyone', 'Hello', 'Hi'}"
      ]
     },
     "execution_count": 408,
     "metadata": {},
     "output_type": "execute_result"
    }
   ],
   "source": [
    "myset2={'Hello','Everyone','Hi'} # set of strings\n",
    "myset2 "
   ]
  },
  {
   "cell_type": "code",
   "execution_count": 411,
   "metadata": {
    "ExecuteTime": {
     "end_time": "2024-04-18T10:45:32.191641Z",
     "start_time": "2024-04-18T10:45:32.174305Z"
    }
   },
   "outputs": [
    {
     "data": {
      "text/plain": [
       "{(1, 2, 3), 1, 11.3}"
      ]
     },
     "execution_count": 411,
     "metadata": {},
     "output_type": "execute_result"
    }
   ],
   "source": [
    "myset3 = {1,11.3,(1,2,3)} # set of mixed datatypes\n",
    "myset3"
   ]
  },
  {
   "cell_type": "code",
   "execution_count": 414,
   "metadata": {
    "ExecuteTime": {
     "end_time": "2024-04-18T10:48:04.090274Z",
     "start_time": "2024-04-18T10:48:04.066261Z"
    }
   },
   "outputs": [
    {
     "ename": "TypeError",
     "evalue": "unhashable type: 'set'",
     "output_type": "error",
     "traceback": [
      "\u001b[1;31m---------------------------------------------------------------------------\u001b[0m",
      "\u001b[1;31mTypeError\u001b[0m                                 Traceback (most recent call last)",
      "\u001b[1;32m<ipython-input-414-07eb5850681b>\u001b[0m in \u001b[0;36m<module>\u001b[1;34m\u001b[0m\n\u001b[0;32m      1\u001b[0m \u001b[1;31m# Below will give error\u001b[0m\u001b[1;33m\u001b[0m\u001b[1;33m\u001b[0m\u001b[1;33m\u001b[0m\u001b[0m\n\u001b[1;32m----> 2\u001b[1;33m \u001b[0mmyset3\u001b[0m \u001b[1;33m=\u001b[0m \u001b[1;33m{\u001b[0m\u001b[1;36m1\u001b[0m\u001b[1;33m,\u001b[0m\u001b[1;36m11.3\u001b[0m\u001b[1;33m,\u001b[0m\u001b[1;33m{\u001b[0m\u001b[1;36m1\u001b[0m\u001b[1;33m,\u001b[0m\u001b[1;36m2\u001b[0m\u001b[1;33m,\u001b[0m\u001b[1;36m3\u001b[0m\u001b[1;33m,\u001b[0m\u001b[1;34m'hi'\u001b[0m\u001b[1;33m}\u001b[0m\u001b[1;33m,\u001b[0m\u001b[1;33m(\u001b[0m\u001b[1;36m1\u001b[0m\u001b[1;33m,\u001b[0m\u001b[1;36m2\u001b[0m\u001b[1;33m,\u001b[0m\u001b[1;36m3\u001b[0m\u001b[1;33m)\u001b[0m\u001b[1;33m}\u001b[0m \u001b[1;31m# set doesn't allow mutable items like set\u001b[0m\u001b[1;33m\u001b[0m\u001b[1;33m\u001b[0m\u001b[0m\n\u001b[0m\u001b[0;32m      3\u001b[0m \u001b[0mprint\u001b[0m\u001b[1;33m(\u001b[0m\u001b[0mmyset3\u001b[0m\u001b[1;33m)\u001b[0m\u001b[1;33m\u001b[0m\u001b[1;33m\u001b[0m\u001b[0m\n\u001b[0;32m      4\u001b[0m \u001b[0mmyset3\u001b[0m \u001b[1;33m=\u001b[0m \u001b[1;33m{\u001b[0m\u001b[1;36m10\u001b[0m\u001b[1;33m,\u001b[0m\u001b[1;36m20\u001b[0m\u001b[1;33m,\u001b[0m \u001b[1;34m\"Hola\"\u001b[0m\u001b[1;33m,\u001b[0m \u001b[1;33m[\u001b[0m\u001b[1;36m11\u001b[0m\u001b[1;33m,\u001b[0m \u001b[1;36m22\u001b[0m\u001b[1;33m,\u001b[0m \u001b[1;36m32\u001b[0m\u001b[1;33m]\u001b[0m\u001b[1;33m}\u001b[0m \u001b[1;31m# set doesn't allow mutable items like lists\u001b[0m\u001b[1;33m\u001b[0m\u001b[1;33m\u001b[0m\u001b[0m\n\u001b[0;32m      5\u001b[0m \u001b[0mprint\u001b[0m\u001b[1;33m(\u001b[0m\u001b[0mmyset3\u001b[0m\u001b[1;33m)\u001b[0m\u001b[1;33m\u001b[0m\u001b[1;33m\u001b[0m\u001b[0m\n",
      "\u001b[1;31mTypeError\u001b[0m: unhashable type: 'set'"
     ]
    }
   ],
   "source": [
    "# Below will give error\n",
    "myset3 = {1,11.3,{1,2,3,'hi'},(1,2,3)} # set doesn't allow mutable items like set\n",
    "print(myset3)\n",
    "myset3 = {10,20, \"Hola\", [11, 22, 32]} # set doesn't allow mutable items like lists\n",
    "print(myset3)\n",
    "myset3 = {10,20, \"Hola\", {'name':'Mansi'}} # set doesn't allow mutable items like dictionary\n",
    "print(myset3)"
   ]
  },
  {
   "cell_type": "code",
   "execution_count": 415,
   "metadata": {
    "ExecuteTime": {
     "end_time": "2024-04-18T10:50:03.653844Z",
     "start_time": "2024-04-18T10:50:03.644356Z"
    }
   },
   "outputs": [
    {
     "data": {
      "text/plain": [
       "{}"
      ]
     },
     "execution_count": 415,
     "metadata": {},
     "output_type": "execute_result"
    }
   ],
   "source": [
    "myset4 = {}# create empty set\n",
    "myset4"
   ]
  },
  {
   "cell_type": "code",
   "execution_count": 416,
   "metadata": {
    "ExecuteTime": {
     "end_time": "2024-04-18T10:50:47.403957Z",
     "start_time": "2024-04-18T10:50:47.378958Z"
    }
   },
   "outputs": [
    {
     "data": {
      "text/plain": [
       "{'one', 'three', 'two'}"
      ]
     },
     "execution_count": 416,
     "metadata": {},
     "output_type": "execute_result"
    }
   ],
   "source": [
    "myset5 = set(('one','two','three'))\n",
    "myset5 "
   ]
  },
  {
   "cell_type": "markdown",
   "metadata": {},
   "source": [
    "### Loop through a Set"
   ]
  },
  {
   "cell_type": "code",
   "execution_count": 424,
   "metadata": {
    "ExecuteTime": {
     "end_time": "2024-04-18T10:53:07.283271Z",
     "start_time": "2024-04-18T10:53:07.274760Z"
    }
   },
   "outputs": [
    {
     "data": {
      "text/plain": [
       "{'eight', 'five', 'four', 'one', 'seven', 'six', 'three', 'two'}"
      ]
     },
     "execution_count": 424,
     "metadata": {},
     "output_type": "execute_result"
    }
   ],
   "source": [
    "myset = {'one','two','three','four','five','six','seven','eight'}\n",
    "myset "
   ]
  },
  {
   "cell_type": "code",
   "execution_count": 425,
   "metadata": {
    "ExecuteTime": {
     "end_time": "2024-04-18T10:53:09.811858Z",
     "start_time": "2024-04-18T10:53:09.803840Z"
    }
   },
   "outputs": [
    {
     "name": "stdout",
     "output_type": "stream",
     "text": [
      "three\n",
      "eight\n",
      "five\n",
      "one\n",
      "seven\n",
      "two\n",
      "six\n",
      "four\n"
     ]
    }
   ],
   "source": [
    "for i in myset:\n",
    "    print(i)"
   ]
  },
  {
   "cell_type": "code",
   "execution_count": 426,
   "metadata": {
    "ExecuteTime": {
     "end_time": "2024-04-18T10:53:46.722281Z",
     "start_time": "2024-04-18T10:53:46.709151Z"
    }
   },
   "outputs": [
    {
     "name": "stdout",
     "output_type": "stream",
     "text": [
      "(0, 'three')\n",
      "(1, 'eight')\n",
      "(2, 'five')\n",
      "(3, 'one')\n",
      "(4, 'seven')\n",
      "(5, 'two')\n",
      "(6, 'six')\n",
      "(7, 'four')\n"
     ]
    }
   ],
   "source": [
    "for i in enumerate(myset):\n",
    "    print(i)"
   ]
  },
  {
   "cell_type": "markdown",
   "metadata": {},
   "source": [
    "### Set Membership\n"
   ]
  },
  {
   "cell_type": "code",
   "execution_count": 427,
   "metadata": {
    "ExecuteTime": {
     "end_time": "2024-04-18T10:54:30.704688Z",
     "start_time": "2024-04-18T10:54:30.689539Z"
    }
   },
   "outputs": [
    {
     "data": {
      "text/plain": [
       "{'eight', 'five', 'four', 'one', 'seven', 'six', 'three', 'two'}"
      ]
     },
     "execution_count": 427,
     "metadata": {},
     "output_type": "execute_result"
    }
   ],
   "source": [
    "myset"
   ]
  },
  {
   "cell_type": "code",
   "execution_count": 428,
   "metadata": {
    "ExecuteTime": {
     "end_time": "2024-04-18T10:54:51.152403Z",
     "start_time": "2024-04-18T10:54:51.132553Z"
    }
   },
   "outputs": [
    {
     "data": {
      "text/plain": [
       "True"
      ]
     },
     "execution_count": 428,
     "metadata": {},
     "output_type": "execute_result"
    }
   ],
   "source": [
    "'one' in myset #check if 'one' in myset "
   ]
  },
  {
   "cell_type": "code",
   "execution_count": 429,
   "metadata": {
    "ExecuteTime": {
     "end_time": "2024-04-18T10:55:29.979551Z",
     "start_time": "2024-04-18T10:55:29.958480Z"
    }
   },
   "outputs": [
    {
     "data": {
      "text/plain": [
       "False"
      ]
     },
     "execution_count": 429,
     "metadata": {},
     "output_type": "execute_result"
    }
   ],
   "source": [
    "'ten' in myset # Check if 'ten' exist in the set"
   ]
  },
  {
   "cell_type": "code",
   "execution_count": 430,
   "metadata": {
    "ExecuteTime": {
     "end_time": "2024-04-18T10:56:10.813672Z",
     "start_time": "2024-04-18T10:56:10.804502Z"
    }
   },
   "outputs": [
    {
     "name": "stdout",
     "output_type": "stream",
     "text": [
      "Three is not in set\n"
     ]
    }
   ],
   "source": [
    "if 'Three' in myset:\n",
    "    print('Three is in set')\n",
    "else:\n",
    "    print('Three is not in set')"
   ]
  },
  {
   "cell_type": "markdown",
   "metadata": {},
   "source": [
    "### Add & Remove Items\n"
   ]
  },
  {
   "cell_type": "code",
   "execution_count": 443,
   "metadata": {
    "ExecuteTime": {
     "end_time": "2024-04-18T11:04:24.838192Z",
     "start_time": "2024-04-18T11:04:24.833691Z"
    }
   },
   "outputs": [],
   "source": [
    "myset = {'eight', 'five', 'four', 'one', 'seven', 'six', 'three', 'two'}"
   ]
  },
  {
   "cell_type": "code",
   "execution_count": 444,
   "metadata": {
    "ExecuteTime": {
     "end_time": "2024-04-18T11:04:25.288095Z",
     "start_time": "2024-04-18T11:04:25.268160Z"
    }
   },
   "outputs": [
    {
     "data": {
      "text/plain": [
       "{'NINE', 'eight', 'five', 'four', 'one', 'seven', 'six', 'three', 'two'}"
      ]
     },
     "execution_count": 444,
     "metadata": {},
     "output_type": "execute_result"
    }
   ],
   "source": [
    "myset.add(\"NINE\") # to add single item add method is used\n",
    "myset"
   ]
  },
  {
   "cell_type": "code",
   "execution_count": 445,
   "metadata": {
    "ExecuteTime": {
     "end_time": "2024-04-18T11:04:25.773919Z",
     "start_time": "2024-04-18T11:04:25.765936Z"
    }
   },
   "outputs": [
    {
     "data": {
      "text/plain": [
       "{'Eleven',\n",
       " 'NINE',\n",
       " 'TEN',\n",
       " 'Twelve',\n",
       " 'eight',\n",
       " 'five',\n",
       " 'four',\n",
       " 'one',\n",
       " 'seven',\n",
       " 'six',\n",
       " 'three',\n",
       " 'two'}"
      ]
     },
     "execution_count": 445,
     "metadata": {},
     "output_type": "execute_result"
    }
   ],
   "source": [
    "myset.update(['TEN','Eleven','Twelve']) # to add multiple values in set used list of value \n",
    "myset "
   ]
  },
  {
   "cell_type": "code",
   "execution_count": 446,
   "metadata": {
    "ExecuteTime": {
     "end_time": "2024-04-18T11:04:26.552143Z",
     "start_time": "2024-04-18T11:04:26.533003Z"
    }
   },
   "outputs": [
    {
     "data": {
      "text/plain": [
       "{'E',\n",
       " 'Eleven',\n",
       " 'N',\n",
       " 'NINE',\n",
       " 'T',\n",
       " 'TEN',\n",
       " 'Twelve',\n",
       " 'e',\n",
       " 'eight',\n",
       " 'five',\n",
       " 'four',\n",
       " 'l',\n",
       " 'n',\n",
       " 'one',\n",
       " 'seven',\n",
       " 'six',\n",
       " 'three',\n",
       " 'two',\n",
       " 'v'}"
      ]
     },
     "execution_count": 446,
     "metadata": {},
     "output_type": "execute_result"
    }
   ],
   "source": [
    "myset.update('TEN','Eleven') # It will seperate all letters of string and 'll store as elements\n",
    "myset "
   ]
  },
  {
   "cell_type": "code",
   "execution_count": 447,
   "metadata": {
    "ExecuteTime": {
     "end_time": "2024-04-18T11:04:27.109666Z",
     "start_time": "2024-04-18T11:04:27.090511Z"
    }
   },
   "outputs": [
    {
     "data": {
      "text/plain": [
       "{'E',\n",
       " 'Eleven',\n",
       " 'Hola',\n",
       " 'N',\n",
       " 'NINE',\n",
       " 'T',\n",
       " 'TEN',\n",
       " 'Twelve',\n",
       " 'e',\n",
       " 'eight',\n",
       " 'five',\n",
       " 'four',\n",
       " 'hola',\n",
       " 'l',\n",
       " 'n',\n",
       " 'one',\n",
       " 'seven',\n",
       " 'six',\n",
       " 'three',\n",
       " 'two',\n",
       " 'v'}"
      ]
     },
     "execution_count": 447,
     "metadata": {},
     "output_type": "execute_result"
    }
   ],
   "source": [
    "myset.update(['hola','Hola','hola','Hola']) # duplicate values will not be reflect\n",
    "myset "
   ]
  },
  {
   "cell_type": "code",
   "execution_count": 449,
   "metadata": {
    "ExecuteTime": {
     "end_time": "2024-04-18T11:05:18.362945Z",
     "start_time": "2024-04-18T11:05:18.343947Z"
    }
   },
   "outputs": [],
   "source": [
    "myset.remove('NINE')# to remove item"
   ]
  },
  {
   "cell_type": "code",
   "execution_count": 450,
   "metadata": {
    "ExecuteTime": {
     "end_time": "2024-04-18T11:05:23.826822Z",
     "start_time": "2024-04-18T11:05:23.801386Z"
    }
   },
   "outputs": [
    {
     "data": {
      "text/plain": [
       "{'E',\n",
       " 'Eleven',\n",
       " 'Hola',\n",
       " 'N',\n",
       " 'T',\n",
       " 'TEN',\n",
       " 'Twelve',\n",
       " 'e',\n",
       " 'eight',\n",
       " 'five',\n",
       " 'four',\n",
       " 'hola',\n",
       " 'l',\n",
       " 'n',\n",
       " 'one',\n",
       " 'seven',\n",
       " 'six',\n",
       " 'three',\n",
       " 'two',\n",
       " 'v'}"
      ]
     },
     "execution_count": 450,
     "metadata": {},
     "output_type": "execute_result"
    }
   ],
   "source": [
    "myset"
   ]
  },
  {
   "cell_type": "code",
   "execution_count": 451,
   "metadata": {
    "ExecuteTime": {
     "end_time": "2024-04-18T11:06:06.998204Z",
     "start_time": "2024-04-18T11:06:06.980189Z"
    }
   },
   "outputs": [],
   "source": [
    "myset.discard('TEN')# to discard item from set "
   ]
  },
  {
   "cell_type": "code",
   "execution_count": 452,
   "metadata": {
    "ExecuteTime": {
     "end_time": "2024-04-18T11:06:13.370666Z",
     "start_time": "2024-04-18T11:06:13.363483Z"
    },
    "scrolled": true
   },
   "outputs": [
    {
     "data": {
      "text/plain": [
       "{'E',\n",
       " 'Eleven',\n",
       " 'Hola',\n",
       " 'N',\n",
       " 'T',\n",
       " 'Twelve',\n",
       " 'e',\n",
       " 'eight',\n",
       " 'five',\n",
       " 'four',\n",
       " 'hola',\n",
       " 'l',\n",
       " 'n',\n",
       " 'one',\n",
       " 'seven',\n",
       " 'six',\n",
       " 'three',\n",
       " 'two',\n",
       " 'v'}"
      ]
     },
     "execution_count": 452,
     "metadata": {},
     "output_type": "execute_result"
    }
   ],
   "source": [
    "myset "
   ]
  },
  {
   "cell_type": "code",
   "execution_count": 454,
   "metadata": {
    "ExecuteTime": {
     "end_time": "2024-04-18T11:08:07.408433Z",
     "start_time": "2024-04-18T11:08:07.388589Z"
    }
   },
   "outputs": [
    {
     "data": {
      "text/plain": [
       "set()"
      ]
     },
     "execution_count": 454,
     "metadata": {},
     "output_type": "execute_result"
    }
   ],
   "source": [
    "myset.clear()# it will delete all the elements of the set\n",
    "myset "
   ]
  },
  {
   "cell_type": "code",
   "execution_count": 455,
   "metadata": {
    "ExecuteTime": {
     "end_time": "2024-04-18T11:08:24.414602Z",
     "start_time": "2024-04-18T11:08:24.393694Z"
    }
   },
   "outputs": [
    {
     "ename": "NameError",
     "evalue": "name 'myset' is not defined",
     "output_type": "error",
     "traceback": [
      "\u001b[1;31m---------------------------------------------------------------------------\u001b[0m",
      "\u001b[1;31mNameError\u001b[0m                                 Traceback (most recent call last)",
      "\u001b[1;32m<ipython-input-455-666154a1288f>\u001b[0m in \u001b[0;36m<module>\u001b[1;34m\u001b[0m\n\u001b[0;32m      1\u001b[0m \u001b[1;32mdel\u001b[0m \u001b[0mmyset\u001b[0m \u001b[1;31m# it will delete set\u001b[0m\u001b[1;33m\u001b[0m\u001b[1;33m\u001b[0m\u001b[0m\n\u001b[1;32m----> 2\u001b[1;33m \u001b[0mmyset\u001b[0m\u001b[1;33m\u001b[0m\u001b[1;33m\u001b[0m\u001b[0m\n\u001b[0m",
      "\u001b[1;31mNameError\u001b[0m: name 'myset' is not defined"
     ]
    }
   ],
   "source": [
    "del myset # it will delete set\n",
    "myset"
   ]
  },
  {
   "cell_type": "markdown",
   "metadata": {},
   "source": [
    "### Copy Set\n"
   ]
  },
  {
   "cell_type": "code",
   "execution_count": 456,
   "metadata": {
    "ExecuteTime": {
     "end_time": "2024-04-18T11:08:54.855318Z",
     "start_time": "2024-04-18T11:08:54.832037Z"
    }
   },
   "outputs": [
    {
     "data": {
      "text/plain": [
       "{'eight', 'five', 'four', 'one', 'seven', 'six', 'three', 'two'}"
      ]
     },
     "execution_count": 456,
     "metadata": {},
     "output_type": "execute_result"
    }
   ],
   "source": [
    "myset = {'one', 'two', 'three', 'four', 'five', 'six', 'seven', 'eight'}\n",
    "myset"
   ]
  },
  {
   "cell_type": "code",
   "execution_count": 457,
   "metadata": {
    "ExecuteTime": {
     "end_time": "2024-04-18T11:09:52.512726Z",
     "start_time": "2024-04-18T11:09:52.501091Z"
    }
   },
   "outputs": [
    {
     "data": {
      "text/plain": [
       "{'eight', 'five', 'four', 'one', 'seven', 'six', 'three', 'two'}"
      ]
     },
     "execution_count": 457,
     "metadata": {},
     "output_type": "execute_result"
    }
   ],
   "source": [
    "myset1 = myset # create a new refrence 'myset1' # shallow copy\n",
    "myset1 "
   ]
  },
  {
   "cell_type": "code",
   "execution_count": 458,
   "metadata": {
    "ExecuteTime": {
     "end_time": "2024-04-18T11:17:40.445312Z",
     "start_time": "2024-04-18T11:17:40.428715Z"
    }
   },
   "outputs": [
    {
     "data": {
      "text/plain": [
       "(2110544595208, 2110544595208)"
      ]
     },
     "execution_count": 458,
     "metadata": {},
     "output_type": "execute_result"
    }
   ],
   "source": [
    "id(myset1),id(myset) # pointing to same memory location"
   ]
  },
  {
   "cell_type": "code",
   "execution_count": 459,
   "metadata": {
    "ExecuteTime": {
     "end_time": "2024-04-18T11:18:27.861414Z",
     "start_time": "2024-04-18T11:18:27.840574Z"
    }
   },
   "outputs": [
    {
     "data": {
      "text/plain": [
       "{'eight', 'five', 'four', 'one', 'seven', 'six', 'three', 'two'}"
      ]
     },
     "execution_count": 459,
     "metadata": {},
     "output_type": "execute_result"
    }
   ],
   "source": [
    "my_set = myset.copy()\n",
    "my_set "
   ]
  },
  {
   "cell_type": "code",
   "execution_count": 460,
   "metadata": {
    "ExecuteTime": {
     "end_time": "2024-04-18T11:18:51.574340Z",
     "start_time": "2024-04-18T11:18:51.557282Z"
    }
   },
   "outputs": [
    {
     "data": {
      "text/plain": [
       "(2110542637096, 2110544595208)"
      ]
     },
     "execution_count": 460,
     "metadata": {},
     "output_type": "execute_result"
    }
   ],
   "source": [
    "id(my_set),id(myset) # id's are different in copy method"
   ]
  },
  {
   "cell_type": "code",
   "execution_count": 461,
   "metadata": {
    "ExecuteTime": {
     "end_time": "2024-04-18T11:19:28.768034Z",
     "start_time": "2024-04-18T11:19:28.758046Z"
    }
   },
   "outputs": [],
   "source": [
    "myset.add('TEN')"
   ]
  },
  {
   "cell_type": "code",
   "execution_count": 462,
   "metadata": {
    "ExecuteTime": {
     "end_time": "2024-04-18T11:19:56.378808Z",
     "start_time": "2024-04-18T11:19:56.363943Z"
    }
   },
   "outputs": [
    {
     "name": "stdout",
     "output_type": "stream",
     "text": [
      "{'three', 'eight', 'five', 'one', 'TEN', 'seven', 'two', 'six', 'four'}\n",
      "{'three', 'eight', 'five', 'one', 'TEN', 'seven', 'two', 'six', 'four'}\n",
      "{'three', 'eight', 'five', 'one', 'seven', 'two', 'six', 'four'}\n"
     ]
    }
   ],
   "source": [
    "print(myset)\n",
    "print(myset1) # change in original set also reflect in shallow copy \n",
    "print(my_set) # here there is no update of value 'TEN' in set"
   ]
  },
  {
   "cell_type": "markdown",
   "metadata": {},
   "source": [
    "### Set Operation\n"
   ]
  },
  {
   "cell_type": "markdown",
   "metadata": {},
   "source": [
    "##### Union"
   ]
  },
  {
   "cell_type": "code",
   "execution_count": 464,
   "metadata": {
    "ExecuteTime": {
     "end_time": "2024-04-18T11:27:13.639184Z",
     "start_time": "2024-04-18T11:27:13.614381Z"
    }
   },
   "outputs": [],
   "source": [
    "A = {1,2,3,4,5,6}\n",
    "B = {4,5,6,7,8,9}\n",
    "C = {9,10,11}"
   ]
  },
  {
   "cell_type": "code",
   "execution_count": 465,
   "metadata": {
    "ExecuteTime": {
     "end_time": "2024-04-18T11:27:14.248964Z",
     "start_time": "2024-04-18T11:27:14.231801Z"
    }
   },
   "outputs": [
    {
     "data": {
      "text/plain": [
       "{1, 2, 3, 4, 5, 6, 7, 8, 9}"
      ]
     },
     "execution_count": 465,
     "metadata": {},
     "output_type": "execute_result"
    }
   ],
   "source": [
    "A|B # A union B -it will give only unique values"
   ]
  },
  {
   "cell_type": "code",
   "execution_count": 466,
   "metadata": {
    "ExecuteTime": {
     "end_time": "2024-04-18T11:27:49.442266Z",
     "start_time": "2024-04-18T11:27:49.434129Z"
    }
   },
   "outputs": [
    {
     "data": {
      "text/plain": [
       "{1, 2, 3, 4, 5, 6, 7, 8, 9}"
      ]
     },
     "execution_count": 466,
     "metadata": {},
     "output_type": "execute_result"
    }
   ],
   "source": [
    "A.union(B)"
   ]
  },
  {
   "cell_type": "code",
   "execution_count": 467,
   "metadata": {
    "ExecuteTime": {
     "end_time": "2024-04-18T11:28:21.502139Z",
     "start_time": "2024-04-18T11:28:21.483049Z"
    }
   },
   "outputs": [
    {
     "data": {
      "text/plain": [
       "{1, 2, 3, 4, 5, 6, 7, 8, 9, 10, 11}"
      ]
     },
     "execution_count": 467,
     "metadata": {},
     "output_type": "execute_result"
    }
   ],
   "source": [
    "A.union(B,C) # it will return all the unique values of 3 set"
   ]
  },
  {
   "cell_type": "code",
   "execution_count": 468,
   "metadata": {
    "ExecuteTime": {
     "end_time": "2024-04-18T11:30:20.409891Z",
     "start_time": "2024-04-18T11:30:20.389866Z"
    }
   },
   "outputs": [
    {
     "data": {
      "text/plain": [
       "{1, 2, 3, 4, 5, 6, 7, 8, 9, 10, 11}"
      ]
     },
     "execution_count": 468,
     "metadata": {},
     "output_type": "execute_result"
    }
   ],
   "source": [
    "\"\"\"\n",
    "Updates the set calling the update() method with union of A , B & C. \n",
    "\n",
    "For below example Set A will be updated with union of A,B & C.\n",
    "\"\"\"\n",
    "A.update(B,C)\n",
    "A"
   ]
  },
  {
   "cell_type": "markdown",
   "metadata": {},
   "source": [
    "##### Intersection"
   ]
  },
  {
   "cell_type": "code",
   "execution_count": 483,
   "metadata": {
    "ExecuteTime": {
     "end_time": "2024-04-18T11:35:08.475471Z",
     "start_time": "2024-04-18T11:35:08.466701Z"
    }
   },
   "outputs": [],
   "source": [
    "A = {1,2,3,4,5,6}\n",
    "B = {4,5,6,7,8,9}\n",
    "C = {4,9,10,11}"
   ]
  },
  {
   "cell_type": "code",
   "execution_count": 484,
   "metadata": {
    "ExecuteTime": {
     "end_time": "2024-04-18T11:35:09.003803Z",
     "start_time": "2024-04-18T11:35:08.987674Z"
    }
   },
   "outputs": [
    {
     "data": {
      "text/plain": [
       "{4, 5, 6}"
      ]
     },
     "execution_count": 484,
     "metadata": {},
     "output_type": "execute_result"
    }
   ],
   "source": [
    "A & B  # this will give only common values from both"
   ]
  },
  {
   "cell_type": "code",
   "execution_count": 485,
   "metadata": {
    "ExecuteTime": {
     "end_time": "2024-04-18T11:35:09.594664Z",
     "start_time": "2024-04-18T11:35:09.585386Z"
    }
   },
   "outputs": [
    {
     "data": {
      "text/plain": [
       "{4, 5, 6}"
      ]
     },
     "execution_count": 485,
     "metadata": {},
     "output_type": "execute_result"
    }
   ],
   "source": [
    "A.intersection(B)"
   ]
  },
  {
   "cell_type": "code",
   "execution_count": 486,
   "metadata": {
    "ExecuteTime": {
     "end_time": "2024-04-18T11:35:10.245540Z",
     "start_time": "2024-04-18T11:35:10.229411Z"
    }
   },
   "outputs": [
    {
     "data": {
      "text/plain": [
       "{4}"
      ]
     },
     "execution_count": 486,
     "metadata": {},
     "output_type": "execute_result"
    }
   ],
   "source": [
    "A.intersection(B,C) # there is only one 'four' common value in 3 sets"
   ]
  },
  {
   "cell_type": "code",
   "execution_count": 487,
   "metadata": {
    "ExecuteTime": {
     "end_time": "2024-04-18T11:35:10.992471Z",
     "start_time": "2024-04-18T11:35:10.982977Z"
    }
   },
   "outputs": [
    {
     "data": {
      "text/plain": [
       "{4, 5, 6}"
      ]
     },
     "execution_count": 487,
     "metadata": {},
     "output_type": "execute_result"
    }
   ],
   "source": [
    "\"\"\"\n",
    "Updates the set calling the intersection_update() method with the intersection of sets.\n",
    "\n",
    "For below example Set A will be updated  with the intersection of A & B.\n",
    "\"\"\"\n",
    "A.intersection_update(B)\n",
    "A"
   ]
  },
  {
   "cell_type": "markdown",
   "metadata": {},
   "source": [
    "#### Difference"
   ]
  },
  {
   "cell_type": "code",
   "execution_count": 488,
   "metadata": {
    "ExecuteTime": {
     "end_time": "2024-04-18T11:36:56.102642Z",
     "start_time": "2024-04-18T11:36:56.080198Z"
    }
   },
   "outputs": [],
   "source": [
    "A = {1,2,3,4,5,6}\n",
    "B = {4,5,6,7,8,9}\n",
    "C = {4,9,10,11}"
   ]
  },
  {
   "cell_type": "code",
   "execution_count": 489,
   "metadata": {
    "ExecuteTime": {
     "end_time": "2024-04-18T11:37:09.455677Z",
     "start_time": "2024-04-18T11:37:09.433757Z"
    }
   },
   "outputs": [
    {
     "data": {
      "text/plain": [
       "{1, 2, 3}"
      ]
     },
     "execution_count": 489,
     "metadata": {},
     "output_type": "execute_result"
    }
   ],
   "source": [
    "A - B #returns set of elements which are only in A but not in B"
   ]
  },
  {
   "cell_type": "code",
   "execution_count": 490,
   "metadata": {
    "ExecuteTime": {
     "end_time": "2024-04-18T11:38:34.821321Z",
     "start_time": "2024-04-18T11:38:34.810800Z"
    }
   },
   "outputs": [
    {
     "data": {
      "text/plain": [
       "{7, 8, 9}"
      ]
     },
     "execution_count": 490,
     "metadata": {},
     "output_type": "execute_result"
    }
   ],
   "source": [
    "B - A #returns set of elements which are only in B but not in A"
   ]
  },
  {
   "cell_type": "code",
   "execution_count": 492,
   "metadata": {
    "ExecuteTime": {
     "end_time": "2024-04-18T11:39:19.123220Z",
     "start_time": "2024-04-18T11:39:19.104924Z"
    }
   },
   "outputs": [
    {
     "data": {
      "text/plain": [
       "({1, 2, 3}, {7, 8, 9})"
      ]
     },
     "execution_count": 492,
     "metadata": {},
     "output_type": "execute_result"
    }
   ],
   "source": [
    "A.difference(B),B.difference(A)"
   ]
  },
  {
   "cell_type": "code",
   "execution_count": 493,
   "metadata": {
    "ExecuteTime": {
     "end_time": "2024-04-18T11:39:42.318590Z",
     "start_time": "2024-04-18T11:39:42.308080Z"
    }
   },
   "outputs": [],
   "source": [
    "\"\"\"\n",
    "Updates the set calling the difference_update() method with the difference of sets.\n",
    "\n",
    "For below example Set B will be updated  with the difference of B & A.\n",
    "\"\"\"\n",
    "B.difference_update(A)"
   ]
  },
  {
   "cell_type": "code",
   "execution_count": 494,
   "metadata": {
    "ExecuteTime": {
     "end_time": "2024-04-18T11:39:50.781176Z",
     "start_time": "2024-04-18T11:39:50.767783Z"
    }
   },
   "outputs": [
    {
     "data": {
      "text/plain": [
       "{7, 8, 9}"
      ]
     },
     "execution_count": 494,
     "metadata": {},
     "output_type": "execute_result"
    }
   ],
   "source": [
    "B "
   ]
  },
  {
   "cell_type": "markdown",
   "metadata": {},
   "source": [
    "#### Symmetric Difference\n"
   ]
  },
  {
   "cell_type": "code",
   "execution_count": 495,
   "metadata": {
    "ExecuteTime": {
     "end_time": "2024-04-18T11:41:46.792448Z",
     "start_time": "2024-04-18T11:41:46.770549Z"
    }
   },
   "outputs": [],
   "source": [
    "A = {1,2,3,4,5,6}\n",
    "B = {4,5,6,7,8,9}\n",
    "C = {4,9,10,11}"
   ]
  },
  {
   "cell_type": "code",
   "execution_count": 497,
   "metadata": {
    "ExecuteTime": {
     "end_time": "2024-04-18T11:43:14.607165Z",
     "start_time": "2024-04-18T11:43:14.589216Z"
    }
   },
   "outputs": [
    {
     "data": {
      "text/plain": [
       "{1, 2, 3, 7, 8, 9}"
      ]
     },
     "execution_count": 497,
     "metadata": {},
     "output_type": "execute_result"
    }
   ],
   "source": [
    "A^B #It will return unique values from both set(Excluding INTERSECTION values)"
   ]
  },
  {
   "cell_type": "code",
   "execution_count": 500,
   "metadata": {
    "ExecuteTime": {
     "end_time": "2024-04-18T11:44:08.894971Z",
     "start_time": "2024-04-18T11:44:08.881022Z"
    }
   },
   "outputs": [
    {
     "data": {
      "text/plain": [
       "({1, 2, 3, 7, 8, 9}, {1, 2, 3, 7, 8, 9})"
      ]
     },
     "execution_count": 500,
     "metadata": {},
     "output_type": "execute_result"
    }
   ],
   "source": [
    "A.symmetric_difference(B),B.symmetric_difference(A)"
   ]
  },
  {
   "cell_type": "code",
   "execution_count": 502,
   "metadata": {
    "ExecuteTime": {
     "end_time": "2024-04-18T11:44:55.470737Z",
     "start_time": "2024-04-18T11:44:55.448891Z"
    }
   },
   "outputs": [
    {
     "data": {
      "text/plain": [
       "{1, 2, 3, 4, 5, 6}"
      ]
     },
     "execution_count": 502,
     "metadata": {},
     "output_type": "execute_result"
    }
   ],
   "source": [
    "\"\"\"\n",
    "Updates the set calling the symmetric_difference_update() method with the symmetric difference of sets.\n",
    "\n",
    "For below example Set A will be updated  with the symmetric difference of A & B.\n",
    "\"\"\"\n",
    "\n",
    "A.symmetric_difference_update(B)\n",
    "A\n"
   ]
  },
  {
   "cell_type": "markdown",
   "metadata": {},
   "source": [
    "### Subset , Superset & Disjoint\n"
   ]
  },
  {
   "cell_type": "code",
   "execution_count": 506,
   "metadata": {
    "ExecuteTime": {
     "end_time": "2024-04-18T11:48:45.061725Z",
     "start_time": "2024-04-18T11:48:45.047651Z"
    }
   },
   "outputs": [],
   "source": [
    "A={1,2,3,4,5,6,7,8,9}\n",
    "B={5,6,7,8,9}\n",
    "C={10,20,30,40}"
   ]
  },
  {
   "cell_type": "code",
   "execution_count": 509,
   "metadata": {
    "ExecuteTime": {
     "end_time": "2024-04-18T11:49:21.101521Z",
     "start_time": "2024-04-18T11:49:21.081298Z"
    }
   },
   "outputs": [
    {
     "data": {
      "text/plain": [
       "False"
      ]
     },
     "execution_count": 509,
     "metadata": {},
     "output_type": "execute_result"
    }
   ],
   "source": [
    "A.issubset(B) # Set A is said to be the subset of set B if all elements of A are in B."
   ]
  },
  {
   "cell_type": "code",
   "execution_count": 507,
   "metadata": {
    "ExecuteTime": {
     "end_time": "2024-04-18T11:48:48.909279Z",
     "start_time": "2024-04-18T11:48:48.890188Z"
    }
   },
   "outputs": [
    {
     "data": {
      "text/plain": [
       "True"
      ]
     },
     "execution_count": 507,
     "metadata": {},
     "output_type": "execute_result"
    }
   ],
   "source": [
    "B.issubset(A) # Set B is said to be the subset of set A if all elements of B are in A."
   ]
  },
  {
   "cell_type": "code",
   "execution_count": 514,
   "metadata": {
    "ExecuteTime": {
     "end_time": "2024-04-18T11:51:58.384465Z",
     "start_time": "2024-04-18T11:51:58.362227Z"
    }
   },
   "outputs": [
    {
     "data": {
      "text/plain": [
       "True"
      ]
     },
     "execution_count": 514,
     "metadata": {},
     "output_type": "execute_result"
    }
   ],
   "source": [
    "A.issuperset(B) # Set A is said to be the superset of set B if all elements of B are in A."
   ]
  },
  {
   "cell_type": "code",
   "execution_count": 516,
   "metadata": {
    "ExecuteTime": {
     "end_time": "2024-04-18T11:52:26.003405Z",
     "start_time": "2024-04-18T11:52:25.988382Z"
    }
   },
   "outputs": [
    {
     "data": {
      "text/plain": [
       "False"
      ]
     },
     "execution_count": 516,
     "metadata": {},
     "output_type": "execute_result"
    }
   ],
   "source": [
    "B.issuperset(A) # Set B is said to be the superset of set A if all elements of A are in B."
   ]
  },
  {
   "cell_type": "code",
   "execution_count": 520,
   "metadata": {
    "ExecuteTime": {
     "end_time": "2024-04-18T11:53:31.484460Z",
     "start_time": "2024-04-18T11:53:31.471976Z"
    }
   },
   "outputs": [
    {
     "data": {
      "text/plain": [
       "True"
      ]
     },
     "execution_count": 520,
     "metadata": {},
     "output_type": "execute_result"
    }
   ],
   "source": [
    "A.isdisjoint(C) # Two sets are said to be disjoint sets if they have no common elements"
   ]
  },
  {
   "cell_type": "code",
   "execution_count": 519,
   "metadata": {
    "ExecuteTime": {
     "end_time": "2024-04-18T11:53:29.123357Z",
     "start_time": "2024-04-18T11:53:29.105827Z"
    }
   },
   "outputs": [
    {
     "data": {
      "text/plain": [
       "False"
      ]
     },
     "execution_count": 519,
     "metadata": {},
     "output_type": "execute_result"
    }
   ],
   "source": [
    "A.isdisjoint(B) # Two sets are said to be disjoint sets if they have no common elements"
   ]
  },
  {
   "cell_type": "markdown",
   "metadata": {},
   "source": [
    "### Other Builtin functions of Set\n"
   ]
  },
  {
   "cell_type": "code",
   "execution_count": 521,
   "metadata": {
    "ExecuteTime": {
     "end_time": "2024-04-18T11:54:10.383279Z",
     "start_time": "2024-04-18T11:54:10.367975Z"
    }
   },
   "outputs": [],
   "source": [
    "A = {1,2,3,4,5,6,7,8,9}"
   ]
  },
  {
   "cell_type": "code",
   "execution_count": 522,
   "metadata": {
    "ExecuteTime": {
     "end_time": "2024-04-18T11:54:18.862639Z",
     "start_time": "2024-04-18T11:54:18.840642Z"
    }
   },
   "outputs": [
    {
     "data": {
      "text/plain": [
       "45"
      ]
     },
     "execution_count": 522,
     "metadata": {},
     "output_type": "execute_result"
    }
   ],
   "source": [
    "sum(A)"
   ]
  },
  {
   "cell_type": "code",
   "execution_count": 523,
   "metadata": {
    "ExecuteTime": {
     "end_time": "2024-04-18T11:54:26.760714Z",
     "start_time": "2024-04-18T11:54:26.737531Z"
    }
   },
   "outputs": [
    {
     "data": {
      "text/plain": [
       "9"
      ]
     },
     "execution_count": 523,
     "metadata": {},
     "output_type": "execute_result"
    }
   ],
   "source": [
    "max(A)"
   ]
  },
  {
   "cell_type": "code",
   "execution_count": 524,
   "metadata": {
    "ExecuteTime": {
     "end_time": "2024-04-18T11:54:31.706181Z",
     "start_time": "2024-04-18T11:54:31.692716Z"
    }
   },
   "outputs": [
    {
     "data": {
      "text/plain": [
       "1"
      ]
     },
     "execution_count": 524,
     "metadata": {},
     "output_type": "execute_result"
    }
   ],
   "source": [
    "min(A)"
   ]
  },
  {
   "cell_type": "code",
   "execution_count": 525,
   "metadata": {
    "ExecuteTime": {
     "end_time": "2024-04-18T11:54:36.726657Z",
     "start_time": "2024-04-18T11:54:36.720665Z"
    }
   },
   "outputs": [
    {
     "data": {
      "text/plain": [
       "9"
      ]
     },
     "execution_count": 525,
     "metadata": {},
     "output_type": "execute_result"
    }
   ],
   "source": [
    "len(A)"
   ]
  },
  {
   "cell_type": "code",
   "execution_count": 527,
   "metadata": {
    "ExecuteTime": {
     "end_time": "2024-04-18T11:55:02.587098Z",
     "start_time": "2024-04-18T11:55:02.562826Z"
    }
   },
   "outputs": [
    {
     "data": {
      "text/plain": [
       "[(0, 1), (1, 2), (2, 3), (3, 4), (4, 5), (5, 6), (6, 7), (7, 8), (8, 9)]"
      ]
     },
     "execution_count": 527,
     "metadata": {},
     "output_type": "execute_result"
    }
   ],
   "source": [
    "list(enumerate(A))"
   ]
  },
  {
   "cell_type": "code",
   "execution_count": 528,
   "metadata": {
    "ExecuteTime": {
     "end_time": "2024-04-18T11:56:06.744928Z",
     "start_time": "2024-04-18T11:56:06.734438Z"
    }
   },
   "outputs": [
    {
     "data": {
      "text/plain": [
       "[9, 8, 7, 6, 5, 4, 3, 2, 1]"
      ]
     },
     "execution_count": 528,
     "metadata": {},
     "output_type": "execute_result"
    }
   ],
   "source": [
    "D = sorted(A,reverse=True)\n",
    "D \n"
   ]
  },
  {
   "cell_type": "code",
   "execution_count": 531,
   "metadata": {
    "ExecuteTime": {
     "end_time": "2024-04-18T11:58:29.030354Z",
     "start_time": "2024-04-18T11:58:29.019302Z"
    }
   },
   "outputs": [
    {
     "name": "stdout",
     "output_type": "stream",
     "text": [
      "[1, 2, 3, 4, 5, 6, 7, 8, 9]\n",
      "[1, 2, 3, 4, 5, 6, 7, 8, 9]\n"
     ]
    }
   ],
   "source": [
    "E = sorted(A)\n",
    "print(E)\n",
    "print(sorted(D))"
   ]
  },
  {
   "cell_type": "markdown",
   "metadata": {},
   "source": [
    "# Dictionary"
   ]
  },
  {
   "cell_type": "markdown",
   "metadata": {},
   "source": [
    "Dictionary is a mutable data type in Python.\n",
    "\n",
    "A python dictionary is a collection of key and value pairs separated by a colon (:) & enclosed in curly braces {}.\n",
    "\n",
    "Keys must be unique in a dictionary, duplicate values are allowed."
   ]
  },
  {
   "cell_type": "markdown",
   "metadata": {},
   "source": [
    "#### Create Dictionary"
   ]
  },
  {
   "cell_type": "code",
   "execution_count": 532,
   "metadata": {
    "ExecuteTime": {
     "end_time": "2024-04-18T12:40:56.125640Z",
     "start_time": "2024-04-18T12:40:56.102898Z"
    }
   },
   "outputs": [
    {
     "data": {
      "text/plain": [
       "{}"
      ]
     },
     "execution_count": 532,
     "metadata": {},
     "output_type": "execute_result"
    }
   ],
   "source": [
    "mydict = dict() #empty dictionary\n",
    "mydict "
   ]
  },
  {
   "cell_type": "code",
   "execution_count": 533,
   "metadata": {
    "ExecuteTime": {
     "end_time": "2024-04-18T12:41:35.701760Z",
     "start_time": "2024-04-18T12:41:35.690319Z"
    }
   },
   "outputs": [
    {
     "data": {
      "text/plain": [
       "{}"
      ]
     },
     "execution_count": 533,
     "metadata": {},
     "output_type": "execute_result"
    }
   ],
   "source": [
    "mydict = {} #empty dictionary \n",
    "mydict "
   ]
  },
  {
   "cell_type": "code",
   "execution_count": 534,
   "metadata": {
    "ExecuteTime": {
     "end_time": "2024-04-18T12:42:45.109445Z",
     "start_time": "2024-04-18T12:42:45.089430Z"
    }
   },
   "outputs": [
    {
     "data": {
      "text/plain": [
       "{1: 'One', 2: 'Two'}"
      ]
     },
     "execution_count": 534,
     "metadata": {},
     "output_type": "execute_result"
    }
   ],
   "source": [
    "mydict = {1:'One',2:'Two'} # Dictionary with integer keys\n",
    "mydict"
   ]
  },
  {
   "cell_type": "code",
   "execution_count": 538,
   "metadata": {
    "ExecuteTime": {
     "end_time": "2024-04-18T12:44:03.092297Z",
     "start_time": "2024-04-18T12:44:03.085307Z"
    }
   },
   "outputs": [
    {
     "data": {
      "text/plain": [
       "{1: 'One', 2: 'Two'}"
      ]
     },
     "execution_count": 538,
     "metadata": {},
     "output_type": "execute_result"
    }
   ],
   "source": [
    "mydict = dict({1:'One',2:'Two'}) #creat dictioany using dict()\n",
    "mydict"
   ]
  },
  {
   "cell_type": "code",
   "execution_count": 539,
   "metadata": {
    "ExecuteTime": {
     "end_time": "2024-04-18T12:45:00.787413Z",
     "start_time": "2024-04-18T12:45:00.770832Z"
    }
   },
   "outputs": [
    {
     "data": {
      "text/plain": [
       "{'A': 'One', 'B': 'Two', 'C': 'Three'}"
      ]
     },
     "execution_count": 539,
     "metadata": {},
     "output_type": "execute_result"
    }
   ],
   "source": [
    "#dictionary with character keys\n",
    "mydict = {'A':'One','B':'Two','C':'Three'}\n",
    "mydict\n"
   ]
  },
  {
   "cell_type": "code",
   "execution_count": 540,
   "metadata": {
    "ExecuteTime": {
     "end_time": "2024-04-18T12:45:44.693898Z",
     "start_time": "2024-04-18T12:45:44.683349Z"
    }
   },
   "outputs": [
    {
     "data": {
      "text/plain": [
       "dict_keys(['A', 'B', 'C'])"
      ]
     },
     "execution_count": 540,
     "metadata": {},
     "output_type": "execute_result"
    }
   ],
   "source": [
    "mydict.keys() # returns the dictionary keys using keys() method\n"
   ]
  },
  {
   "cell_type": "code",
   "execution_count": 541,
   "metadata": {
    "ExecuteTime": {
     "end_time": "2024-04-18T12:46:21.386883Z",
     "start_time": "2024-04-18T12:46:21.375289Z"
    }
   },
   "outputs": [
    {
     "data": {
      "text/plain": [
       "dict_values(['One', 'Two', 'Three'])"
      ]
     },
     "execution_count": 541,
     "metadata": {},
     "output_type": "execute_result"
    }
   ],
   "source": [
    "mydict.values() #returns the dictionary using values() method"
   ]
  },
  {
   "cell_type": "code",
   "execution_count": 542,
   "metadata": {
    "ExecuteTime": {
     "end_time": "2024-04-18T12:47:12.297298Z",
     "start_time": "2024-04-18T12:47:12.291797Z"
    }
   },
   "outputs": [
    {
     "data": {
      "text/plain": [
       "dict_items([('A', 'One'), ('B', 'Two'), ('C', 'Three')])"
      ]
     },
     "execution_count": 542,
     "metadata": {},
     "output_type": "execute_result"
    }
   ],
   "source": [
    "mydict.items() #Access each key-value pair in list form using item() method"
   ]
  },
  {
   "cell_type": "code",
   "execution_count": 543,
   "metadata": {
    "ExecuteTime": {
     "end_time": "2024-04-18T12:49:05.589487Z",
     "start_time": "2024-04-18T12:49:05.570038Z"
    }
   },
   "outputs": [],
   "source": [
    "#Dictionaries with mixed keys\n",
    "mydict = {1:'One','A':'one'}"
   ]
  },
  {
   "cell_type": "code",
   "execution_count": 544,
   "metadata": {
    "ExecuteTime": {
     "end_time": "2024-04-18T12:49:10.309183Z",
     "start_time": "2024-04-18T12:49:10.299739Z"
    }
   },
   "outputs": [
    {
     "data": {
      "text/plain": [
       "{1: 'One', 'A': 'one'}"
      ]
     },
     "execution_count": 544,
     "metadata": {},
     "output_type": "execute_result"
    }
   ],
   "source": [
    "mydict"
   ]
  },
  {
   "cell_type": "code",
   "execution_count": 545,
   "metadata": {
    "ExecuteTime": {
     "end_time": "2024-04-18T12:50:30.664648Z",
     "start_time": "2024-04-18T12:50:30.634710Z"
    }
   },
   "outputs": [
    {
     "data": {
      "text/plain": [
       "{1: 'One', 2: 'Two', 'Names': ['Mansi', 'Ruchi', 'Yogi']}"
      ]
     },
     "execution_count": 545,
     "metadata": {},
     "output_type": "execute_result"
    }
   ],
   "source": [
    "mydict = {1:'One',2:'Two','Names':['Mansi','Ruchi','Yogi']}\n",
    "mydict "
   ]
  },
  {
   "cell_type": "code",
   "execution_count": 546,
   "metadata": {
    "ExecuteTime": {
     "end_time": "2024-04-18T12:53:06.042131Z",
     "start_time": "2024-04-18T12:53:06.028000Z"
    }
   },
   "outputs": [
    {
     "data": {
      "text/plain": [
       "{'c': None, 'a': None, 'd': None, 'b': None}"
      ]
     },
     "execution_count": 546,
     "metadata": {},
     "output_type": "execute_result"
    }
   ],
   "source": [
    "#Create a dictionary from a sequence of keys with values using fromkeys() method\n",
    "keys = {'a','b','c','d'}\n",
    "mydict1 = dict.fromkeys(keys)\n",
    "mydict1 \n"
   ]
  },
  {
   "cell_type": "code",
   "execution_count": 549,
   "metadata": {
    "ExecuteTime": {
     "end_time": "2024-04-18T12:54:12.015432Z",
     "start_time": "2024-04-18T12:54:12.000379Z"
    }
   },
   "outputs": [
    {
     "data": {
      "text/plain": [
       "{'c': [10, 20], 'a': [10, 20], 'd': [10, 20], 'b': [10, 20]}"
      ]
     },
     "execution_count": 549,
     "metadata": {},
     "output_type": "execute_result"
    }
   ],
   "source": [
    "#Create a dictionary from a sequence of keys with values using fromkeys() method\n",
    "keys = {'a','b','c','d'}\n",
    "values = [10,20]\n",
    "mydict1 = dict.fromkeys(keys,values)\n",
    "mydict1 \n"
   ]
  },
  {
   "cell_type": "code",
   "execution_count": 550,
   "metadata": {
    "ExecuteTime": {
     "end_time": "2024-04-18T12:54:53.525796Z",
     "start_time": "2024-04-18T12:54:53.516796Z"
    }
   },
   "outputs": [
    {
     "data": {
      "text/plain": [
       "{'c': [10, 20, 40], 'a': [10, 20, 40], 'd': [10, 20, 40], 'b': [10, 20, 40]}"
      ]
     },
     "execution_count": 550,
     "metadata": {},
     "output_type": "execute_result"
    }
   ],
   "source": [
    "values.append(40)\n",
    "mydict1 "
   ]
  },
  {
   "cell_type": "markdown",
   "metadata": {},
   "source": [
    "#### Accessing Items\n"
   ]
  },
  {
   "cell_type": "code",
   "execution_count": 561,
   "metadata": {
    "ExecuteTime": {
     "end_time": "2024-04-18T12:57:33.600259Z",
     "start_time": "2024-04-18T12:57:33.592761Z"
    }
   },
   "outputs": [
    {
     "data": {
      "text/plain": [
       "{1: 'one', 2: 'Two', 3: 'Three', 4: 'Four'}"
      ]
     },
     "execution_count": 561,
     "metadata": {},
     "output_type": "execute_result"
    }
   ],
   "source": [
    "mydict = {1:'one',2:'Two',3:'Three',4:'Four'}\n",
    "mydict "
   ]
  },
  {
   "cell_type": "code",
   "execution_count": 560,
   "metadata": {
    "ExecuteTime": {
     "end_time": "2024-04-18T12:57:30.374903Z",
     "start_time": "2024-04-18T12:57:30.366376Z"
    }
   },
   "outputs": [
    {
     "data": {
      "text/plain": [
       "'one'"
      ]
     },
     "execution_count": 560,
     "metadata": {},
     "output_type": "execute_result"
    }
   ],
   "source": [
    "mydict[1] # pass the key value in brackets and it will return value of that key"
   ]
  },
  {
   "cell_type": "code",
   "execution_count": 562,
   "metadata": {
    "ExecuteTime": {
     "end_time": "2024-04-18T12:58:38.246264Z",
     "start_time": "2024-04-18T12:58:38.228448Z"
    }
   },
   "outputs": [
    {
     "data": {
      "text/plain": [
       "'one'"
      ]
     },
     "execution_count": 562,
     "metadata": {},
     "output_type": "execute_result"
    }
   ],
   "source": [
    "mydict.get(1) # access value using get method"
   ]
  },
  {
   "cell_type": "code",
   "execution_count": 563,
   "metadata": {
    "ExecuteTime": {
     "end_time": "2024-04-18T12:59:38.221094Z",
     "start_time": "2024-04-18T12:59:38.203127Z"
    }
   },
   "outputs": [],
   "source": [
    "mydict2 = {'Name':'Mansi','Surname':'Patel','Job':'DS'}\n"
   ]
  },
  {
   "cell_type": "code",
   "execution_count": 564,
   "metadata": {
    "ExecuteTime": {
     "end_time": "2024-04-18T12:59:46.307549Z",
     "start_time": "2024-04-18T12:59:46.288770Z"
    }
   },
   "outputs": [
    {
     "data": {
      "text/plain": [
       "'Mansi'"
      ]
     },
     "execution_count": 564,
     "metadata": {},
     "output_type": "execute_result"
    }
   ],
   "source": [
    "mydict2['Name']"
   ]
  },
  {
   "cell_type": "code",
   "execution_count": 565,
   "metadata": {
    "ExecuteTime": {
     "end_time": "2024-04-18T13:00:02.432378Z",
     "start_time": "2024-04-18T13:00:02.417901Z"
    }
   },
   "outputs": [
    {
     "data": {
      "text/plain": [
       "'DS'"
      ]
     },
     "execution_count": 565,
     "metadata": {},
     "output_type": "execute_result"
    }
   ],
   "source": [
    "mydict2.get('Job')"
   ]
  },
  {
   "cell_type": "markdown",
   "metadata": {},
   "source": [
    "#### Add,Remove and Change Item"
   ]
  },
  {
   "cell_type": "code",
   "execution_count": 573,
   "metadata": {
    "ExecuteTime": {
     "end_time": "2024-04-18T13:07:32.979517Z",
     "start_time": "2024-04-18T13:07:32.954140Z"
    }
   },
   "outputs": [
    {
     "data": {
      "text/plain": [
       "{'Name': 'Mansi', 'Surname': 'Patel', 'Job': 'DS', 'city': 'Valencia'}"
      ]
     },
     "execution_count": 573,
     "metadata": {},
     "output_type": "execute_result"
    }
   ],
   "source": [
    "mydict2"
   ]
  },
  {
   "cell_type": "code",
   "execution_count": 574,
   "metadata": {
    "ExecuteTime": {
     "end_time": "2024-04-18T13:07:39.202199Z",
     "start_time": "2024-04-18T13:07:39.186689Z"
    }
   },
   "outputs": [
    {
     "data": {
      "text/plain": [
       "{'Name': 'Mansi',\n",
       " 'Surname': 'Patel',\n",
       " 'Job': 'DS',\n",
       " 'city': 'Valencia',\n",
       " 'Address': 'Ahmedabad'}"
      ]
     },
     "execution_count": 574,
     "metadata": {},
     "output_type": "execute_result"
    }
   ],
   "source": [
    "mydict2['Address'] = 'Ahmedabad' #Adding to dictionary item\n",
    "mydict2"
   ]
  },
  {
   "cell_type": "code",
   "execution_count": 577,
   "metadata": {
    "ExecuteTime": {
     "end_time": "2024-04-18T13:08:18.973592Z",
     "start_time": "2024-04-18T13:08:18.953469Z"
    }
   },
   "outputs": [
    {
     "data": {
      "text/plain": [
       "{'Name': 'Mansi',\n",
       " 'Surname': 'Patel',\n",
       " 'Job': 'DS',\n",
       " 'city': 'Valencia',\n",
       " 'Address': 'Spain',\n",
       " 'Addrs': 'spin'}"
      ]
     },
     "execution_count": 577,
     "metadata": {},
     "output_type": "execute_result"
    }
   ],
   "source": [
    "dict1 = {'Address':'Spain'} \n",
    "mydict2.update(dict1) # updateing Address Ahmedabad to Spain\n",
    "mydict2 "
   ]
  },
  {
   "cell_type": "code",
   "execution_count": 578,
   "metadata": {
    "ExecuteTime": {
     "end_time": "2024-04-18T13:08:24.448106Z",
     "start_time": "2024-04-18T13:08:24.441510Z"
    }
   },
   "outputs": [
    {
     "data": {
      "text/plain": [
       "{'Name': 'Mansi',\n",
       " 'Surname': 'Patel',\n",
       " 'Job': 'DS',\n",
       " 'city': 'Valencia',\n",
       " 'Address': 'Spain',\n",
       " 'Addrs': 'spin'}"
      ]
     },
     "execution_count": 578,
     "metadata": {},
     "output_type": "execute_result"
    }
   ],
   "source": [
    "mydict2['city'] ='Valencia'  # adding city\n",
    "mydict2 "
   ]
  },
  {
   "cell_type": "code",
   "execution_count": 579,
   "metadata": {
    "ExecuteTime": {
     "end_time": "2024-04-18T13:08:37.750663Z",
     "start_time": "2024-04-18T13:08:37.741717Z"
    }
   },
   "outputs": [
    {
     "data": {
      "text/plain": [
       "{'Name': 'Mansi',\n",
       " 'Surname': 'Patel',\n",
       " 'Job': 'DS',\n",
       " 'city': 'Valencia',\n",
       " 'Address': 'Spain'}"
      ]
     },
     "execution_count": 579,
     "metadata": {},
     "output_type": "execute_result"
    }
   ],
   "source": [
    "#removing item using pop method\n",
    "mydict2.pop('Addrs')\n",
    "mydict2 "
   ]
  },
  {
   "cell_type": "code",
   "execution_count": 580,
   "metadata": {
    "ExecuteTime": {
     "end_time": "2024-04-18T13:09:00.552180Z",
     "start_time": "2024-04-18T13:09:00.545194Z"
    }
   },
   "outputs": [
    {
     "data": {
      "text/plain": [
       "('Address', 'Spain')"
      ]
     },
     "execution_count": 580,
     "metadata": {},
     "output_type": "execute_result"
    }
   ],
   "source": [
    "mydict2.popitem() #A random item is removed\n",
    "mydict2 "
   ]
  },
  {
   "cell_type": "code",
   "execution_count": 581,
   "metadata": {
    "ExecuteTime": {
     "end_time": "2024-04-18T13:09:16.645366Z",
     "start_time": "2024-04-18T13:09:16.629001Z"
    }
   },
   "outputs": [
    {
     "data": {
      "text/plain": [
       "{'Name': 'Mansi', 'Surname': 'Patel', 'Job': 'DS', 'city': 'Valencia'}"
      ]
     },
     "execution_count": 581,
     "metadata": {},
     "output_type": "execute_result"
    }
   ],
   "source": [
    "mydict2 "
   ]
  },
  {
   "cell_type": "code",
   "execution_count": 583,
   "metadata": {
    "ExecuteTime": {
     "end_time": "2024-04-18T13:10:53.650835Z",
     "start_time": "2024-04-18T13:10:53.638307Z"
    }
   },
   "outputs": [
    {
     "data": {
      "text/plain": [
       "{'Name': 'Mansi', 'Surname': 'Patel', 'Job': 'DS'}"
      ]
     },
     "execution_count": 583,
     "metadata": {},
     "output_type": "execute_result"
    }
   ],
   "source": [
    "# Removing item using del method\n",
    "del(mydict2['city'])\n",
    "mydict2 "
   ]
  },
  {
   "cell_type": "code",
   "execution_count": 584,
   "metadata": {
    "ExecuteTime": {
     "end_time": "2024-04-18T13:11:42.648647Z",
     "start_time": "2024-04-18T13:11:42.642656Z"
    }
   },
   "outputs": [],
   "source": [
    "#Delete all items of the dictionary using clear method\n",
    "mydict2.clear()"
   ]
  },
  {
   "cell_type": "code",
   "execution_count": 585,
   "metadata": {
    "ExecuteTime": {
     "end_time": "2024-04-18T13:12:04.748010Z",
     "start_time": "2024-04-18T13:12:04.726825Z"
    }
   },
   "outputs": [
    {
     "data": {
      "text/plain": [
       "{}"
      ]
     },
     "execution_count": 585,
     "metadata": {},
     "output_type": "execute_result"
    }
   ],
   "source": [
    "mydict2 "
   ]
  },
  {
   "cell_type": "code",
   "execution_count": 586,
   "metadata": {
    "ExecuteTime": {
     "end_time": "2024-04-18T13:12:25.522768Z",
     "start_time": "2024-04-18T13:12:25.509530Z"
    }
   },
   "outputs": [],
   "source": [
    "# delete the dictionary object\n",
    "del mydict2 "
   ]
  },
  {
   "cell_type": "code",
   "execution_count": 588,
   "metadata": {
    "ExecuteTime": {
     "end_time": "2024-04-18T13:13:35.643842Z",
     "start_time": "2024-04-18T13:13:35.629343Z"
    }
   },
   "outputs": [
    {
     "ename": "NameError",
     "evalue": "name 'mydict2' is not defined",
     "output_type": "error",
     "traceback": [
      "\u001b[1;31m---------------------------------------------------------------------------\u001b[0m",
      "\u001b[1;31mNameError\u001b[0m                                 Traceback (most recent call last)",
      "\u001b[1;32m<ipython-input-588-a0f7474bc1fd>\u001b[0m in \u001b[0;36m<module>\u001b[1;34m\u001b[0m\n\u001b[1;32m----> 1\u001b[1;33m \u001b[0mmydict2\u001b[0m\u001b[1;33m\u001b[0m\u001b[1;33m\u001b[0m\u001b[0m\n\u001b[0m",
      "\u001b[1;31mNameError\u001b[0m: name 'mydict2' is not defined"
     ]
    }
   ],
   "source": [
    "mydict2 "
   ]
  },
  {
   "cell_type": "markdown",
   "metadata": {},
   "source": [
    "#### Copy Dictionary"
   ]
  },
  {
   "cell_type": "code",
   "execution_count": 589,
   "metadata": {
    "ExecuteTime": {
     "end_time": "2024-04-18T13:14:07.452818Z",
     "start_time": "2024-04-18T13:14:07.436739Z"
    }
   },
   "outputs": [],
   "source": [
    "mydict = {'Name': 'Mansi', 'Surname': 'Patel', 'Job': 'DS', 'city': 'Valencia'}"
   ]
  },
  {
   "cell_type": "code",
   "execution_count": 591,
   "metadata": {
    "ExecuteTime": {
     "end_time": "2024-04-18T13:14:51.060670Z",
     "start_time": "2024-04-18T13:14:51.045715Z"
    }
   },
   "outputs": [
    {
     "data": {
      "text/plain": [
       "(2110507992152, 2110507992152)"
      ]
     },
     "execution_count": 591,
     "metadata": {},
     "output_type": "execute_result"
    }
   ],
   "source": [
    "mydict1 = mydict #shallow copy - Memory location are same for both dictionaries\n",
    "id(mydict) , id(mydict1)"
   ]
  },
  {
   "cell_type": "code",
   "execution_count": 592,
   "metadata": {
    "ExecuteTime": {
     "end_time": "2024-04-18T13:15:59.689771Z",
     "start_time": "2024-04-18T13:15:59.672288Z"
    }
   },
   "outputs": [
    {
     "data": {
      "text/plain": [
       "(2110507992152, 2110535609864)"
      ]
     },
     "execution_count": 592,
     "metadata": {},
     "output_type": "execute_result"
    }
   ],
   "source": [
    "mydict2 = mydict.copy()\n",
    "id(mydict) , id(mydict2) #Address are different"
   ]
  },
  {
   "cell_type": "code",
   "execution_count": 594,
   "metadata": {
    "ExecuteTime": {
     "end_time": "2024-04-18T13:17:36.853068Z",
     "start_time": "2024-04-18T13:17:36.831510Z"
    }
   },
   "outputs": [
    {
     "name": "stdout",
     "output_type": "stream",
     "text": [
      "{'Name': 'Mansi', 'Surname': 'Patel', 'Job': 'DS', 'city': 'Valencia', 'Address': 'Spain'}\n",
      "{'Name': 'Mansi', 'Surname': 'Patel', 'Job': 'DS', 'city': 'Valencia', 'Address': 'Spain'}\n",
      "{'Name': 'Mansi', 'Surname': 'Patel', 'Job': 'DS', 'city': 'Valencia'}\n"
     ]
    }
   ],
   "source": [
    "mydict['Address'] = 'Spain'\n",
    "print(mydict)\n",
    "print(mydict1)\n",
    "print(mydict2)"
   ]
  },
  {
   "cell_type": "markdown",
   "metadata": {},
   "source": [
    "#### Loop through a Dictionary\n"
   ]
  },
  {
   "cell_type": "code",
   "execution_count": 595,
   "metadata": {
    "ExecuteTime": {
     "end_time": "2024-04-18T13:21:34.118066Z",
     "start_time": "2024-04-18T13:21:34.096996Z"
    }
   },
   "outputs": [
    {
     "data": {
      "text/plain": [
       "{'Name': 'Mansi',\n",
       " 'Surname': 'Patel',\n",
       " 'Job': 'DS',\n",
       " 'city': 'Valencia',\n",
       " 'Address': 'Spain'}"
      ]
     },
     "execution_count": 595,
     "metadata": {},
     "output_type": "execute_result"
    }
   ],
   "source": [
    "mydict "
   ]
  },
  {
   "cell_type": "code",
   "execution_count": 597,
   "metadata": {
    "ExecuteTime": {
     "end_time": "2024-04-18T13:22:16.251827Z",
     "start_time": "2024-04-18T13:22:16.231826Z"
    }
   },
   "outputs": [
    {
     "name": "stdout",
     "output_type": "stream",
     "text": [
      "Name : Mansi\n",
      "Surname : Patel\n",
      "Job : DS\n",
      "city : Valencia\n",
      "Address : Spain\n"
     ]
    }
   ],
   "source": [
    "for i in mydict:\n",
    "    print(i) # This 'll return only keys"
   ]
  },
  {
   "cell_type": "code",
   "execution_count": 598,
   "metadata": {
    "ExecuteTime": {
     "end_time": "2024-04-18T13:23:34.688527Z",
     "start_time": "2024-04-18T13:23:34.681949Z"
    }
   },
   "outputs": [
    {
     "name": "stdout",
     "output_type": "stream",
     "text": [
      "Name : Mansi\n",
      "Surname : Patel\n",
      "Job : DS\n",
      "city : Valencia\n",
      "Address : Spain\n"
     ]
    }
   ],
   "source": [
    "for i in mydict:\n",
    "    print(i,':',mydict[i]) #This 'll return key-value pair'"
   ]
  },
  {
   "cell_type": "code",
   "execution_count": 603,
   "metadata": {
    "ExecuteTime": {
     "end_time": "2024-04-18T13:27:13.696100Z",
     "start_time": "2024-04-18T13:27:13.672045Z"
    }
   },
   "outputs": [
    {
     "name": "stdout",
     "output_type": "stream",
     "text": [
      "Mansi\n",
      "Patel\n",
      "DS\n",
      "Valencia\n",
      "Spain\n"
     ]
    }
   ],
   "source": [
    "for i in mydict:\n",
    "    print(mydict[i]) # This 'll return only values"
   ]
  },
  {
   "cell_type": "markdown",
   "metadata": {},
   "source": [
    "#### Dictionary Membership"
   ]
  },
  {
   "cell_type": "code",
   "execution_count": 600,
   "metadata": {
    "ExecuteTime": {
     "end_time": "2024-04-18T13:26:11.166608Z",
     "start_time": "2024-04-18T13:26:11.147421Z"
    }
   },
   "outputs": [
    {
     "data": {
      "text/plain": [
       "{'Name': 'Mansi',\n",
       " 'Surname': 'Patel',\n",
       " 'Job': 'DS',\n",
       " 'city': 'Valencia',\n",
       " 'Address': 'Spain'}"
      ]
     },
     "execution_count": 600,
     "metadata": {},
     "output_type": "execute_result"
    }
   ],
   "source": [
    "mydict"
   ]
  },
  {
   "cell_type": "code",
   "execution_count": 601,
   "metadata": {
    "ExecuteTime": {
     "end_time": "2024-04-18T13:26:21.793259Z",
     "start_time": "2024-04-18T13:26:21.783025Z"
    }
   },
   "outputs": [
    {
     "data": {
      "text/plain": [
       "True"
      ]
     },
     "execution_count": 601,
     "metadata": {},
     "output_type": "execute_result"
    }
   ],
   "source": [
    "'Name' in mydict "
   ]
  },
  {
   "cell_type": "code",
   "execution_count": 604,
   "metadata": {
    "ExecuteTime": {
     "end_time": "2024-04-18T13:27:25.977424Z",
     "start_time": "2024-04-18T13:27:25.956339Z"
    }
   },
   "outputs": [
    {
     "data": {
      "text/plain": [
       "False"
      ]
     },
     "execution_count": 604,
     "metadata": {},
     "output_type": "execute_result"
    }
   ],
   "source": [
    "'Mansi' in mydict # Values can't be find using membership, only keys can be find"
   ]
  },
  {
   "cell_type": "code",
   "execution_count": 606,
   "metadata": {
    "ExecuteTime": {
     "end_time": "2024-04-18T13:29:37.277928Z",
     "start_time": "2024-04-18T13:29:37.257343Z"
    }
   },
   "outputs": [
    {
     "data": {
      "text/plain": [
       "False"
      ]
     },
     "execution_count": 606,
     "metadata": {},
     "output_type": "execute_result"
    }
   ],
   "source": [
    "'DOJ' in mydict #'DOJ' key is not present so answer is False"
   ]
  },
  {
   "cell_type": "markdown",
   "metadata": {},
   "source": [
    "### Extra "
   ]
  },
  {
   "cell_type": "code",
   "execution_count": 607,
   "metadata": {
    "ExecuteTime": {
     "end_time": "2024-04-18T13:31:31.435579Z",
     "start_time": "2024-04-18T13:31:31.415302Z"
    }
   },
   "outputs": [
    {
     "data": {
      "text/plain": [
       "['__class__',\n",
       " '__contains__',\n",
       " '__delattr__',\n",
       " '__delitem__',\n",
       " '__dir__',\n",
       " '__doc__',\n",
       " '__eq__',\n",
       " '__format__',\n",
       " '__ge__',\n",
       " '__getattribute__',\n",
       " '__getitem__',\n",
       " '__gt__',\n",
       " '__hash__',\n",
       " '__init__',\n",
       " '__init_subclass__',\n",
       " '__iter__',\n",
       " '__le__',\n",
       " '__len__',\n",
       " '__lt__',\n",
       " '__ne__',\n",
       " '__new__',\n",
       " '__reduce__',\n",
       " '__reduce_ex__',\n",
       " '__repr__',\n",
       " '__setattr__',\n",
       " '__setitem__',\n",
       " '__sizeof__',\n",
       " '__str__',\n",
       " '__subclasshook__',\n",
       " 'clear',\n",
       " 'copy',\n",
       " 'fromkeys',\n",
       " 'get',\n",
       " 'items',\n",
       " 'keys',\n",
       " 'pop',\n",
       " 'popitem',\n",
       " 'setdefault',\n",
       " 'update',\n",
       " 'values']"
      ]
     },
     "execution_count": 607,
     "metadata": {},
     "output_type": "execute_result"
    }
   ],
   "source": [
    "dir(dict)"
   ]
  },
  {
   "cell_type": "markdown",
   "metadata": {},
   "source": [
    "#### ALL/ANY"
   ]
  },
  {
   "cell_type": "code",
   "execution_count": null,
   "metadata": {},
   "outputs": [],
   "source": []
  },
  {
   "cell_type": "markdown",
   "metadata": {},
   "source": [
    "#### Dictionary Comprehence"
   ]
  },
  {
   "cell_type": "code",
   "execution_count": null,
   "metadata": {},
   "outputs": [],
   "source": []
  },
  {
   "cell_type": "code",
   "execution_count": null,
   "metadata": {},
   "outputs": [],
   "source": []
  }
 ],
 "metadata": {
  "kernelspec": {
   "display_name": "Python 3",
   "language": "python",
   "name": "python3"
  },
  "language_info": {
   "codemirror_mode": {
    "name": "ipython",
    "version": 3
   },
   "file_extension": ".py",
   "mimetype": "text/x-python",
   "name": "python",
   "nbconvert_exporter": "python",
   "pygments_lexer": "ipython3",
   "version": "3.7.6"
  }
 },
 "nbformat": 4,
 "nbformat_minor": 4
}
